{
 "cells": [
  {
   "attachments": {},
   "cell_type": "markdown",
   "metadata": {},
   "source": [
    "# 4주차 스터디 과제\n",
    "\n",
    "* 머신러닝 과정의 시작부터 끝까지!\n",
    "\n",
    "* 데이터를 불러와 들여다 보고, 전처리를 수행해 봅시다\n",
    "\n",
    "Made by 35기 코딩부장 류제현"
   ]
  },
  {
   "cell_type": "code",
   "execution_count": null,
   "metadata": {},
   "outputs": [],
   "source": [
    "import numpy as np\n",
    "import pandas as pd"
   ]
  },
  {
   "attachments": {},
   "cell_type": "markdown",
   "metadata": {},
   "source": [
    "### 문제풀이 하실 때 주석 꼼꼼히 확인 부탁드립니다"
   ]
  },
  {
   "attachments": {},
   "cell_type": "markdown",
   "metadata": {},
   "source": [
    "**1. 우선 사용할 CSV파일 2개를 불러오겠습니다**\n",
    "\n",
    "* 자기주식처분_코스닥 / 자기주식처분_코스피 데이터를 불러오겠습니다"
   ]
  },
  {
   "cell_type": "code",
   "execution_count": null,
   "metadata": {},
   "outputs": [],
   "source": [
    "# 코드\n"
   ]
  },
  {
   "attachments": {},
   "cell_type": "markdown",
   "metadata": {},
   "source": [
    "**2. 파일 두 개를 하나의 데이터프레임으로 합치고, 공시일을 기준으로 정렬해 봅시다  / 이후 인덱스도 다시 정렬합시다**\n",
    "\n",
    "* sort_values(\"공시일\")"
   ]
  },
  {
   "cell_type": "code",
   "execution_count": null,
   "metadata": {},
   "outputs": [],
   "source": [
    "# 코드\n"
   ]
  },
  {
   "attachments": {},
   "cell_type": "markdown",
   "metadata": {},
   "source": [
    "**3. 보통주식과 기타주식의 처분예정금액 컬럼이 보입니다. -> 이 컬럼들을 int64타입으로 변경해줍시다**\n",
    "  \n",
    "  * 주의) 처분예정금액에 아무 숫자가 없는 데이터(\"-\" 로 표기되어있습니다)는 0으로 취급합니다 \n",
    "  * 주의2) 숫자 사이에 쉼표가 있으면 변경이 안되겠죠?"
   ]
  },
  {
   "cell_type": "code",
   "execution_count": null,
   "metadata": {},
   "outputs": [],
   "source": [
    "# 코드\n"
   ]
  },
  {
   "attachments": {},
   "cell_type": "markdown",
   "metadata": {},
   "source": [
    "**4. 보통주식 처분금액과 기타주식 처분금액 컬럼을 더해서 \"처분예정금액(전체주식)(원)\" 컬럼을 데이터프레임에 새로 추가해 봅시다!** "
   ]
  },
  {
   "cell_type": "code",
   "execution_count": null,
   "metadata": {},
   "outputs": [],
   "source": [
    "# 코드 \n"
   ]
  },
  {
   "attachments": {},
   "cell_type": "markdown",
   "metadata": {},
   "source": [
    "**5. 한 번에 가장 많은 금액의 주식을 처분한 기업의 기업공시코드는 무엇인가요? 그리고 이 회사의 이름은 뭘까요?(-> 네이버에 기업공시코드를 검색해봅시다)**\n",
    "\n",
    "* argmax 함수를 사용하면 쉽습니다\n",
    "\n",
    "* 첨언) 만약에 argmax의 사용법을 모른다면 구글에 \"파이썬 argmax\"를 검색해 봅시디. 구글링에 익숙해지는 것이 코딩 실력을 키우는 첫걸음 입니다"
   ]
  },
  {
   "cell_type": "code",
   "execution_count": null,
   "metadata": {},
   "outputs": [],
   "source": [
    "# 코드\n"
   ]
  },
  {
   "attachments": {},
   "cell_type": "markdown",
   "metadata": {},
   "source": [
    "**6. 처분시작일부터 처분종료일까지 가장 오랜 시간을 계획한 기업의 기업공시코드는 무엇인가요? 그리고 이 회사의 이름은 뭘까요?**\n",
    "\n",
    "* pd.to_datetime으로 데이터를 변환하면, 날짜 연산이 가능해집니다\n",
    "\n",
    "* 중요!!) 년/월/일 꼴로 한글이 기록되어 있는 경우가 있는데 이를 전부 변환해줘야합니다!! (Ex. 20190101 꼴로 replace 함수를 사용해 변경해줍니다)\n",
    "\n",
    "* 중요!!) replace함수로 \".\" 을 제거할 때는 반드시 *replace(\".\",\"\", regex=False)* 로 설정해 줘야 합니다!! "
   ]
  },
  {
   "cell_type": "code",
   "execution_count": null,
   "metadata": {},
   "outputs": [],
   "source": [
    "# 코드6-1 -> 우선 날짜형태를 변환해 봅시다 (2020년 01월 01일 or 2020.01.01을 -> 20200101 형태로.... 마침표도 전부 제거해줍니다!!)\n",
    "\n"
   ]
  },
  {
   "cell_type": "code",
   "execution_count": null,
   "metadata": {},
   "outputs": [],
   "source": [
    "# 코드6-2 -> 대충 봤을 땐, 처분시작일과 처분종료일 데이터가 완전해 보이지만 그렇지 않을 수도 있죠? \n",
    "## 처분종료일을 int64 데이터타입으로 변경해서 변경이 잘 되는 지 한 번 확인해 봅시다\n",
    "\n",
    "\n",
    "\n",
    "# 네.... '-'와 같은 값이 존재해서 오류가 뜨는 것을 확인할 수 있습니다."
   ]
  },
  {
   "cell_type": "code",
   "execution_count": null,
   "metadata": {},
   "outputs": [],
   "source": [
    "# 코드6-3  처분종료일에 '-'값을 가진 데이터를 제외한 데이터(온전한 날짜가 존재하는 데이터)만 추출해봅시다\n",
    "## 힌트 : (데이터 == '-')를 통해서 조건문을 주고, loc을 통해 추출하는 아이디어를 떠올려 봅시다!! -> loc[~(\"조건\")]을 사용해 주면 되겠죠?\n",
    "\n",
    "\n",
    "\n",
    "\n",
    "\n",
    "\n",
    "#이 문제가 어려우면 인덱스가 235,446,482,870,1208 번째인 데이터를 드랍하고 진행해시면 됩니다 -> 이것도 잘 모르겠다면 구글에 \"판다스 인덱스로 drop하기\" 검색해보시면 되겠죠?"
   ]
  },
  {
   "cell_type": "code",
   "execution_count": null,
   "metadata": {},
   "outputs": [],
   "source": [
    "# 코드6-4  자 이제 준비가 끝났습니다... 이제 처분종료일과 처분시작일을 판다스의 datetime으로 바꿔주고, \"처분종료일 - 처분시작일\" 연산을 수행해봅시다\n"
   ]
  },
  {
   "cell_type": "code",
   "execution_count": null,
   "metadata": {},
   "outputs": [],
   "source": [
    "# 코드 6-5 위에서 연산한 값을 통해 처분에 가장 오랜 시간이 걸린 기업공시코드를 찾아봅시다! 이 회사의 이름은 무엇인가요? 그리고 얼마나 많은 시간이 걸렸나요?\n",
    "\n"
   ]
  },
  {
   "attachments": {},
   "cell_type": "markdown",
   "metadata": {},
   "source": [
    "**7. 우리가 앞서 사용했던 데이터프레임의 기업공시코드에 해당하는 회사명을 한 번 추가해 봅시다!!**\n",
    "\n",
    "* 기업명_기업코드 파일을 불러옵시다 -> 이 파일에는 앞서 봤던 기업공시코드에 해당하는 회사명을 가지고 있습니다 (Dart코드는 무시하셔도 됩니다)"
   ]
  },
  {
   "cell_type": "code",
   "execution_count": null,
   "metadata": {},
   "outputs": [],
   "source": [
    "# 7-1 기업명_기업코드 파일을 불러옵시다\n",
    "\n"
   ]
  },
  {
   "cell_type": "code",
   "execution_count": null,
   "metadata": {},
   "outputs": [],
   "source": [
    "# 7-2 위에서 사용한 자기주식처분 데이터프레임의 기업공시코드 컬럼에 적절한 회사명 컬럼을 추가해 봅시다! \n",
    "\n"
   ]
  },
  {
   "cell_type": "code",
   "execution_count": null,
   "metadata": {},
   "outputs": [],
   "source": [
    "# 7-3 추가한 회사명 컬럼의 순서를 기업공시코드 컬럼의 앞으로 가져옵시다!\n",
    "\n",
    "\n"
   ]
  }
 ],
 "metadata": {
  "kernelspec": {
   "display_name": "base",
   "language": "python",
   "name": "python3"
  },
  "language_info": {
   "codemirror_mode": {
    "name": "ipython",
    "version": 3
   },
   "file_extension": ".py",
   "mimetype": "text/x-python",
   "name": "python",
   "nbconvert_exporter": "python",
   "pygments_lexer": "ipython3",
   "version": "3.9.13"
  },
  "orig_nbformat": 4,
  "vscode": {
   "interpreter": {
    "hash": "a077222d77dfe082b8f1dd562ad70e458ac2ab76993a0b248ab0476e32e9e8dd"
   }
  }
 },
 "nbformat": 4,
 "nbformat_minor": 2
}
