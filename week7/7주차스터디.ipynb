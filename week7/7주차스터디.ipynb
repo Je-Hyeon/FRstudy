{
 "cells": [
  {
   "attachments": {},
   "cell_type": "markdown",
   "metadata": {},
   "source": [
    "# 7주차 스터디\n",
    "\n",
    "**퀀트 입문**\n",
    "\n",
    "    1. MDD 계산\n",
    "\n",
    "    2. 포트폴리오의 수익, 분산 구하기\n",
    "\n",
    "    3. Efficient Frontier 구하기\n",
    "\n",
    "    4. 주식(포트폴리오)의 베타 계산"
   ]
  },
  {
   "cell_type": "code",
   "execution_count": null,
   "metadata": {},
   "outputs": [],
   "source": [
    "import numpy as np\n",
    "import pandas as pd\n",
    "import matplotlib.pyplot as plt"
   ]
  },
  {
   "attachments": {},
   "cell_type": "markdown",
   "metadata": {},
   "source": [
    "## MDD 계산"
   ]
  },
  {
   "cell_type": "code",
   "execution_count": null,
   "metadata": {},
   "outputs": [],
   "source": [
    "asset_a = np.array([100,120,130,100,65,80,100,120,140,160])\n",
    "\n",
    "plt.figure(figsize=(5,3))\n",
    "plt.plot(range(len(asset_a)), asset_a);"
   ]
  },
  {
   "cell_type": "code",
   "execution_count": null,
   "metadata": {},
   "outputs": [],
   "source": [
    "# Max 값을 누적해서 쌓는다\n",
    "accum = np.maximum.accumulate(asset_a)\n",
    "accum"
   ]
  },
  {
   "cell_type": "code",
   "execution_count": null,
   "metadata": {},
   "outputs": [],
   "source": [
    "# DrawDown을 구하고, 그 중, 최솟값인 MDD를 구한다\n",
    "DD = asset_a - accum\n",
    "MDD = np.min(DD / accum)\n",
    "MDD"
   ]
  },
  {
   "attachments": {},
   "cell_type": "markdown",
   "metadata": {},
   "source": [
    "## 포트폴리오의 수익, 분산 구하기\n",
    "\n",
    "기대수익률:  $W$ $\\cdot$ $E(R)$\n",
    "\n",
    "분산 :   $W^T$ $\\cdot$ $\\sum$ $\\cdot$ $W$   "
   ]
  },
  {
   "cell_type": "code",
   "execution_count": null,
   "metadata": {},
   "outputs": [],
   "source": [
    "stock_close = pd.DataFrame()\n",
    "\n",
    "for name in [\"HMM\",\"삼성전자\",\"에쓰오일\",\"에코프로\",\"엔씨소프트\",\"현대차\"]:\n",
    "    stock_close[name] = pd.read_csv(\"데이터/{}주가.csv\".format(name), index_col=0, parse_dates=True).Close\n",
    "    \n",
    "stock_close"
   ]
  },
  {
   "attachments": {},
   "cell_type": "markdown",
   "metadata": {},
   "source": [
    "##### 1. Equal Weight인 경우 (1/6씩)"
   ]
  },
  {
   "cell_type": "code",
   "execution_count": null,
   "metadata": {},
   "outputs": [],
   "source": [
    "# weight 행렬 만들기\n",
    "weight = np.array([1/6]*6)\n",
    "weight"
   ]
  },
  {
   "cell_type": "code",
   "execution_count": null,
   "metadata": {},
   "outputs": [],
   "source": [
    "# 포트폴리오의 기대 수익률 계산 (일간 수익률의 평균을 기대수익률로 사용) \n",
    "# 일간 수익률을 연간 수익률로 환산하기 위해서 250을 곱해줌(1년 중 영업일은 보통 250일)\n",
    "mean_return = stock_close.pct_change().mean() * 250\n",
    "\n",
    "np.dot(weight, mean_return)"
   ]
  },
  {
   "cell_type": "code",
   "execution_count": null,
   "metadata": {},
   "outputs": [],
   "source": [
    "# 포트폴리오의 위험(분산) 계산\n",
    "sigma = stock_close.pct_change().cov() * 250\n",
    "\n",
    "np.dot(weight, np.dot(sigma, weight.T))"
   ]
  },
  {
   "attachments": {},
   "cell_type": "markdown",
   "metadata": {},
   "source": [
    "##### 2. Animal Sprit인 경우 \n",
    "\n",
    "에코프로에 포트폴리오의 절반을 담아보자"
   ]
  },
  {
   "cell_type": "code",
   "execution_count": null,
   "metadata": {},
   "outputs": [],
   "source": [
    "# weight 행렬 만들기\n",
    "weight = np.array([0.1, 0.1,0.1,0.5,0.1,0.1])\n",
    "weight"
   ]
  },
  {
   "cell_type": "code",
   "execution_count": null,
   "metadata": {},
   "outputs": [],
   "source": [
    "# 포트폴리오의 기대 수익률 계산 (일간 수익률의 평균을 기대수익률로 사용) \n",
    "mean_return = stock_close.pct_change().mean() * 250\n",
    "\n",
    "np.dot(weight, mean_return)"
   ]
  },
  {
   "cell_type": "code",
   "execution_count": null,
   "metadata": {},
   "outputs": [],
   "source": [
    "# 포트폴리오의 위험(분산) 계산\n",
    "sigma = stock_close.pct_change().cov() * 250\n",
    "\n",
    "np.dot(weight.T, np.dot(sigma, weight))"
   ]
  },
  {
   "attachments": {},
   "cell_type": "markdown",
   "metadata": {},
   "source": [
    "## Efficient Frontier 만들기"
   ]
  },
  {
   "cell_type": "code",
   "execution_count": null,
   "metadata": {},
   "outputs": [],
   "source": [
    "stock_pct = stock_close.pct_change().mean() * 250\n",
    "sigma = stock_close.pct_change().cov() * 250"
   ]
  },
  {
   "cell_type": "code",
   "execution_count": null,
   "metadata": {},
   "outputs": [],
   "source": [
    "# 30000개의 랜덤한 weight를 가진 포트폴리오를 만든다\n",
    "n_port = 30_000\n",
    "\n",
    "pf_return = []\n",
    "pf_vol = []\n",
    "pf_weight = []\n",
    "\n",
    "for _ in range(n_port):\n",
    "    weight = np.random.random(6)\n",
    "    weight /= np.sum(weight)\n",
    "    # 기대수익 저장\n",
    "    pf_return.append(np.dot(weight, mean_return))\n",
    "    # 변동성 저장\n",
    "    pf_vol.append(np.dot(weight.T, np.dot(sigma, weight)))\n",
    "    # 비중 저장\n",
    "    pf_weight.append(weight)\n",
    "\n",
    "# 그림으로 그려보기\n",
    "plt.scatter(pf_vol, pf_return)\n",
    "plt.xlabel(\"PF Volatility\")\n",
    "plt.ylabel(\"PF Expect Returns\")\n",
    "plt.grid();"
   ]
  },
  {
   "cell_type": "code",
   "execution_count": null,
   "metadata": {},
   "outputs": [],
   "source": [
    "# 최소분산 포트폴리오를 찾아봅시다\n",
    "\n",
    "min_idx = np.argmin(pf_vol)\n",
    "\n",
    "ret = pf_return[min_idx]\n",
    "vol = pf_vol[min_idx]\n",
    "print(\"최소분산 포트폴리오 비중은: \", pf_weight[min_idx])\n",
    "\n",
    "# 기존에 구해둔 Efficient frontier 그리기\n",
    "plt.scatter(pf_vol, pf_return, alpha=0.8)\n",
    "plt.xlabel(\"PF Volatility\")\n",
    "plt.ylabel(\"PF Expect Returns\")\n",
    "plt.grid()\n",
    "\n",
    "# 최소분산 포트폴리오는 빨간 점으로 표시\n",
    "plt.scatter(vol,ret, c='r', s=100);"
   ]
  },
  {
   "attachments": {},
   "cell_type": "markdown",
   "metadata": {},
   "source": [
    "## 베타($\\beta$)를 계산해보자\n",
    "\n",
    "베타란 주식시장의 전체 변동에 대한 개별 종목의 변동 정도를 측정한다 \n",
    "\n",
    "베타는 개별 주식에 국한되는 개념은 아니고, 포트폴리오에 대해서도 계산할 수 있다. 포트폴리오의 개별 종목의 베타를 비중으로 가중평균 한 것이 포트폴리오의 베타가 된다\n",
    "\n",
    "윈도우 크기에 따라 베타 값은 달라지게 된다\n",
    "\n",
    "---\n",
    "\n",
    "$\\beta$를 구하는 두 가지 방법\n",
    "\n",
    "1. 시장포트폴리오의 수익을 개별 자산의 수익에 회귀분석해서 구한다\n",
    "\n",
    "2. $\\beta =$ $\\sigma_{im}\\over\\sigma^2_m$ : 자산 i와 시장포트폴리오의 공분산을 시장포트폴리오의 분산으로 나눈 것이다"
   ]
  },
  {
   "cell_type": "code",
   "execution_count": null,
   "metadata": {},
   "outputs": [],
   "source": [
    "market = pd.read_excel(\"데이터/지수.xlsx\", index_col=0)\n",
    "market.index.name = None #거슬리는거 제거\n",
    "market"
   ]
  },
  {
   "attachments": {},
   "cell_type": "markdown",
   "metadata": {},
   "source": [
    "첫번째 방법(회귀분석)"
   ]
  },
  {
   "cell_type": "code",
   "execution_count": null,
   "metadata": {},
   "outputs": [],
   "source": [
    "# 삼성전자의 베타 구해보기 (window는 1년)\n",
    "samsung = stock_close.삼성전자\n",
    "\n",
    "samsung_pct = samsung.pct_change().dropna().values\n",
    "market_pct = market.코스피.pct_change().dropna().values\n",
    "\n",
    "plt.scatter(market_pct, samsung_pct)\n",
    "plt.xlabel(\"Kospi Returns\")\n",
    "plt.ylabel(\"Samsung Returns\");"
   ]
  },
  {
   "cell_type": "code",
   "execution_count": null,
   "metadata": {},
   "outputs": [],
   "source": [
    "# Regression Line 그려보기\n",
    "from sklearn.linear_model import LinearRegression\n",
    "\n",
    "model = LinearRegression()\n",
    "model.fit(market_pct.reshape(-1,1),samsung_pct)\n",
    "\n",
    "# 삼성전자의 5년간 베타를 의미함\n",
    "print(\"모델의 기울기(베타): \", model.coef_[0])\n",
    "\n",
    "x = [[-0.075],[0.075]]\n",
    "y = model.predict(x)\n",
    "\n",
    "# 회귀선 그리기\n",
    "plt.plot(x,y, c=\"r\")\n",
    "\n",
    "# 기존 수익 산점도 그리기 \n",
    "plt.scatter(market_pct, samsung_pct)\n",
    "plt.xlabel(\"Kospi Returns\")\n",
    "plt.ylabel(\"Samsung Returns\");"
   ]
  },
  {
   "attachments": {},
   "cell_type": "markdown",
   "metadata": {},
   "source": [
    "두번째 방법 (공식으로)\n",
    "\n",
    "$\\beta =$ $\\sigma_{im}\\over\\sigma^2_m$"
   ]
  },
  {
   "cell_type": "code",
   "execution_count": null,
   "metadata": {},
   "outputs": [],
   "source": [
    "df = pd.DataFrame(np.c_[market_pct, samsung_pct], \n",
    "             columns=[\"코스피\",\"삼성전자\"])\n",
    "\n",
    "sigma_m = df.코스피.var()\n",
    "sigma_im = df.cov().iloc[0,1]\n",
    "\n",
    "# 삼성전자의 5년간 베타\n",
    "sigma_im / sigma_m"
   ]
  },
  {
   "attachments": {},
   "cell_type": "markdown",
   "metadata": {},
   "source": [
    "## 퀀트 전략 구현하고 평가하기\n",
    "\n",
    "20일 이동 평균선을 돌파하면 \"그 다음날\" 주식을 사고, 그 반대일 때는 \"그 다음날\" 파는 전략을 구현해봅시다"
   ]
  },
  {
   "cell_type": "code",
   "execution_count": null,
   "metadata": {},
   "outputs": [],
   "source": [
    "data = pd.DataFrame(stock_close.삼성전자.values, index=stock_close.index,\n",
    "                  columns=[\"price\"])"
   ]
  },
  {
   "cell_type": "code",
   "execution_count": null,
   "metadata": {},
   "outputs": [],
   "source": [
    "# Calculate the 20-day moving average\n",
    "data['ma'] = data['price'].rolling(window=20).mean()\n",
    "\n",
    "# Initialize variables\n",
    "bought = 0\n",
    "sold = 0\n",
    "init_value = 10_000_000\n",
    "value_list = {\"2018-01-01\":init_value}\n",
    "\n",
    "# Iterate through the data\n",
    "for i in range(len(data)):\n",
    "    if bought == 0 and data['price'][i] > data['ma'][i]:\n",
    "        # Buy the stock\n",
    "        bought = 1\n",
    "        buy_price = data['price'][i+1]\n",
    "        n_stock = init_value // buy_price # 몇 주 사는지 계산\n",
    "\n",
    "    elif bought == 1 and data['price'][i] < data['ma'][i]:\n",
    "        # Sell the stock\n",
    "        bought = 0\n",
    "        sell_price = data['price'][i+1]\n",
    "        gain = sell_price - buy_price\n",
    "        init_value += n_stock * gain\n",
    "        value_list[str(data.index[i])[:10]] = init_value\n",
    "        n_stock = 0\n",
    "\n",
    "# 마지막까지 주식을 들고 있는 경우(다 판다)\n",
    "if n_stock > 0:\n",
    "    sell_price = data['price'][-1]\n",
    "    gain = sell_price - buy_price\n",
    "    init_value += n_stock * gain\n",
    "    n_stock = 0\n",
    "    value_list[\"2022-12-30\"] = init_value\n",
    "\n",
    "print(init_value)\n",
    "print(n_stock)"
   ]
  },
  {
   "cell_type": "code",
   "execution_count": null,
   "metadata": {},
   "outputs": [],
   "source": [
    "# 그냥 사서 들고 있는 전략 \n",
    "(data.price * (10_000_000 // data.price[0])).plot(c='b')\n",
    "\n",
    "# 이평선 돌파 전략\n",
    "se = pd.Series(value_list)\n",
    "se.index = pd.to_datetime(se.index)\n",
    "se = se.reindex(index=data.index)\n",
    "se[\"2018-01-02\"] = 10_000_000\n",
    "se = se.ffill()\n",
    "se.plot(c='k');"
   ]
  }
 ],
 "metadata": {
  "kernelspec": {
   "display_name": "base",
   "language": "python",
   "name": "python3"
  },
  "language_info": {
   "codemirror_mode": {
    "name": "ipython",
    "version": 3
   },
   "file_extension": ".py",
   "mimetype": "text/x-python",
   "name": "python",
   "nbconvert_exporter": "python",
   "pygments_lexer": "ipython3",
   "version": "3.9.13"
  },
  "orig_nbformat": 4,
  "vscode": {
   "interpreter": {
    "hash": "a077222d77dfe082b8f1dd562ad70e458ac2ab76993a0b248ab0476e32e9e8dd"
   }
  }
 },
 "nbformat": 4,
 "nbformat_minor": 2
}
