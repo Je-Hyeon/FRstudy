{
 "cells": [
  {
   "attachments": {},
   "cell_type": "markdown",
   "metadata": {},
   "source": [
    "# 2주차 스터디 과제\n",
    "\n",
    "Made by 35기 코딩부장 류제현"
   ]
  },
  {
   "cell_type": "code",
   "execution_count": 1,
   "metadata": {},
   "outputs": [],
   "source": [
    "import numpy as np\n",
    "import pandas as pd \n",
    "import matplotlib.pyplot as plt"
   ]
  },
  {
   "attachments": {},
   "cell_type": "markdown",
   "metadata": {},
   "source": [
    "### 예시) Real Dataset을 사용한 머신러닝(회귀)\n",
    "\n",
    "* scikit-learn을 사용하겠습니다"
   ]
  },
  {
   "cell_type": "code",
   "execution_count": 2,
   "metadata": {},
   "outputs": [
    {
     "name": "stdout",
     "output_type": "stream",
     "text": [
      "Tips df의 크기:  (244, 5)\n"
     ]
    },
    {
     "data": {
      "text/html": [
       "<div>\n",
       "<style scoped>\n",
       "    .dataframe tbody tr th:only-of-type {\n",
       "        vertical-align: middle;\n",
       "    }\n",
       "\n",
       "    .dataframe tbody tr th {\n",
       "        vertical-align: top;\n",
       "    }\n",
       "\n",
       "    .dataframe thead th {\n",
       "        text-align: right;\n",
       "    }\n",
       "</style>\n",
       "<table border=\"1\" class=\"dataframe\">\n",
       "  <thead>\n",
       "    <tr style=\"text-align: right;\">\n",
       "      <th></th>\n",
       "      <th>total_bill</th>\n",
       "      <th>tip</th>\n",
       "      <th>sex</th>\n",
       "      <th>smoker</th>\n",
       "      <th>size</th>\n",
       "    </tr>\n",
       "  </thead>\n",
       "  <tbody>\n",
       "    <tr>\n",
       "      <th>0</th>\n",
       "      <td>16.99</td>\n",
       "      <td>1.01</td>\n",
       "      <td>Female</td>\n",
       "      <td>No</td>\n",
       "      <td>2</td>\n",
       "    </tr>\n",
       "    <tr>\n",
       "      <th>1</th>\n",
       "      <td>10.34</td>\n",
       "      <td>1.66</td>\n",
       "      <td>Male</td>\n",
       "      <td>No</td>\n",
       "      <td>3</td>\n",
       "    </tr>\n",
       "    <tr>\n",
       "      <th>2</th>\n",
       "      <td>21.01</td>\n",
       "      <td>3.50</td>\n",
       "      <td>Male</td>\n",
       "      <td>No</td>\n",
       "      <td>3</td>\n",
       "    </tr>\n",
       "    <tr>\n",
       "      <th>3</th>\n",
       "      <td>23.68</td>\n",
       "      <td>3.31</td>\n",
       "      <td>Male</td>\n",
       "      <td>No</td>\n",
       "      <td>2</td>\n",
       "    </tr>\n",
       "    <tr>\n",
       "      <th>4</th>\n",
       "      <td>24.59</td>\n",
       "      <td>3.61</td>\n",
       "      <td>Female</td>\n",
       "      <td>No</td>\n",
       "      <td>4</td>\n",
       "    </tr>\n",
       "  </tbody>\n",
       "</table>\n",
       "</div>"
      ],
      "text/plain": [
       "   total_bill   tip     sex smoker  size\n",
       "0       16.99  1.01  Female     No     2\n",
       "1       10.34  1.66    Male     No     3\n",
       "2       21.01  3.50    Male     No     3\n",
       "3       23.68  3.31    Male     No     2\n",
       "4       24.59  3.61  Female     No     4"
      ]
     },
     "execution_count": 2,
     "metadata": {},
     "output_type": "execute_result"
    }
   ],
   "source": [
    "# 사용할 tips 데이터셋을 불러오겠습니다. (식사 후 팁을 얼마나 지불하였는 지에 대한 정보가 담겨있습니다)\n",
    "import seaborn as sns\n",
    "tips_df = sns.load_dataset(\"tips\") \n",
    "\n",
    "# 문제를 간단하게 하기 위해서 필요한 특성만 가져오겠습니다\n",
    "tips_df = tips_df[[\"total_bill\",\"tip\",\"sex\",\"smoker\",\"size\"]]\n",
    "\n",
    "# 데이터셋이 어떻게 생겼는지 확인합니다\n",
    "print(\"Tips df의 크기: \", tips_df.shape)\n",
    "tips_df.head()"
   ]
  },
  {
   "attachments": {},
   "cell_type": "markdown",
   "metadata": {},
   "source": [
    "**식사금액(total_bill), 성별(sex),흡연여부(smoker),식사인원수(size)가 주어졌을 때, 팁(tip)을 얼마나 지불했는지 예측하는 머신러닝(선형회귀)알고리즘을 짜보겠습니다!**"
   ]
  },
  {
   "cell_type": "code",
   "execution_count": 3,
   "metadata": {},
   "outputs": [
    {
     "data": {
      "text/html": [
       "<div>\n",
       "<style scoped>\n",
       "    .dataframe tbody tr th:only-of-type {\n",
       "        vertical-align: middle;\n",
       "    }\n",
       "\n",
       "    .dataframe tbody tr th {\n",
       "        vertical-align: top;\n",
       "    }\n",
       "\n",
       "    .dataframe thead th {\n",
       "        text-align: right;\n",
       "    }\n",
       "</style>\n",
       "<table border=\"1\" class=\"dataframe\">\n",
       "  <thead>\n",
       "    <tr style=\"text-align: right;\">\n",
       "      <th></th>\n",
       "      <th>total_bill</th>\n",
       "      <th>tip</th>\n",
       "      <th>sex</th>\n",
       "      <th>smoker</th>\n",
       "      <th>size</th>\n",
       "      <th>sex_01</th>\n",
       "      <th>smoker_01</th>\n",
       "    </tr>\n",
       "  </thead>\n",
       "  <tbody>\n",
       "    <tr>\n",
       "      <th>0</th>\n",
       "      <td>16.99</td>\n",
       "      <td>1.01</td>\n",
       "      <td>Female</td>\n",
       "      <td>No</td>\n",
       "      <td>2</td>\n",
       "      <td>1</td>\n",
       "      <td>0</td>\n",
       "    </tr>\n",
       "    <tr>\n",
       "      <th>1</th>\n",
       "      <td>10.34</td>\n",
       "      <td>1.66</td>\n",
       "      <td>Male</td>\n",
       "      <td>No</td>\n",
       "      <td>3</td>\n",
       "      <td>0</td>\n",
       "      <td>0</td>\n",
       "    </tr>\n",
       "    <tr>\n",
       "      <th>2</th>\n",
       "      <td>21.01</td>\n",
       "      <td>3.50</td>\n",
       "      <td>Male</td>\n",
       "      <td>No</td>\n",
       "      <td>3</td>\n",
       "      <td>0</td>\n",
       "      <td>0</td>\n",
       "    </tr>\n",
       "    <tr>\n",
       "      <th>3</th>\n",
       "      <td>23.68</td>\n",
       "      <td>3.31</td>\n",
       "      <td>Male</td>\n",
       "      <td>No</td>\n",
       "      <td>2</td>\n",
       "      <td>0</td>\n",
       "      <td>0</td>\n",
       "    </tr>\n",
       "    <tr>\n",
       "      <th>4</th>\n",
       "      <td>24.59</td>\n",
       "      <td>3.61</td>\n",
       "      <td>Female</td>\n",
       "      <td>No</td>\n",
       "      <td>4</td>\n",
       "      <td>1</td>\n",
       "      <td>0</td>\n",
       "    </tr>\n",
       "  </tbody>\n",
       "</table>\n",
       "</div>"
      ],
      "text/plain": [
       "   total_bill   tip     sex smoker  size sex_01 smoker_01\n",
       "0       16.99  1.01  Female     No     2      1         0\n",
       "1       10.34  1.66    Male     No     3      0         0\n",
       "2       21.01  3.50    Male     No     3      0         0\n",
       "3       23.68  3.31    Male     No     2      0         0\n",
       "4       24.59  3.61  Female     No     4      1         0"
      ]
     },
     "execution_count": 3,
     "metadata": {},
     "output_type": "execute_result"
    }
   ],
   "source": [
    "# 데이터 전처리\n",
    "## sex와 smoker는 영어이기 때문에 컴퓨터가 알아들을 수 있는 숫자로 변경해 줘야 합니다!\n",
    "## 간단하게 남자는 0 여자는 1 / 비흡연자는 0 흡연자는 1로 바꾸겠습니다\n",
    "### 원본 컬럼에 바꾼 정보를 덮어 씌우지 않고, 컬럼 이름을 약간 바꿔서 새로운 컬럼으로 만들어 주겠습니다\n",
    "tips_df[\"sex_01\"] = tips_df['sex'].replace({\"Male\":0, 'Female':1})\n",
    "tips_df[\"smoker_01\"] = tips_df[\"smoker\"].replace({\"No\":0, \"Yes\":1})\n",
    "\n",
    "# sex_01과 smoker_01이 잘 생성된 것을 확인할 수 있습니다\n",
    "tips_df.head()"
   ]
  },
  {
   "cell_type": "code",
   "execution_count": 4,
   "metadata": {},
   "outputs": [],
   "source": [
    "# 머신러닝 용어로 X(독립변수)는 피처(feature), y(정답 또는 종속변수)는 레이블(label)이라고 합니다\n",
    "## 학습에 사용할 피쳐와 레이블을 분리해주겠습니다\n",
    "X = tips_df[[\"total_bill\",\"sex_01\",\"smoker_01\",\"size\"]].values # values를 붙이면 데이터프레임을 넘파이 array 형태로 변환합니다\n",
    "y = tips_df[\"tip\"].values                                      #(넘파이 array로 변환하지 않고 데이터프레임을 그대로 사용해도 동일한 결과를 얻을 수 있습니다)"
   ]
  },
  {
   "cell_type": "code",
   "execution_count": 5,
   "metadata": {},
   "outputs": [
    {
     "data": {
      "text/plain": [
       "LinearRegression()"
      ]
     },
     "execution_count": 5,
     "metadata": {},
     "output_type": "execute_result"
    }
   ],
   "source": [
    "# 싸이킷런 사용\n",
    "from sklearn.linear_model import LinearRegression\n",
    "\n",
    "# 늘 하던 것 처럼 모델을 만들고 학습시켜줍니다\n",
    "model = LinearRegression()\n",
    "model.fit(X,y)"
   ]
  },
  {
   "cell_type": "code",
   "execution_count": 6,
   "metadata": {},
   "outputs": [
    {
     "name": "stdout",
     "output_type": "stream",
     "text": [
      "회귀계수(기울기):  [ 0.09410594  0.02726342 -0.08371135  0.18028013] , 절편:  0.6952285962069387\n",
      "모델의 R^2 :  0.46876606416389666\n"
     ]
    }
   ],
   "source": [
    "# 결과를 확인해봅시다\n",
    "print(\"회귀계수(기울기): \", model.coef_, \", 절편: \", model.intercept_) \n",
    "print(\"모델의 R^2 : \", model.score(X,y))"
   ]
  },
  {
   "attachments": {},
   "cell_type": "markdown",
   "metadata": {},
   "source": [
    "### 연습문제 1. 단순한 선형회귀를 넘어 규제항이 포함된 회귀를 해보자\n",
    "\n",
    "    Ridge / Lasso / ElasticNet이 있습니다 (일반적인 선형회귀를 OLS라 부릅니다)\n",
    "\n",
    "Lasso는 L1규제, Ridge는 L2규제, ElasticNet은 둘을 합친 규제가 들어간 선형회귀입니다\n",
    "\n",
    "![image.png](Ridge_Lasso.PNG)\n",
    "\n",
    "\n",
    "그림에서 볼 수 있듯, 일반적인 OLS의 비용함수(Cost Function, $\\sum e_i^2$)에 규제항이 뒤에 더해진 것을 볼 수 있습니다. \n",
    "\n",
    "규제항에 붙은 알파($a$)로 규제의 정도를 조절합니다($a=0$ 이면 릿지나 라쏘는 일반 OLS와 동일합니다!)"
   ]
  },
  {
   "cell_type": "code",
   "execution_count": 7,
   "metadata": {},
   "outputs": [],
   "source": [
    "# 연습문제 1-1) 알파를 1로 설정한 라쏘 회귀를 구현해 봅시다 / 이후 score(R^2)를 출력해 봅시다\n",
    "## 예제에서 사용한 X,y를 사용합니다\n",
    "\n",
    "# 연습문제 1-1코드\n",
    "from sklearn.linear_model import Lasso\n",
    "lasso = Lasso(alpha=1)\n",
    "\n"
   ]
  },
  {
   "cell_type": "code",
   "execution_count": 8,
   "metadata": {},
   "outputs": [],
   "source": [
    "# 연습문제 1-2) l1_ratio를 1으로 설정한 엘라스틱넷 회귀를 구현해 봅시다/  이후 score(R^2)를 출력해 봅시다\n",
    "\n",
    "# 연습문제 1-2 코드\n",
    "from sklearn.linear_model import ElasticNet\n",
    "elastic = ElasticNet(l1_ratio=1)\n",
    "\n"
   ]
  },
  {
   "cell_type": "code",
   "execution_count": 9,
   "metadata": {},
   "outputs": [],
   "source": [
    "# 연습문제 1-3) 왜 1-1번의 회귀와 1-2의 회귀의 score가 같을까요???\n",
    "## 답을 적어주시면 됩니다\n",
    "\n"
   ]
  },
  {
   "attachments": {},
   "cell_type": "markdown",
   "metadata": {},
   "source": [
    "### 연습문제 2. 데이터 분석\n",
    "\n",
    "수업시간에 사용했던 \"유상증자.csv\" 파일을 사용합니다!!"
   ]
  },
  {
   "cell_type": "code",
   "execution_count": 3,
   "metadata": {},
   "outputs": [],
   "source": [
    "df = pd.read_csv(\"유상증자.csv\", index_col=0) \n",
    "# Colab을 사용하신다면 적절한 파일 경로를 지정해주세요"
   ]
  },
  {
   "cell_type": "code",
   "execution_count": 6,
   "metadata": {},
   "outputs": [],
   "source": [
    "# 문제 2-1) 데이터프레임의 \"공시일\" 컬럼을 datetime 자료형으로 변환하고, 인덱스로 지정해주세요\n",
    "## 이후, 여전히 데이터에 남아있는 \"공시일\" 컬럼을 제거해주세요\n",
    "\n"
   ]
  },
  {
   "cell_type": "code",
   "execution_count": null,
   "metadata": {},
   "outputs": [],
   "source": [
    "# 문제 2-2) 10월과 11월의 공시 개수를 각각 구해봅시다\n",
    "\n"
   ]
  },
  {
   "cell_type": "code",
   "execution_count": null,
   "metadata": {},
   "outputs": [],
   "source": [
    "# 문제 2-3) 데이터에서 가장 많이 등장한 회사의 이름과 등장 횟수를 구해주세요\n",
    "\n"
   ]
  },
  {
   "cell_type": "code",
   "execution_count": null,
   "metadata": {},
   "outputs": [],
   "source": [
    "# 문제 2-4) \"보고서명\" 컬럼에 \"유상증자결정\"이라는 단어가 들어가 있지 '않은' 데이터만 추출해주세요\n",
    "\n"
   ]
  },
  {
   "cell_type": "code",
   "execution_count": null,
   "metadata": {},
   "outputs": [],
   "source": [
    "# 문제 2-5) 회사명의 모든 회사 이름 앞에 \"(주)\"를 추가해봅시다 Ex) 이브이첨단소재 -> (주)이브이첨단소재\n",
    "## 문자열도 더하기가 됩니다..!\n",
    "\n"
   ]
  }
 ],
 "metadata": {
  "kernelspec": {
   "display_name": "base",
   "language": "python",
   "name": "python3"
  },
  "language_info": {
   "codemirror_mode": {
    "name": "ipython",
    "version": 3
   },
   "file_extension": ".py",
   "mimetype": "text/x-python",
   "name": "python",
   "nbconvert_exporter": "python",
   "pygments_lexer": "ipython3",
   "version": "3.9.13"
  },
  "orig_nbformat": 4,
  "vscode": {
   "interpreter": {
    "hash": "a077222d77dfe082b8f1dd562ad70e458ac2ab76993a0b248ab0476e32e9e8dd"
   }
  }
 },
 "nbformat": 4,
 "nbformat_minor": 2
}
