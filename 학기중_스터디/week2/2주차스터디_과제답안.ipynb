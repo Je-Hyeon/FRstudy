{
 "cells": [
  {
   "attachments": {},
   "cell_type": "markdown",
   "metadata": {},
   "source": [
    "# 2주차 스터디 과제\n",
    "\n",
    "Made by 35기 코딩부장 류제현"
   ]
  },
  {
   "cell_type": "code",
   "execution_count": 2,
   "metadata": {},
   "outputs": [],
   "source": [
    "import numpy as np\n",
    "import pandas as pd \n",
    "import matplotlib.pyplot as plt"
   ]
  },
  {
   "attachments": {},
   "cell_type": "markdown",
   "metadata": {},
   "source": [
    "### 예시) Real Dataset을 사용한 머신러닝(회귀)\n",
    "\n",
    "* scikit-learn을 사용하겠습니다"
   ]
  },
  {
   "cell_type": "code",
   "execution_count": 2,
   "metadata": {},
   "outputs": [
    {
     "name": "stdout",
     "output_type": "stream",
     "text": [
      "Tips df의 크기:  (244, 5)\n"
     ]
    },
    {
     "data": {
      "text/html": [
       "<div>\n",
       "<style scoped>\n",
       "    .dataframe tbody tr th:only-of-type {\n",
       "        vertical-align: middle;\n",
       "    }\n",
       "\n",
       "    .dataframe tbody tr th {\n",
       "        vertical-align: top;\n",
       "    }\n",
       "\n",
       "    .dataframe thead th {\n",
       "        text-align: right;\n",
       "    }\n",
       "</style>\n",
       "<table border=\"1\" class=\"dataframe\">\n",
       "  <thead>\n",
       "    <tr style=\"text-align: right;\">\n",
       "      <th></th>\n",
       "      <th>total_bill</th>\n",
       "      <th>tip</th>\n",
       "      <th>sex</th>\n",
       "      <th>smoker</th>\n",
       "      <th>size</th>\n",
       "    </tr>\n",
       "  </thead>\n",
       "  <tbody>\n",
       "    <tr>\n",
       "      <th>0</th>\n",
       "      <td>16.99</td>\n",
       "      <td>1.01</td>\n",
       "      <td>Female</td>\n",
       "      <td>No</td>\n",
       "      <td>2</td>\n",
       "    </tr>\n",
       "    <tr>\n",
       "      <th>1</th>\n",
       "      <td>10.34</td>\n",
       "      <td>1.66</td>\n",
       "      <td>Male</td>\n",
       "      <td>No</td>\n",
       "      <td>3</td>\n",
       "    </tr>\n",
       "    <tr>\n",
       "      <th>2</th>\n",
       "      <td>21.01</td>\n",
       "      <td>3.50</td>\n",
       "      <td>Male</td>\n",
       "      <td>No</td>\n",
       "      <td>3</td>\n",
       "    </tr>\n",
       "    <tr>\n",
       "      <th>3</th>\n",
       "      <td>23.68</td>\n",
       "      <td>3.31</td>\n",
       "      <td>Male</td>\n",
       "      <td>No</td>\n",
       "      <td>2</td>\n",
       "    </tr>\n",
       "    <tr>\n",
       "      <th>4</th>\n",
       "      <td>24.59</td>\n",
       "      <td>3.61</td>\n",
       "      <td>Female</td>\n",
       "      <td>No</td>\n",
       "      <td>4</td>\n",
       "    </tr>\n",
       "  </tbody>\n",
       "</table>\n",
       "</div>"
      ],
      "text/plain": [
       "   total_bill   tip     sex smoker  size\n",
       "0       16.99  1.01  Female     No     2\n",
       "1       10.34  1.66    Male     No     3\n",
       "2       21.01  3.50    Male     No     3\n",
       "3       23.68  3.31    Male     No     2\n",
       "4       24.59  3.61  Female     No     4"
      ]
     },
     "execution_count": 2,
     "metadata": {},
     "output_type": "execute_result"
    }
   ],
   "source": [
    "# 사용할 tips 데이터셋을 불러오겠습니다. (식사 후 팁을 얼마나 지불하였는 지에 대한 정보가 담겨있습니다)\n",
    "import seaborn as sns\n",
    "tips_df = sns.load_dataset(\"tips\") \n",
    "\n",
    "# 문제를 간단하게 하기 위해서 필요한 특성만 가져오겠습니다\n",
    "tips_df = tips_df[[\"total_bill\",\"tip\",\"sex\",\"smoker\",\"size\"]]\n",
    "\n",
    "# 데이터셋이 어떻게 생겼는지 확인합니다\n",
    "print(\"Tips df의 크기: \", tips_df.shape)\n",
    "tips_df.head()"
   ]
  },
  {
   "attachments": {},
   "cell_type": "markdown",
   "metadata": {},
   "source": [
    "**식사금액(total_bill), 성별(sex),흡연여부(smoker),식사인원수(size)가 주어졌을 때, 팁(tip)을 얼마나 지불했는지 예측하는 머신러닝(선형회귀)알고리즘을 짜보겠습니다!**"
   ]
  },
  {
   "cell_type": "code",
   "execution_count": 3,
   "metadata": {},
   "outputs": [
    {
     "data": {
      "text/html": [
       "<div>\n",
       "<style scoped>\n",
       "    .dataframe tbody tr th:only-of-type {\n",
       "        vertical-align: middle;\n",
       "    }\n",
       "\n",
       "    .dataframe tbody tr th {\n",
       "        vertical-align: top;\n",
       "    }\n",
       "\n",
       "    .dataframe thead th {\n",
       "        text-align: right;\n",
       "    }\n",
       "</style>\n",
       "<table border=\"1\" class=\"dataframe\">\n",
       "  <thead>\n",
       "    <tr style=\"text-align: right;\">\n",
       "      <th></th>\n",
       "      <th>total_bill</th>\n",
       "      <th>tip</th>\n",
       "      <th>sex</th>\n",
       "      <th>smoker</th>\n",
       "      <th>size</th>\n",
       "      <th>sex_01</th>\n",
       "      <th>smoker_01</th>\n",
       "    </tr>\n",
       "  </thead>\n",
       "  <tbody>\n",
       "    <tr>\n",
       "      <th>0</th>\n",
       "      <td>16.99</td>\n",
       "      <td>1.01</td>\n",
       "      <td>Female</td>\n",
       "      <td>No</td>\n",
       "      <td>2</td>\n",
       "      <td>1</td>\n",
       "      <td>0</td>\n",
       "    </tr>\n",
       "    <tr>\n",
       "      <th>1</th>\n",
       "      <td>10.34</td>\n",
       "      <td>1.66</td>\n",
       "      <td>Male</td>\n",
       "      <td>No</td>\n",
       "      <td>3</td>\n",
       "      <td>0</td>\n",
       "      <td>0</td>\n",
       "    </tr>\n",
       "    <tr>\n",
       "      <th>2</th>\n",
       "      <td>21.01</td>\n",
       "      <td>3.50</td>\n",
       "      <td>Male</td>\n",
       "      <td>No</td>\n",
       "      <td>3</td>\n",
       "      <td>0</td>\n",
       "      <td>0</td>\n",
       "    </tr>\n",
       "    <tr>\n",
       "      <th>3</th>\n",
       "      <td>23.68</td>\n",
       "      <td>3.31</td>\n",
       "      <td>Male</td>\n",
       "      <td>No</td>\n",
       "      <td>2</td>\n",
       "      <td>0</td>\n",
       "      <td>0</td>\n",
       "    </tr>\n",
       "    <tr>\n",
       "      <th>4</th>\n",
       "      <td>24.59</td>\n",
       "      <td>3.61</td>\n",
       "      <td>Female</td>\n",
       "      <td>No</td>\n",
       "      <td>4</td>\n",
       "      <td>1</td>\n",
       "      <td>0</td>\n",
       "    </tr>\n",
       "  </tbody>\n",
       "</table>\n",
       "</div>"
      ],
      "text/plain": [
       "   total_bill   tip     sex smoker  size sex_01 smoker_01\n",
       "0       16.99  1.01  Female     No     2      1         0\n",
       "1       10.34  1.66    Male     No     3      0         0\n",
       "2       21.01  3.50    Male     No     3      0         0\n",
       "3       23.68  3.31    Male     No     2      0         0\n",
       "4       24.59  3.61  Female     No     4      1         0"
      ]
     },
     "execution_count": 3,
     "metadata": {},
     "output_type": "execute_result"
    }
   ],
   "source": [
    "# 데이터 전처리\n",
    "## sex와 smoker는 영어이기 때문에 컴퓨터가 알아들을 수 있는 숫자로 변경해 줘야 합니다!\n",
    "## 간단하게 남자는0 여자는 1 / 비흡연자는 0 흡연자는 1로 바꾸겠습니다\n",
    "tips_df[\"sex_01\"] = tips_df['sex'].replace({\"Male\":0, 'Female':1})\n",
    "tips_df[\"smoker_01\"] = tips_df[\"smoker\"].replace({\"No\":0, \"Yes\":1})\n",
    "\n",
    "# sex_01과 smoker_01이 잘 생성된 것을 확인할 수 있습니다\n",
    "tips_df.head()"
   ]
  },
  {
   "cell_type": "code",
   "execution_count": 4,
   "metadata": {},
   "outputs": [],
   "source": [
    "# 머신러닝 용어로 X(독립변수)는 피처(feature), y(정답, 종속변수)은 레이블(label)이라고 합니다\n",
    "X = tips_df[[\"total_bill\",\"sex_01\",\"smoker_01\",\"size\"]].values\n",
    "y = tips_df[\"tip\"].values"
   ]
  },
  {
   "cell_type": "code",
   "execution_count": 5,
   "metadata": {},
   "outputs": [
    {
     "data": {
      "text/plain": [
       "LinearRegression()"
      ]
     },
     "execution_count": 5,
     "metadata": {},
     "output_type": "execute_result"
    }
   ],
   "source": [
    "# 싸이킷런 사용\n",
    "from sklearn.linear_model import LinearRegression\n",
    "\n",
    "model = LinearRegression()\n",
    "model.fit(X,y)"
   ]
  },
  {
   "cell_type": "code",
   "execution_count": 6,
   "metadata": {},
   "outputs": [
    {
     "name": "stdout",
     "output_type": "stream",
     "text": [
      "회귀계수(기울기):  [ 0.09410594  0.02726342 -0.08371135  0.18028013] , 절편:  0.6952285962069387\n",
      "모델의 R^2 :  0.46876606416389666\n"
     ]
    }
   ],
   "source": [
    "# 결과를 확인해봅시다\n",
    "print(\"회귀계수(기울기): \", model.coef_, \", 절편: \", model.intercept_) \n",
    "print(\"모델의 R^2 : \", model.score(X,y))"
   ]
  },
  {
   "attachments": {},
   "cell_type": "markdown",
   "metadata": {},
   "source": [
    "### 연습문제 1. 단순한 선형회귀를 넘어 규제항이 포함된 회귀를 해보자\n",
    "\n",
    "    Ridge / Lasso / ElasticNet이 있습니다 (일반적인 선형회귀를 OLS라 부릅니다)\n",
    "\n",
    "Lasso는 L1규제, Ridge는 L2규제, ElasticNet은 둘을 합친 규제가 들어간 선형회귀입니다\n",
    "\n",
    "![image.png](Ridge_Lasso.PNG)\n",
    "\n",
    "\n",
    "그림에서 볼 수 있듯, 일반적인 OLS의 비용함수(Cost Function, $\\sum e_i^2$)에 규제항이 뒤에 더해진 것을 볼 수 있습니다. \n",
    "\n",
    "규제항에 붙은 알파($a$)로 규제의 정도를 조절합니다($a=0$ 이면 릿지나 라쏘는 일반 OLS와 동일합니다!)"
   ]
  },
  {
   "cell_type": "code",
   "execution_count": 7,
   "metadata": {},
   "outputs": [
    {
     "data": {
      "text/plain": [
       "0.4499714078607421"
      ]
     },
     "execution_count": 7,
     "metadata": {},
     "output_type": "execute_result"
    }
   ],
   "source": [
    "# 연습문제 3) 알파를 1로 설정한 라쏘 회귀를 구현해 봅시다 / 이후 score를 출력해 봅시다\n",
    "## 예제에서 사용한 X,y를 사용합니다\n",
    "\n",
    "# 연습문제 3-1코드\n",
    "from sklearn.linear_model import Lasso\n",
    "lasso = Lasso(alpha=1)\n",
    "lasso.fit(X,y)\n",
    "lasso.score(X,y)"
   ]
  },
  {
   "cell_type": "code",
   "execution_count": 8,
   "metadata": {},
   "outputs": [
    {
     "data": {
      "text/plain": [
       "0.4499714078607421"
      ]
     },
     "execution_count": 8,
     "metadata": {},
     "output_type": "execute_result"
    }
   ],
   "source": [
    "# 연습문제 3-2) l1_ratio를 1으로 설정한 엘라스틱넷 회귀를 구현해 봅시다/  이후 score를 출력해 봅시다\n",
    "\n",
    "# 연습문제 3-2 코드\n",
    "from sklearn.linear_model import ElasticNet\n",
    "elastic = ElasticNet(l1_ratio=1)\n",
    "elastic.fit(X,y)\n",
    "elastic.score(X,y)"
   ]
  },
  {
   "cell_type": "code",
   "execution_count": 9,
   "metadata": {},
   "outputs": [],
   "source": [
    "# 연습문제 3-3) 왜 3-1번의 회귀와 3-2의 회귀의 score가 같을까요???\n",
    "## 답을 적어주시면 됩니다\n",
    "\n",
    "# 위 식에서 볼 수 있듯 엘라스틱 넷에서 알파1이 0이면 라쏘와 Cost Function이 동일해진다"
   ]
  },
  {
   "attachments": {},
   "cell_type": "markdown",
   "metadata": {},
   "source": [
    "### 연습문제 2. 데이터 분석\n",
    "\n",
    "수업시간에 사용했던 \"유상증자.csv\" 파일을 사용합니다!!"
   ]
  },
  {
   "cell_type": "code",
   "execution_count": 12,
   "metadata": {},
   "outputs": [],
   "source": [
    "df = pd.read_csv(\"유상증자.csv\", index_col=0) # Colab을 사용하신다면 적절한 파일 경로를 지정해주세요"
   ]
  },
  {
   "cell_type": "code",
   "execution_count": 9,
   "metadata": {},
   "outputs": [
    {
     "data": {
      "text/html": [
       "<div>\n",
       "<style scoped>\n",
       "    .dataframe tbody tr th:only-of-type {\n",
       "        vertical-align: middle;\n",
       "    }\n",
       "\n",
       "    .dataframe tbody tr th {\n",
       "        vertical-align: top;\n",
       "    }\n",
       "\n",
       "    .dataframe thead th {\n",
       "        text-align: right;\n",
       "    }\n",
       "</style>\n",
       "<table border=\"1\" class=\"dataframe\">\n",
       "  <thead>\n",
       "    <tr style=\"text-align: right;\">\n",
       "      <th></th>\n",
       "      <th>회사명</th>\n",
       "      <th>코드</th>\n",
       "      <th>보고서명</th>\n",
       "      <th>정정신고</th>\n",
       "    </tr>\n",
       "    <tr>\n",
       "      <th>공시일</th>\n",
       "      <th></th>\n",
       "      <th></th>\n",
       "      <th></th>\n",
       "      <th></th>\n",
       "    </tr>\n",
       "  </thead>\n",
       "  <tbody>\n",
       "    <tr>\n",
       "      <th>2022-11-21</th>\n",
       "      <td>이브이첨단소재</td>\n",
       "      <td>20221121000378</td>\n",
       "      <td>유상증자결정</td>\n",
       "      <td>YES</td>\n",
       "    </tr>\n",
       "    <tr>\n",
       "      <th>2022-11-21</th>\n",
       "      <td>솔고바이오</td>\n",
       "      <td>20221121000330</td>\n",
       "      <td>유상증자결정(종속회사의 주요경영사항)</td>\n",
       "      <td>NO</td>\n",
       "    </tr>\n",
       "    <tr>\n",
       "      <th>2022-11-18</th>\n",
       "      <td>커머스마이너</td>\n",
       "      <td>20221118000642</td>\n",
       "      <td>유상증자결정(제3자배정증자)</td>\n",
       "      <td>NO</td>\n",
       "    </tr>\n",
       "    <tr>\n",
       "      <th>2022-11-18</th>\n",
       "      <td>리더스 기술투자</td>\n",
       "      <td>20221118000612</td>\n",
       "      <td>유상증자결정(제3자배정)</td>\n",
       "      <td>YES</td>\n",
       "    </tr>\n",
       "    <tr>\n",
       "      <th>2022-11-18</th>\n",
       "      <td>ITX-AI</td>\n",
       "      <td>20221118000570</td>\n",
       "      <td>유상증자결정(제3자배정)</td>\n",
       "      <td>YES</td>\n",
       "    </tr>\n",
       "  </tbody>\n",
       "</table>\n",
       "</div>"
      ],
      "text/plain": [
       "                 회사명              코드                  보고서명 정정신고\n",
       "공시일                                                            \n",
       "2022-11-21   이브이첨단소재  20221121000378                유상증자결정  YES\n",
       "2022-11-21     솔고바이오  20221121000330  유상증자결정(종속회사의 주요경영사항)   NO\n",
       "2022-11-18    커머스마이너  20221118000642       유상증자결정(제3자배정증자)   NO\n",
       "2022-11-18  리더스 기술투자  20221118000612         유상증자결정(제3자배정)  YES\n",
       "2022-11-18    ITX-AI  20221118000570         유상증자결정(제3자배정)  YES"
      ]
     },
     "execution_count": 9,
     "metadata": {},
     "output_type": "execute_result"
    }
   ],
   "source": [
    "# 문제 2-1) 데이터프레임의 \"공시일\" 컬럼을 datetime 자료형으로 변환하고, 인덱스로 지정해주세요\n",
    "## 이후, 여전히 데이터에 남아있는 \"공시일\" 컬럼을 제거해주세요\n",
    "\n",
    "df.index = pd.to_datetime(df[\"공시일\"])\n",
    "df = df.drop(\"공시일\", axis=1)\n",
    "df.head()"
   ]
  },
  {
   "cell_type": "code",
   "execution_count": 12,
   "metadata": {},
   "outputs": [
    {
     "name": "stdout",
     "output_type": "stream",
     "text": [
      "10월 공시의 수: 80\n",
      "11월 공시의 수: 51\n"
     ]
    }
   ],
   "source": [
    "# 문제 2-2) 10월과 11월의 공시 개수를 각각 구해봅시다\n",
    "\n",
    "print(\"10월 공시의 수:\", len(df.loc[\"2022-10\"]))\n",
    "print(\"11월 공시의 수:\", len(df.loc[\"2022-11\"]))"
   ]
  },
  {
   "cell_type": "code",
   "execution_count": 13,
   "metadata": {},
   "outputs": [
    {
     "data": {
      "text/plain": [
       "어반리튬         5\n",
       "글로본          5\n",
       "UCI          4\n",
       "ITX-AI       4\n",
       "와이오엠         4\n",
       "            ..\n",
       "스튜디오산타클로스    1\n",
       "피씨엘          1\n",
       "이오플로우        1\n",
       "오가닉티코스메틱     1\n",
       "오비고          1\n",
       "Name: 회사명, Length: 81, dtype: int64"
      ]
     },
     "execution_count": 13,
     "metadata": {},
     "output_type": "execute_result"
    }
   ],
   "source": [
    "# 문제 2-3) 데이터에서 가장 많이 등장한 회사의 이름과 등장 횟수를 구해주세요\n",
    "\n",
    "df[\"회사명\"].value_counts()  # 어반리튬, 글로본 (5회)"
   ]
  },
  {
   "cell_type": "code",
   "execution_count": 14,
   "metadata": {},
   "outputs": [
    {
     "data": {
      "text/html": [
       "<div>\n",
       "<style scoped>\n",
       "    .dataframe tbody tr th:only-of-type {\n",
       "        vertical-align: middle;\n",
       "    }\n",
       "\n",
       "    .dataframe tbody tr th {\n",
       "        vertical-align: top;\n",
       "    }\n",
       "\n",
       "    .dataframe thead th {\n",
       "        text-align: right;\n",
       "    }\n",
       "</style>\n",
       "<table border=\"1\" class=\"dataframe\">\n",
       "  <thead>\n",
       "    <tr style=\"text-align: right;\">\n",
       "      <th></th>\n",
       "      <th>회사명</th>\n",
       "      <th>코드</th>\n",
       "      <th>보고서명</th>\n",
       "      <th>정정신고</th>\n",
       "    </tr>\n",
       "    <tr>\n",
       "      <th>공시일</th>\n",
       "      <th></th>\n",
       "      <th></th>\n",
       "      <th></th>\n",
       "      <th></th>\n",
       "    </tr>\n",
       "  </thead>\n",
       "  <tbody>\n",
       "    <tr>\n",
       "      <th>2022-11-17</th>\n",
       "      <td>다산네트웍스</td>\n",
       "      <td>20221117000353</td>\n",
       "      <td>투자판단 관련 주요경영사항(주요 연결종속회사의 유상증자 결정에 따른 지분율 및 지배...</td>\n",
       "      <td>NO</td>\n",
       "    </tr>\n",
       "    <tr>\n",
       "      <th>2022-11-08</th>\n",
       "      <td>지니뮤직</td>\n",
       "      <td>20221108000555</td>\n",
       "      <td>기타 주요경영사항(종속회사의 주요경영사항)(일반공모 유상증자 결정 철회)</td>\n",
       "      <td>NO</td>\n",
       "    </tr>\n",
       "    <tr>\n",
       "      <th>2022-10-18</th>\n",
       "      <td>유테크</td>\n",
       "      <td>20221018000274</td>\n",
       "      <td>기타 주요경영사항(제3자 배정 유상증자 결정 철회)</td>\n",
       "      <td>NO</td>\n",
       "    </tr>\n",
       "    <tr>\n",
       "      <th>2022-10-04</th>\n",
       "      <td>쇼박스</td>\n",
       "      <td>20221004000043</td>\n",
       "      <td>기타 주요경영사항(제3자배정 유상증자 결정 철회)</td>\n",
       "      <td>YES</td>\n",
       "    </tr>\n",
       "  </tbody>\n",
       "</table>\n",
       "</div>"
      ],
      "text/plain": [
       "               회사명              코드  \\\n",
       "공시일                                  \n",
       "2022-11-17  다산네트웍스  20221117000353   \n",
       "2022-11-08    지니뮤직  20221108000555   \n",
       "2022-10-18     유테크  20221018000274   \n",
       "2022-10-04     쇼박스  20221004000043   \n",
       "\n",
       "                                                         보고서명 정정신고  \n",
       "공시일                                                                 \n",
       "2022-11-17  투자판단 관련 주요경영사항(주요 연결종속회사의 유상증자 결정에 따른 지분율 및 지배...   NO  \n",
       "2022-11-08           기타 주요경영사항(종속회사의 주요경영사항)(일반공모 유상증자 결정 철회)   NO  \n",
       "2022-10-18                       기타 주요경영사항(제3자 배정 유상증자 결정 철회)   NO  \n",
       "2022-10-04                        기타 주요경영사항(제3자배정 유상증자 결정 철회)  YES  "
      ]
     },
     "execution_count": 14,
     "metadata": {},
     "output_type": "execute_result"
    }
   ],
   "source": [
    "# 문제 2-4) \"보고서명\" 컬럼에 \"유상증자결정\"이라는 단어가 들어가 있지 '않은' 데이터만 추출해주세요\n",
    "\n",
    "df.loc[~df[\"보고서명\"].str.contains(\"유상증자결정\")]"
   ]
  },
  {
   "cell_type": "code",
   "execution_count": 10,
   "metadata": {},
   "outputs": [
    {
     "data": {
      "text/html": [
       "<div>\n",
       "<style scoped>\n",
       "    .dataframe tbody tr th:only-of-type {\n",
       "        vertical-align: middle;\n",
       "    }\n",
       "\n",
       "    .dataframe tbody tr th {\n",
       "        vertical-align: top;\n",
       "    }\n",
       "\n",
       "    .dataframe thead th {\n",
       "        text-align: right;\n",
       "    }\n",
       "</style>\n",
       "<table border=\"1\" class=\"dataframe\">\n",
       "  <thead>\n",
       "    <tr style=\"text-align: right;\">\n",
       "      <th></th>\n",
       "      <th>회사명</th>\n",
       "      <th>코드</th>\n",
       "      <th>보고서명</th>\n",
       "      <th>정정신고</th>\n",
       "    </tr>\n",
       "    <tr>\n",
       "      <th>공시일</th>\n",
       "      <th></th>\n",
       "      <th></th>\n",
       "      <th></th>\n",
       "      <th></th>\n",
       "    </tr>\n",
       "  </thead>\n",
       "  <tbody>\n",
       "    <tr>\n",
       "      <th>2022-11-21</th>\n",
       "      <td>(주)이브이첨단소재</td>\n",
       "      <td>20221121000378</td>\n",
       "      <td>유상증자결정</td>\n",
       "      <td>YES</td>\n",
       "    </tr>\n",
       "    <tr>\n",
       "      <th>2022-11-21</th>\n",
       "      <td>(주)솔고바이오</td>\n",
       "      <td>20221121000330</td>\n",
       "      <td>유상증자결정(종속회사의 주요경영사항)</td>\n",
       "      <td>NO</td>\n",
       "    </tr>\n",
       "    <tr>\n",
       "      <th>2022-11-18</th>\n",
       "      <td>(주)커머스마이너</td>\n",
       "      <td>20221118000642</td>\n",
       "      <td>유상증자결정(제3자배정증자)</td>\n",
       "      <td>NO</td>\n",
       "    </tr>\n",
       "    <tr>\n",
       "      <th>2022-11-18</th>\n",
       "      <td>(주)리더스 기술투자</td>\n",
       "      <td>20221118000612</td>\n",
       "      <td>유상증자결정(제3자배정)</td>\n",
       "      <td>YES</td>\n",
       "    </tr>\n",
       "    <tr>\n",
       "      <th>2022-11-18</th>\n",
       "      <td>(주)ITX-AI</td>\n",
       "      <td>20221118000570</td>\n",
       "      <td>유상증자결정(제3자배정)</td>\n",
       "      <td>YES</td>\n",
       "    </tr>\n",
       "    <tr>\n",
       "      <th>...</th>\n",
       "      <td>...</td>\n",
       "      <td>...</td>\n",
       "      <td>...</td>\n",
       "      <td>...</td>\n",
       "    </tr>\n",
       "    <tr>\n",
       "      <th>2022-10-04</th>\n",
       "      <td>(주)카나리아바이오</td>\n",
       "      <td>20221004000486</td>\n",
       "      <td>유상증자결정</td>\n",
       "      <td>YES</td>\n",
       "    </tr>\n",
       "    <tr>\n",
       "      <th>2022-10-04</th>\n",
       "      <td>(주)쇼박스</td>\n",
       "      <td>20221004000043</td>\n",
       "      <td>기타 주요경영사항(제3자배정 유상증자 결정 철회)</td>\n",
       "      <td>YES</td>\n",
       "    </tr>\n",
       "    <tr>\n",
       "      <th>2022-10-04</th>\n",
       "      <td>(주)에이치앤비디자인</td>\n",
       "      <td>20221004000625</td>\n",
       "      <td>유상증자결정(제3자배정증자)</td>\n",
       "      <td>YES</td>\n",
       "    </tr>\n",
       "    <tr>\n",
       "      <th>2022-10-04</th>\n",
       "      <td>(주)카나리아바이오</td>\n",
       "      <td>20221004000564</td>\n",
       "      <td>유상증자결정</td>\n",
       "      <td>NO</td>\n",
       "    </tr>\n",
       "    <tr>\n",
       "      <th>2022-10-04</th>\n",
       "      <td>(주)쇼박스</td>\n",
       "      <td>20221004000001</td>\n",
       "      <td>유상증자결정</td>\n",
       "      <td>YES</td>\n",
       "    </tr>\n",
       "  </tbody>\n",
       "</table>\n",
       "<p>131 rows × 4 columns</p>\n",
       "</div>"
      ],
      "text/plain": [
       "                    회사명              코드                         보고서명 정정신고\n",
       "공시일                                                                      \n",
       "2022-11-21   (주)이브이첨단소재  20221121000378                       유상증자결정  YES\n",
       "2022-11-21     (주)솔고바이오  20221121000330         유상증자결정(종속회사의 주요경영사항)   NO\n",
       "2022-11-18    (주)커머스마이너  20221118000642              유상증자결정(제3자배정증자)   NO\n",
       "2022-11-18  (주)리더스 기술투자  20221118000612                유상증자결정(제3자배정)  YES\n",
       "2022-11-18    (주)ITX-AI  20221118000570                유상증자결정(제3자배정)  YES\n",
       "...                 ...             ...                          ...  ...\n",
       "2022-10-04   (주)카나리아바이오  20221004000486                       유상증자결정  YES\n",
       "2022-10-04       (주)쇼박스  20221004000043  기타 주요경영사항(제3자배정 유상증자 결정 철회)  YES\n",
       "2022-10-04  (주)에이치앤비디자인  20221004000625              유상증자결정(제3자배정증자)  YES\n",
       "2022-10-04   (주)카나리아바이오  20221004000564                       유상증자결정   NO\n",
       "2022-10-04       (주)쇼박스  20221004000001                       유상증자결정  YES\n",
       "\n",
       "[131 rows x 4 columns]"
      ]
     },
     "execution_count": 10,
     "metadata": {},
     "output_type": "execute_result"
    }
   ],
   "source": [
    "# 문제 2-5) 회사명의 모든 회사 이름 앞에 \"(주)\"를 추가해봅시다 Ex) 이브이첨단소재 -> (주)이브이첨단소재\n",
    "## 문자열도 더하기가 됩니다..!\n",
    "tmp_df = df.copy()\n",
    "tmp_df[\"회사명\"] = \"(주)\" + tmp_df.copy[\"회사명\"]\n",
    "tmp_df"
   ]
  }
 ],
 "metadata": {
  "kernelspec": {
   "display_name": "base",
   "language": "python",
   "name": "python3"
  },
  "language_info": {
   "codemirror_mode": {
    "name": "ipython",
    "version": 3
   },
   "file_extension": ".py",
   "mimetype": "text/x-python",
   "name": "python",
   "nbconvert_exporter": "python",
   "pygments_lexer": "ipython3",
   "version": "3.9.13"
  },
  "orig_nbformat": 4,
  "vscode": {
   "interpreter": {
    "hash": "a077222d77dfe082b8f1dd562ad70e458ac2ab76993a0b248ab0476e32e9e8dd"
   }
  }
 },
 "nbformat": 4,
 "nbformat_minor": 2
}
