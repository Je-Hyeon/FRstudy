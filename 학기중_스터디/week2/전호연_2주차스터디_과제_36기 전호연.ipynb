{
 "cells": [
  {
   "attachments": {},
   "cell_type": "markdown",
   "metadata": {},
   "source": [
    "# 2주차 스터디 과제\n",
    "\n",
    "Made by 35기 코딩부장 류제현"
   ]
  },
  {
   "cell_type": "code",
   "execution_count": null,
   "metadata": {},
   "outputs": [],
   "source": [
    "import numpy as np\n",
    "import pandas as pd \n",
    "import matplotlib.pyplot as plt"
   ]
  },
  {
   "attachments": {},
   "cell_type": "markdown",
   "metadata": {},
   "source": [
    "### 예시) Real Dataset을 사용한 머신러닝(회귀)\n",
    "\n",
    "* scikit-learn을 사용하겠습니다"
   ]
  },
  {
   "cell_type": "code",
   "execution_count": null,
   "metadata": {},
   "outputs": [],
   "source": [
    "# 사용할 tips 데이터셋을 불러오겠습니다. (식사 후 팁을 얼마나 지불하였는 지에 대한 정보가 담겨있습니다)\n",
    "import seaborn as sns\n",
    "tips_df = sns.load_dataset(\"tips\") \n",
    "\n",
    "# 문제를 간단하게 하기 위해서 필요한 특성만 가져오겠습니다\n",
    "tips_df = tips_df[[\"total_bill\",\"tip\",\"sex\",\"smoker\",\"size\"]]\n",
    "\n",
    "# 데이터셋이 어떻게 생겼는지 확인합니다\n",
    "print(\"Tips df의 크기: \", tips_df.shape)\n",
    "tips_df.head()"
   ]
  },
  {
   "attachments": {},
   "cell_type": "markdown",
   "metadata": {},
   "source": [
    "**식사금액(total_bill), 성별(sex),흡연여부(smoker),식사인원수(size)가 주어졌을 때, 팁(tip)을 얼마나 지불했는지 예측하는 머신러닝(선형회귀)알고리즘을 짜보겠습니다!**"
   ]
  },
  {
   "cell_type": "code",
   "execution_count": null,
   "metadata": {},
   "outputs": [],
   "source": [
    "# 데이터 전처리\n",
    "## sex와 smoker는 영어이기 때문에 컴퓨터가 알아들을 수 있는 숫자로 변경해 줘야 합니다!\n",
    "## 간단하게 남자는 0 여자는 1 / 비흡연자는 0 흡연자는 1로 바꾸겠습니다\n",
    "### 원본 컬럼에 바꾼 정보를 덮어 씌우지 않고, 컬럼 이름을 약간 바꿔서 새로운 컬럼으로 만들어 주겠습니다\n",
    "tips_df[\"sex_01\"] = tips_df['sex'].replace({\"Male\":0, 'Female':1})\n",
    "tips_df[\"smoker_01\"] = tips_df[\"smoker\"].replace({\"No\":0, \"Yes\":1})\n",
    "\n",
    "# sex_01과 smoker_01이 잘 생성된 것을 확인할 수 있습니다\n",
    "tips_df.head()"
   ]
  },
  {
   "cell_type": "code",
   "execution_count": null,
   "metadata": {},
   "outputs": [],
   "source": [
    "# 머신러닝 용어로 X(독립변수)는 피처(feature), y(정답 또는 종속변수)는 레이블(label)이라고 합니다\n",
    "## 학습에 사용할 피쳐와 레이블을 분리해주겠습니다\n",
    "X = tips_df[[\"total_bill\",\"sex_01\",\"smoker_01\",\"size\"]].values # values를 붙이면 데이터프레임을 넘파이 array 형태로 변환합니다\n",
    "y = tips_df[\"tip\"].values                                      #(넘파이 array로 변환하지 않고 데이터프레임을 그대로 사용해도 동일한 결과를 얻을 수 있습니다)"
   ]
  },
  {
   "cell_type": "code",
   "execution_count": null,
   "metadata": {},
   "outputs": [],
   "source": [
    "# 싸이킷런 사용\n",
    "from sklearn.linear_model import LinearRegression\n",
    "\n",
    "# 늘 하던 것 처럼 모델을 만들고 학습시켜줍니다\n",
    "model = LinearRegression()\n",
    "model.fit(X,y)"
   ]
  },
  {
   "cell_type": "code",
   "execution_count": null,
   "metadata": {},
   "outputs": [],
   "source": [
    "# 결과를 확인해봅시다\n",
    "print(\"회귀계수(기울기): \", model.coef_, \", 절편: \", model.intercept_) \n",
    "print(\"모델의 R^2 : \", model.score(X,y))"
   ]
  },
  {
   "attachments": {},
   "cell_type": "markdown",
   "metadata": {},
   "source": [
    "### 연습문제 1. 단순한 선형회귀를 넘어 규제항이 포함된 회귀를 해보자\n",
    "\n",
    "    Ridge / Lasso / ElasticNet이 있습니다 (일반적인 선형회귀를 OLS라 부릅니다)\n",
    "\n",
    "Lasso는 L1규제, Ridge는 L2규제, ElasticNet은 둘을 합친 규제가 들어간 선형회귀입니다\n",
    "\n",
    "![image.png](Ridge_Lasso.PNG)\n",
    "\n",
    "\n",
    "그림에서 볼 수 있듯, 일반적인 OLS의 비용함수(Cost Function, $\\sum e_i^2$)에 규제항이 뒤에 더해진 것을 볼 수 있습니다. \n",
    "\n",
    "규제항에 붙은 알파($a$)로 규제의 정도를 조절합니다($a=0$ 이면 릿지나 라쏘는 일반 OLS와 동일합니다!)"
   ]
  },
  {
   "cell_type": "code",
   "execution_count": null,
   "metadata": {},
   "outputs": [],
   "source": [
    "# 연습문제 1-1) 알파를 1로 설정한 라쏘 회귀를 구현해 봅시다 / 이후 score(R^2)를 출력해 봅시다\n",
    "## 예제에서 사용한 X,y를 사용합니다\n",
    "\n",
    "# 연습문제 1-1코드\n",
    "from sklearn.linear_model import Lasso\n",
    "lasso = Lasso(alpha=1)\n",
    "\n",
    "lasso.fit(X,y)\n",
    "\n",
    "print(\"회귀계수:\", lasso.coef_, \", 절편:\", lasso.intercept_)\n",
    "print(\"R^2: \", lasso.score(X,y))\n"
   ]
  },
  {
   "cell_type": "code",
   "execution_count": null,
   "metadata": {},
   "outputs": [],
   "source": [
    "# 연습문제 1-2) l1_ratio를 1으로 설정한 엘라스틱넷 회귀를 구현해 봅시다/  이후 score(R^2)를 출력해 봅시다\n",
    "\n",
    "# 연습문제 1-2 코드\n",
    "from sklearn.linear_model import ElasticNet\n",
    "elastic = ElasticNet(l1_ratio=1)\n",
    "\n",
    "elastic.fit(X,y)\n",
    "\n",
    "print(\"회귀계수:\", elastic.coef_, \", 절편:\", elastic.intercept_)\n",
    "print(\"R^2:\", elastic.score(X,y))"
   ]
  },
  {
   "cell_type": "code",
   "execution_count": null,
   "metadata": {},
   "outputs": [],
   "source": [
    "# 연습문제 1-3) 왜 1-1번의 회귀와 1-2의 회귀의 score가 같을까요???\n",
    "## 답을 적어주시면 됩니다\n",
    "\n",
    "#ElasticNet은 L1과 L2 규제를 합친 규제가 들어간 선형회귀인데 L1의 ratio가 1이고, \n",
    "#따라서 L2의 ratio가 0이기 때문에 L1규제만 들어간 선형회귀가 된 것\n"
   ]
  },
  {
   "attachments": {},
   "cell_type": "markdown",
   "metadata": {},
   "source": [
    "### 연습문제 2. 데이터 분석\n",
    "\n",
    "수업시간에 사용했던 \"유상증자.csv\" 파일을 사용합니다!!"
   ]
  },
  {
   "cell_type": "code",
   "execution_count": null,
   "metadata": {},
   "outputs": [],
   "source": [
    "df = pd.read_csv(\"유상증자.csv\", index_col=0) \n",
    "# Colab을 사용하신다면 적절한 파일 경로를 지정해주세요\n",
    "df"
   ]
  },
  {
   "cell_type": "code",
   "execution_count": null,
   "metadata": {},
   "outputs": [],
   "source": [
    "# 문제 2-1) 데이터프레임의 \"공시일\" 컬럼을 datetime 자료형으로 변환하고, 인덱스로 지정해주세요\n",
    "## 이후, 여전히 데이터에 남아있는 \"공시일\" 컬럼을 제거해주세요\n",
    "\n",
    "df.index = pd.to_datetime(df['공시일'])"
   ]
  },
  {
   "cell_type": "code",
   "execution_count": null,
   "metadata": {},
   "outputs": [],
   "source": [
    "df = df.drop(\"공시일\", axis=1)\n",
    "df"
   ]
  },
  {
   "cell_type": "code",
   "execution_count": null,
   "metadata": {},
   "outputs": [],
   "source": [
    "# 문제 2-2) 10월과 11월의 공시 개수를 각각 구해봅시다\n",
    "\n",
    "oct = df[\"코드\"].loc[\"2022-10\"].count()\n",
    "nov = df[\"코드\"].loc[\"2022-11\"].count()\n",
    "\n",
    "print(\"10월 공시 개수:\", oct)\n",
    "print(\"11월 공시 개수:\", nov)\n"
   ]
  },
  {
   "attachments": {},
   "cell_type": "markdown",
   "metadata": {},
   "source": [
    "    여기 알려줄거 있음"
   ]
  },
  {
   "cell_type": "code",
   "execution_count": null,
   "metadata": {},
   "outputs": [],
   "source": [
    "df['회사명'].value_counts().iloc[[0]]"
   ]
  },
  {
   "cell_type": "code",
   "execution_count": null,
   "metadata": {},
   "outputs": [],
   "source": [
    "# 문제 2-3) 데이터에서 가장 많이 등장한 회사의 이름과 등장 횟수를 구해주세요\n",
    "\n",
    "company = df['회사명'].value_counts().keys()[0]\n",
    "num = df['회사명'].value_counts().iloc[0]\n",
    "\n",
    "print(company, \": \", num)\n"
   ]
  },
  {
   "cell_type": "code",
   "execution_count": null,
   "metadata": {},
   "outputs": [],
   "source": [
    "# 문제 2-4) \"보고서명\" 컬럼에 \"유상증자결정\"이라는 단어가 들어가 있지 '않은' 데이터만 추출해주세요\n",
    "df.loc[~df['보고서명'].str.contains(\"유상증자결정\")]\n"
   ]
  },
  {
   "attachments": {},
   "cell_type": "markdown",
   "metadata": {},
   "source": [
    "    여기도 다시한번 봅시다~(우선 변수참조를 잘못했음)"
   ]
  },
  {
   "cell_type": "code",
   "execution_count": null,
   "metadata": {},
   "outputs": [],
   "source": [
    "# 문제 2-5) 회사명의 모든 회사 이름 앞에 \"(주)\"를 추가해봅시다 Ex) 이브이첨단소재 -> (주)이브이첨단소재\n",
    "## 문자열도 더하기가 됩니다..!\n",
    "\n",
    "df = df['회사명'].apply(lambda x: '(주)'+str(x))\n",
    "df\n",
    "\n",
    "#str(x)라고 안 하면 자꾸 'can only concatenate str (not \"float\") to str'라는 에러가 뜨는데 x가 왜 float일까\n"
   ]
  }
 ],
 "metadata": {
  "kernelspec": {
   "display_name": "base",
   "language": "python",
   "name": "python3"
  },
  "language_info": {
   "codemirror_mode": {
    "name": "ipython",
    "version": 3
   },
   "file_extension": ".py",
   "mimetype": "text/x-python",
   "name": "python",
   "nbconvert_exporter": "python",
   "pygments_lexer": "ipython3",
   "version": "3.9.13"
  },
  "orig_nbformat": 4,
  "vscode": {
   "interpreter": {
    "hash": "a077222d77dfe082b8f1dd562ad70e458ac2ab76993a0b248ab0476e32e9e8dd"
   }
  }
 },
 "nbformat": 4,
 "nbformat_minor": 2
}
