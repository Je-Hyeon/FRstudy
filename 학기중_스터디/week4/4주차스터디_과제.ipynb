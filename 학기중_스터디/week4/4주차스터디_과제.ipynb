{
 "cells": [
  {
   "attachments": {},
   "cell_type": "markdown",
   "metadata": {},
   "source": [
    "# 4주차 스터디 과제\n",
    "\n",
    "Made by 35기 코딩부장 류제현"
   ]
  },
  {
   "cell_type": "code",
   "execution_count": null,
   "metadata": {},
   "outputs": [],
   "source": [
    "import numpy as np\n",
    "import pandas as pd \n",
    "import matplotlib.pyplot as plt"
   ]
  },
  {
   "attachments": {},
   "cell_type": "markdown",
   "metadata": {},
   "source": [
    "### 데이터 전처리 실습"
   ]
  },
  {
   "attachments": {},
   "cell_type": "markdown",
   "metadata": {},
   "source": [
    "    연습문제 1\n",
    "\n",
    "아래의 지시대로 연습문제를 진행하시면 됩니다"
   ]
  },
  {
   "cell_type": "code",
   "execution_count": null,
   "metadata": {},
   "outputs": [],
   "source": [
    "# 사용할 데이터셋을 불러오겠습니다 -> 팽귄 데이터셋을 사용합니다\n",
    "from seaborn import load_dataset\n",
    "\n",
    "peng_df = load_dataset(\"penguins\")\n",
    "peng_df.head()"
   ]
  },
  {
   "cell_type": "code",
   "execution_count": null,
   "metadata": {},
   "outputs": [],
   "source": [
    "# 1-1) bill_length_mm/ bill_depth_mm / flipper_length_mm / body_mass_g 에 결측값이 존재합니다 -> 각각의 평균을 NaN 값에 넣어줍시다\n",
    "## 주의! 서식지(island), 성별(sex)과 팽귄의 종류(species)의 평균은 아무런 의미를 가지지 않기 때문에 내버려 두어야 합니다!!\n",
    "\n",
    "#  연습 1-1번 코드\n",
    "from sklearn.impute import SimpleImputer\n",
    "\n"
   ]
  },
  {
   "cell_type": "code",
   "execution_count": null,
   "metadata": {},
   "outputs": [],
   "source": [
    "# 1-2) 앞서 평균값을 삽입해주었지만, 서식지와 성별과 팽귄의 종에는 아무런 천처리를 하지 않았습니다. \n",
    "## 이들에 NaN값이 있다면, 단순히 drop 시켜주도록 합시다\n",
    "\n",
    "# 연습 1-2번 코드\n"
   ]
  },
  {
   "attachments": {},
   "cell_type": "markdown",
   "metadata": {},
   "source": [
    "MinMax 공식: $\\quad$      $X_{scaled} =$ $X - X_{min} \\over {X_{max} - X_{min}}$"
   ]
  },
  {
   "cell_type": "code",
   "execution_count": null,
   "metadata": {},
   "outputs": [],
   "source": [
    "# 결측치 처리가 이제 완료되었습니다.\n",
    "## 부리 길이, 부리 두께, 지느러미 길이, 몸무게 특성에 스케일링을 적용해 보겠습니다\n",
    "\n",
    "### 1-3) 우선 위의 공식을 참고해, 넘파이로 body_mass_g를 직접 min_max_scaling해 봅시다 (위 이미지가 보이지 않는다면 구글에 minmaxscaling을 검색하면 공식이 나옵니다)\n",
    "\n",
    "# 연습 1-3 코드\n"
   ]
  },
  {
   "cell_type": "code",
   "execution_count": null,
   "metadata": {},
   "outputs": [],
   "source": [
    "# 1-4) 나머지 특성(부리길이, 부리두께, 지느러미길이)은 싸이킷런을 사용해 정규화(Normalization)해 봅시다\n",
    "\n",
    "# 연습 1-4 코드\n",
    "from sklearn.preprocessing import Normalizer\n",
    "normal = Normalizer()\n"
   ]
  },
  {
   "attachments": {},
   "cell_type": "markdown",
   "metadata": {},
   "source": [
    "### 2. 오버피팅을 직접 경험해보자"
   ]
  },
  {
   "attachments": {},
   "cell_type": "markdown",
   "metadata": {},
   "source": [
    "    연습문제 2: 오버피팅을 직접 경험해보자\n",
    "\n",
    "데이터를 100차식으로 변환시켜 회귀하면 오버피팅 되는 것을 확인할 수 있습니다"
   ]
  },
  {
   "cell_type": "code",
   "execution_count": null,
   "metadata": {},
   "outputs": [],
   "source": [
    "# 우선 회귀를 하기 위해서 임의의 데이터를 생성하겠습니다\n",
    "np.random.seed(10)\n",
    "\n",
    "# 수정사항있음(과제오표기)\n",
    "n = 200\n",
    "X = 20 * np.random.rand(n,1) - 10\n",
    "y = 0.5*X**2 + X + 2 + (5* np.random.randn(n,1))\n",
    "plt.scatter(X,y);\n",
    "# 이 데이터는 눈으로 봤을 때 2차식곡선으로 피팅하는 것이 제일 적합해 보입니다. 하지만, 만약 50차식으로 피팅한다면 어떻게 될까요?"
   ]
  },
  {
   "cell_type": "code",
   "execution_count": null,
   "metadata": {},
   "outputs": [],
   "source": [
    "# 2-1) 데이터(X,y)를 train_set과 test_set으로 분리해봅시다. (동일한 결과를 위해 random_state=10로 지정)\n",
    "\n",
    "# 연습 2-1 코드\n",
    "from sklearn.model_selection import train_test_split\n"
   ]
  },
  {
   "cell_type": "code",
   "execution_count": null,
   "metadata": {},
   "outputs": [],
   "source": [
    "# 2-2) 싸이킷런의 PolynomialFeature를 사용해, 데이터를 50차식으로 변환해줍시다(편향(bias)은 포함하지 않습니다)\n",
    "## 주의 1) train_set과 test_set을 둘 다 변환시켜줘야 하는 것을 잊지 마세요! (X_train을 X_train_poly, X_test를 X_test_poly 이름으로 받아주세요)\n",
    "## 주의 2) y는 정답지라서 당연히 변환하면 안됩니다!\n",
    "\n",
    "# 연습 2-2코드\n",
    "from sklearn.preprocessing import PolynomialFeatures\n"
   ]
  },
  {
   "cell_type": "code",
   "execution_count": null,
   "metadata": {},
   "outputs": [],
   "source": [
    "# 2-3) 싸이킷런의 LinearRegression으로 100차식으로 변환한 X_train_poly와 y_train를 회귀해 봅시다\n",
    "\n",
    "# 연습 2-3코드\n",
    "from sklearn.linear_model import LinearRegression\n"
   ]
  },
  {
   "cell_type": "code",
   "execution_count": null,
   "metadata": {},
   "outputs": [],
   "source": [
    "# 2-4) 앞에서 만든 모형의 X_train_poly, y_train에 대한 score를 구해봅시다\n",
    "\n",
    "# 연습 2-4 코드\n"
   ]
  },
  {
   "cell_type": "code",
   "execution_count": null,
   "metadata": {},
   "outputs": [],
   "source": [
    "# 2-5) X_test_poly, y_test에 대한 score를 구해봅시다\n",
    "\n",
    "# 연습 2-5코드\n"
   ]
  },
  {
   "cell_type": "code",
   "execution_count": null,
   "metadata": {},
   "outputs": [],
   "source": [
    "# 2-6) 이번에는 싸이킷런의 PolynomialFeature를 사용해, 데이터를 2차식으로 변환해줍시다(편향(bias)은 포함하지 않습니다)\n",
    "## 주의 1) train_set과 test_set을 둘 다 변환시켜줘야 하는 것을 잊지 마세요! (X_train을 X_train_poly, X_test를 X_test_poly 이름으로 받아주세요)\n",
    "## 주의 2) y는 정답지라서 당연히 변환하면 안됩니다!\n",
    "\n",
    "# 연습 2-6코드\n"
   ]
  },
  {
   "cell_type": "code",
   "execution_count": null,
   "metadata": {},
   "outputs": [],
   "source": [
    "# 2-6) 2차식으로 변환한 데이터(X_train_poly)와 y_train를 회귀해 봅시다 / 회귀 후 X_train_poly에 대한 score를 구해봅시다\n",
    "\n",
    "# 연습 2-6코드\n"
   ]
  },
  {
   "cell_type": "code",
   "execution_count": null,
   "metadata": {},
   "outputs": [],
   "source": [
    "# 2-6) X_test_poly에 대한 score를 구해봅시다\n"
   ]
  }
 ],
 "metadata": {
  "kernelspec": {
   "display_name": "base",
   "language": "python",
   "name": "python3"
  },
  "language_info": {
   "codemirror_mode": {
    "name": "ipython",
    "version": 3
   },
   "file_extension": ".py",
   "mimetype": "text/x-python",
   "name": "python",
   "nbconvert_exporter": "python",
   "pygments_lexer": "ipython3",
   "version": "3.9.13"
  },
  "orig_nbformat": 4,
  "vscode": {
   "interpreter": {
    "hash": "a077222d77dfe082b8f1dd562ad70e458ac2ab76993a0b248ab0476e32e9e8dd"
   }
  }
 },
 "nbformat": 4,
 "nbformat_minor": 2
}
