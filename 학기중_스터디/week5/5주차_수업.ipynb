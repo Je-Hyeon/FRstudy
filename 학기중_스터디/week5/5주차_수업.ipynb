{
 "cells": [
  {
   "attachments": {},
   "cell_type": "markdown",
   "metadata": {},
   "source": [
    "# 5주차 스터디\n",
    "\n",
    "Made by 35기 코딩부장 류제현"
   ]
  },
  {
   "cell_type": "code",
   "execution_count": 1,
   "metadata": {},
   "outputs": [],
   "source": [
    "import numpy as npa\n",
    "import pandas as pd\n",
    "import matplotlib.pyplot as plt"
   ]
  },
  {
   "attachments": {},
   "cell_type": "markdown",
   "metadata": {},
   "source": [
    "## 1. Pandas Apply 사용과 정규표현식(Regular Expression)\n",
    "\n",
    "Spam 메일 데이터 셋을 사용하겠습니다"
   ]
  },
  {
   "cell_type": "code",
   "execution_count": 2,
   "metadata": {},
   "outputs": [
    {
     "data": {
      "text/html": [
       "<div>\n",
       "<style scoped>\n",
       "    .dataframe tbody tr th:only-of-type {\n",
       "        vertical-align: middle;\n",
       "    }\n",
       "\n",
       "    .dataframe tbody tr th {\n",
       "        vertical-align: top;\n",
       "    }\n",
       "\n",
       "    .dataframe thead th {\n",
       "        text-align: right;\n",
       "    }\n",
       "</style>\n",
       "<table border=\"1\" class=\"dataframe\">\n",
       "  <thead>\n",
       "    <tr style=\"text-align: right;\">\n",
       "      <th></th>\n",
       "      <th>text</th>\n",
       "      <th>target</th>\n",
       "    </tr>\n",
       "  </thead>\n",
       "  <tbody>\n",
       "    <tr>\n",
       "      <th>0</th>\n",
       "      <td>Go until jurong point, crazy.. Available only ...</td>\n",
       "      <td>ham</td>\n",
       "    </tr>\n",
       "    <tr>\n",
       "      <th>1</th>\n",
       "      <td>Ok lar... Joking wif u oni...</td>\n",
       "      <td>ham</td>\n",
       "    </tr>\n",
       "    <tr>\n",
       "      <th>2</th>\n",
       "      <td>Free entry in 2 a wkly comp to win FA Cup fina...</td>\n",
       "      <td>spam</td>\n",
       "    </tr>\n",
       "    <tr>\n",
       "      <th>3</th>\n",
       "      <td>U dun say so early hor... U c already then say...</td>\n",
       "      <td>ham</td>\n",
       "    </tr>\n",
       "    <tr>\n",
       "      <th>4</th>\n",
       "      <td>Nah I don't think he goes to usf, he lives aro...</td>\n",
       "      <td>ham</td>\n",
       "    </tr>\n",
       "    <tr>\n",
       "      <th>...</th>\n",
       "      <td>...</td>\n",
       "      <td>...</td>\n",
       "    </tr>\n",
       "    <tr>\n",
       "      <th>5567</th>\n",
       "      <td>This is the 2nd time we have tried 2 contact u...</td>\n",
       "      <td>spam</td>\n",
       "    </tr>\n",
       "    <tr>\n",
       "      <th>5568</th>\n",
       "      <td>Will Ì_ b going to esplanade fr home?</td>\n",
       "      <td>ham</td>\n",
       "    </tr>\n",
       "    <tr>\n",
       "      <th>5569</th>\n",
       "      <td>Pity, * was in mood for that. So...any other s...</td>\n",
       "      <td>ham</td>\n",
       "    </tr>\n",
       "    <tr>\n",
       "      <th>5570</th>\n",
       "      <td>The guy did some bitching but I acted like i'd...</td>\n",
       "      <td>ham</td>\n",
       "    </tr>\n",
       "    <tr>\n",
       "      <th>5571</th>\n",
       "      <td>Rofl. Its true to its name</td>\n",
       "      <td>ham</td>\n",
       "    </tr>\n",
       "  </tbody>\n",
       "</table>\n",
       "<p>5572 rows × 2 columns</p>\n",
       "</div>"
      ],
      "text/plain": [
       "                                                   text target\n",
       "0     Go until jurong point, crazy.. Available only ...    ham\n",
       "1                         Ok lar... Joking wif u oni...    ham\n",
       "2     Free entry in 2 a wkly comp to win FA Cup fina...   spam\n",
       "3     U dun say so early hor... U c already then say...    ham\n",
       "4     Nah I don't think he goes to usf, he lives aro...    ham\n",
       "...                                                 ...    ...\n",
       "5567  This is the 2nd time we have tried 2 contact u...   spam\n",
       "5568              Will Ì_ b going to esplanade fr home?    ham\n",
       "5569  Pity, * was in mood for that. So...any other s...    ham\n",
       "5570  The guy did some bitching but I acted like i'd...    ham\n",
       "5571                         Rofl. Its true to its name    ham\n",
       "\n",
       "[5572 rows x 2 columns]"
      ]
     },
     "execution_count": 2,
     "metadata": {},
     "output_type": "execute_result"
    }
   ],
   "source": [
    "# 데이터를 불러옵니다\n",
    "spam = pd.read_csv(\"Data/spam.csv\")\n",
    "\n",
    "spam"
   ]
  },
  {
   "cell_type": "code",
   "execution_count": 3,
   "metadata": {},
   "outputs": [
    {
     "data": {
      "text/html": [
       "<div>\n",
       "<style scoped>\n",
       "    .dataframe tbody tr th:only-of-type {\n",
       "        vertical-align: middle;\n",
       "    }\n",
       "\n",
       "    .dataframe tbody tr th {\n",
       "        vertical-align: top;\n",
       "    }\n",
       "\n",
       "    .dataframe thead th {\n",
       "        text-align: right;\n",
       "    }\n",
       "</style>\n",
       "<table border=\"1\" class=\"dataframe\">\n",
       "  <thead>\n",
       "    <tr style=\"text-align: right;\">\n",
       "      <th></th>\n",
       "      <th>text</th>\n",
       "      <th>target</th>\n",
       "    </tr>\n",
       "  </thead>\n",
       "  <tbody>\n",
       "    <tr>\n",
       "      <th>0</th>\n",
       "      <td>Go until jurong point, crazy.. Available only ...</td>\n",
       "      <td>0</td>\n",
       "    </tr>\n",
       "    <tr>\n",
       "      <th>1</th>\n",
       "      <td>Ok lar... Joking wif u oni...</td>\n",
       "      <td>0</td>\n",
       "    </tr>\n",
       "    <tr>\n",
       "      <th>2</th>\n",
       "      <td>Free entry in 2 a wkly comp to win FA Cup fina...</td>\n",
       "      <td>1</td>\n",
       "    </tr>\n",
       "    <tr>\n",
       "      <th>3</th>\n",
       "      <td>U dun say so early hor... U c already then say...</td>\n",
       "      <td>0</td>\n",
       "    </tr>\n",
       "    <tr>\n",
       "      <th>4</th>\n",
       "      <td>Nah I don't think he goes to usf, he lives aro...</td>\n",
       "      <td>0</td>\n",
       "    </tr>\n",
       "    <tr>\n",
       "      <th>...</th>\n",
       "      <td>...</td>\n",
       "      <td>...</td>\n",
       "    </tr>\n",
       "    <tr>\n",
       "      <th>5567</th>\n",
       "      <td>This is the 2nd time we have tried 2 contact u...</td>\n",
       "      <td>1</td>\n",
       "    </tr>\n",
       "    <tr>\n",
       "      <th>5568</th>\n",
       "      <td>Will Ì_ b going to esplanade fr home?</td>\n",
       "      <td>0</td>\n",
       "    </tr>\n",
       "    <tr>\n",
       "      <th>5569</th>\n",
       "      <td>Pity, * was in mood for that. So...any other s...</td>\n",
       "      <td>0</td>\n",
       "    </tr>\n",
       "    <tr>\n",
       "      <th>5570</th>\n",
       "      <td>The guy did some bitching but I acted like i'd...</td>\n",
       "      <td>0</td>\n",
       "    </tr>\n",
       "    <tr>\n",
       "      <th>5571</th>\n",
       "      <td>Rofl. Its true to its name</td>\n",
       "      <td>0</td>\n",
       "    </tr>\n",
       "  </tbody>\n",
       "</table>\n",
       "<p>5572 rows × 2 columns</p>\n",
       "</div>"
      ],
      "text/plain": [
       "                                                   text  target\n",
       "0     Go until jurong point, crazy.. Available only ...       0\n",
       "1                         Ok lar... Joking wif u oni...       0\n",
       "2     Free entry in 2 a wkly comp to win FA Cup fina...       1\n",
       "3     U dun say so early hor... U c already then say...       0\n",
       "4     Nah I don't think he goes to usf, he lives aro...       0\n",
       "...                                                 ...     ...\n",
       "5567  This is the 2nd time we have tried 2 contact u...       1\n",
       "5568              Will Ì_ b going to esplanade fr home?       0\n",
       "5569  Pity, * was in mood for that. So...any other s...       0\n",
       "5570  The guy did some bitching but I acted like i'd...       0\n",
       "5571                         Rofl. Its true to its name       0\n",
       "\n",
       "[5572 rows x 2 columns]"
      ]
     },
     "execution_count": 3,
     "metadata": {},
     "output_type": "execute_result"
    }
   ],
   "source": [
    "# np.where(조건, 참일 경우, 거짓일 경우)\n",
    "# 정답지(target)을 1과 0으로 변경 (머신러닝 모델을 짜고 싶다면 이렇게 변경해야 한다)\n",
    "spam['target'] = np.where(spam['target']=='spam',1,0)\n",
    "\n",
    "# 이 셀을 두 번 실행시키면 값이 달라지는데 그 이유는 아시겠죠?\n",
    "spam"
   ]
  },
  {
   "attachments": {},
   "cell_type": "markdown",
   "metadata": {},
   "source": [
    "spam의 문자열 수와, non_spam의 문자열 개수의 평균을 구해봅시다"
   ]
  },
  {
   "cell_type": "code",
   "execution_count": 4,
   "metadata": {},
   "outputs": [],
   "source": [
    "# apply에 함수를 넣어주는데 지금까지 우리는 우리가 만들어준 함수인 lambda를 넣어줬습니다\n",
    "## 하지만, len과 같은 파이썬 내장 함수도 적용할 수 있습니다\n",
    "avg_0 = spam.loc[spam.target == 0][\"text\"].apply(len).mean()\n",
    "avg_1 = spam.loc[spam.target == 1][\"text\"].apply(len).mean()"
   ]
  },
  {
   "cell_type": "code",
   "execution_count": 5,
   "metadata": {},
   "outputs": [
    {
     "data": {
      "text/plain": [
       "(71.02362694300518, 138.8661311914324)"
      ]
     },
     "execution_count": 5,
     "metadata": {},
     "output_type": "execute_result"
    }
   ],
   "source": [
    "# 결과를 확인해봅시다\n",
    "avg_0, avg_1"
   ]
  },
  {
   "attachments": {},
   "cell_type": "markdown",
   "metadata": {},
   "source": [
    "    Spam과 Non Spam 메일에 숫자가 평균적으로 몇 번 들어가 있을까요\n",
    "\n",
    "정규표현식 소개 (Regular Expression)\n",
    "\n",
    "* import re\n",
    "\n",
    "* 자연어처리(NLP)를 할 때 매우 유용하게 사용함\n",
    "\n",
    "* 단어의 규칙, 뭉치 등을 찾아올 때 편하다\n",
    "\n",
    "* 정규표현식 하나만으로도 책 한권이 나오는 분량입니다. 이런게 있다고만 알고 계시고, 나중에 필요할 때 공부하시면 될 것 같습니다"
   ]
  },
  {
   "cell_type": "code",
   "execution_count": 6,
   "metadata": {},
   "outputs": [],
   "source": [
    "# 이 문자열에서 가격만 추출해볼까요?\n",
    "string = \"한 주당 1,000원, 시가총액은 300,000,000원입니다\""
   ]
  },
  {
   "cell_type": "code",
   "execution_count": 7,
   "metadata": {},
   "outputs": [
    {
     "data": {
      "text/plain": [
       "['1,000원', '300,000,000원']"
      ]
     },
     "execution_count": 7,
     "metadata": {},
     "output_type": "execute_result"
    }
   ],
   "source": [
    "# Regular Expression 모듈은 import re로 불러올 수 있습니다\n",
    "import re\n",
    "\n",
    "# re에는 여러 함수가 있는데, 그 중에서도 규칙에 맞는 모든 단어를 찾아오는 findall 함수를 사용해 보겠습니다\n",
    "re.findall(\"[0-9,]+원\", string)\n",
    "\n",
    "## [0-9,] -> 0과 9사이의 모든 숫자 그리고 쉼표(,)를 찾아오라는 의미 \n",
    "## +      -> More than One\n",
    "## 원     -> \"원\""
   ]
  },
  {
   "cell_type": "code",
   "execution_count": 8,
   "metadata": {},
   "outputs": [
    {
     "data": {
      "text/plain": [
       "0       Go until jurong point, crazy.. Available only ...\n",
       "1                           Ok lar... Joking wif u oni...\n",
       "2       Free entry in 2 a wkly comp to win FA Cup fina...\n",
       "3       U dun say so early hor... U c already then say...\n",
       "4       Nah I don't think he goes to usf, he lives aro...\n",
       "                              ...                        \n",
       "5567    This is the 2nd time we have tried 2 contact u...\n",
       "5568                Will Ì_ b going to esplanade fr home?\n",
       "5569    Pity, * was in mood for that. So...any other s...\n",
       "5570    The guy did some bitching but I acted like i'd...\n",
       "5571                           Rofl. Its true to its name\n",
       "Name: text, Length: 5572, dtype: object"
      ]
     },
     "execution_count": 8,
     "metadata": {},
     "output_type": "execute_result"
    }
   ],
   "source": [
    "# Spam 매일과 Non-spam 매일에 들어있는 숫자의 개수를 구해봅시다\n",
    "spam[\"text\"]\n",
    "\n",
    "## 여기에 정규표현식을 이용한 함수를 만들어서 apply에 넣어주면 되겠죠?"
   ]
  },
  {
   "cell_type": "code",
   "execution_count": 9,
   "metadata": {},
   "outputs": [],
   "source": [
    "# 함수를 짜줍시다\n",
    "def count_digit(x): # x가 하나의 메일 text가 된다 (lambda x: 의 x와 동일하다고 생각하면 된다)\n",
    "    pure_digit = re.findall('[0-9]',x) \n",
    "    len_digit = len(pure_digit)\n",
    "    return len_digit"
   ]
  },
  {
   "cell_type": "code",
   "execution_count": 10,
   "metadata": {},
   "outputs": [
    {
     "data": {
      "text/plain": [
       "(0.2992746113989637, 15.759036144578314)"
      ]
     },
     "execution_count": 10,
     "metadata": {},
     "output_type": "execute_result"
    }
   ],
   "source": [
    "# apply에 넣어줍시다\n",
    "digit_0 = spam.loc[spam.target == 0][\"text\"].apply(count_digit)\n",
    "digit_1 = spam.loc[spam.target == 1][\"text\"].apply(count_digit)\n",
    "\n",
    "# 개수의 평균을 구해봅시다 -> spam 메일이 숫자가 많이 들어가 있군요\n",
    "digit_0.mean(), digit_1.mean()"
   ]
  },
  {
   "attachments": {},
   "cell_type": "markdown",
   "metadata": {},
   "source": [
    "정리) 새로 배운거\n",
    "\n",
    "1. np.where -> 퀀트에서도 많이 씀\n",
    "\n",
    "2. Regular Expression\n",
    "\n",
    "3. apply에 직접 짠 함수 넣기"
   ]
  },
  {
   "attachments": {},
   "cell_type": "markdown",
   "metadata": {},
   "source": [
    "## Machine Learning Basic 2\n",
    "\n",
    "지난주 수업에 이어서 scikit-learn을 사용한 머신러닝을 배워보겠습니다\n",
    "\n",
    "주가를 예측하는 간단한 머신러닝 모델을 만들어 보겠습니다"
   ]
  },
  {
   "cell_type": "code",
   "execution_count": 27,
   "metadata": {},
   "outputs": [
    {
     "data": {
      "text/html": [
       "<div>\n",
       "<style scoped>\n",
       "    .dataframe tbody tr th:only-of-type {\n",
       "        vertical-align: middle;\n",
       "    }\n",
       "\n",
       "    .dataframe tbody tr th {\n",
       "        vertical-align: top;\n",
       "    }\n",
       "\n",
       "    .dataframe thead th {\n",
       "        text-align: right;\n",
       "    }\n",
       "</style>\n",
       "<table border=\"1\" class=\"dataframe\">\n",
       "  <thead>\n",
       "    <tr style=\"text-align: right;\">\n",
       "      <th></th>\n",
       "      <th>BTC</th>\n",
       "      <th>NYSE</th>\n",
       "      <th>NASDAQ</th>\n",
       "      <th>LSE</th>\n",
       "      <th>BTC_Volume</th>\n",
       "      <th>NYSE_Volume</th>\n",
       "      <th>NASDAQ_Volume</th>\n",
       "      <th>LSE_Volume</th>\n",
       "    </tr>\n",
       "    <tr>\n",
       "      <th>Date</th>\n",
       "      <th></th>\n",
       "      <th></th>\n",
       "      <th></th>\n",
       "      <th></th>\n",
       "      <th></th>\n",
       "      <th></th>\n",
       "      <th></th>\n",
       "      <th></th>\n",
       "    </tr>\n",
       "  </thead>\n",
       "  <tbody>\n",
       "    <tr>\n",
       "      <th>2018-01-02</th>\n",
       "      <td>14982.09961</td>\n",
       "      <td>12902.71973</td>\n",
       "      <td>7006.899902</td>\n",
       "      <td>3742.0</td>\n",
       "      <td>1.684660e+10</td>\n",
       "      <td>3397430000</td>\n",
       "      <td>1929700000</td>\n",
       "      <td>497857</td>\n",
       "    </tr>\n",
       "    <tr>\n",
       "      <th>2018-01-03</th>\n",
       "      <td>15201.00000</td>\n",
       "      <td>12957.28027</td>\n",
       "      <td>7065.529785</td>\n",
       "      <td>3749.0</td>\n",
       "      <td>1.687190e+10</td>\n",
       "      <td>3544030000</td>\n",
       "      <td>2173130000</td>\n",
       "      <td>1009997</td>\n",
       "    </tr>\n",
       "    <tr>\n",
       "      <th>2018-01-04</th>\n",
       "      <td>15599.20020</td>\n",
       "      <td>13028.45996</td>\n",
       "      <td>7077.910156</td>\n",
       "      <td>3749.0</td>\n",
       "      <td>2.178320e+10</td>\n",
       "      <td>3697340000</td>\n",
       "      <td>2103220000</td>\n",
       "      <td>669448</td>\n",
       "    </tr>\n",
       "    <tr>\n",
       "      <th>2018-01-05</th>\n",
       "      <td>17429.50000</td>\n",
       "      <td>13103.23047</td>\n",
       "      <td>7136.560059</td>\n",
       "      <td>3758.0</td>\n",
       "      <td>2.384090e+10</td>\n",
       "      <td>3239280000</td>\n",
       "      <td>2024000000</td>\n",
       "      <td>2225274</td>\n",
       "    </tr>\n",
       "    <tr>\n",
       "      <th>2018-01-08</th>\n",
       "      <td>15170.09961</td>\n",
       "      <td>13114.34961</td>\n",
       "      <td>7157.390137</td>\n",
       "      <td>3744.0</td>\n",
       "      <td>1.841390e+10</td>\n",
       "      <td>3246160000</td>\n",
       "      <td>2055010000</td>\n",
       "      <td>930995</td>\n",
       "    </tr>\n",
       "    <tr>\n",
       "      <th>...</th>\n",
       "      <td>...</td>\n",
       "      <td>...</td>\n",
       "      <td>...</td>\n",
       "      <td>...</td>\n",
       "      <td>...</td>\n",
       "      <td>...</td>\n",
       "      <td>...</td>\n",
       "      <td>...</td>\n",
       "    </tr>\n",
       "    <tr>\n",
       "      <th>2022-12-23</th>\n",
       "      <td>16796.95313</td>\n",
       "      <td>15188.45020</td>\n",
       "      <td>10497.860350</td>\n",
       "      <td>7130.0</td>\n",
       "      <td>1.532927e+10</td>\n",
       "      <td>2819280000</td>\n",
       "      <td>3544680000</td>\n",
       "      <td>141614</td>\n",
       "    </tr>\n",
       "    <tr>\n",
       "      <th>2022-12-27</th>\n",
       "      <td>16717.17383</td>\n",
       "      <td>15218.25977</td>\n",
       "      <td>10353.230470</td>\n",
       "      <td>7130.0</td>\n",
       "      <td>1.574858e+10</td>\n",
       "      <td>3030300000</td>\n",
       "      <td>3827290000</td>\n",
       "      <td>141614</td>\n",
       "    </tr>\n",
       "    <tr>\n",
       "      <th>2022-12-28</th>\n",
       "      <td>16552.57227</td>\n",
       "      <td>15037.32031</td>\n",
       "      <td>10213.290040</td>\n",
       "      <td>7128.0</td>\n",
       "      <td>1.700571e+10</td>\n",
       "      <td>3083520000</td>\n",
       "      <td>3842970000</td>\n",
       "      <td>490323</td>\n",
       "    </tr>\n",
       "    <tr>\n",
       "      <th>2022-12-29</th>\n",
       "      <td>16642.34180</td>\n",
       "      <td>15241.20996</td>\n",
       "      <td>10478.089840</td>\n",
       "      <td>7212.0</td>\n",
       "      <td>1.447224e+10</td>\n",
       "      <td>3003680000</td>\n",
       "      <td>4154100000</td>\n",
       "      <td>457006</td>\n",
       "    </tr>\n",
       "    <tr>\n",
       "      <th>2022-12-30</th>\n",
       "      <td>16602.58594</td>\n",
       "      <td>15184.30957</td>\n",
       "      <td>10466.480470</td>\n",
       "      <td>7136.0</td>\n",
       "      <td>1.592916e+10</td>\n",
       "      <td>2979870000</td>\n",
       "      <td>3959030000</td>\n",
       "      <td>226505</td>\n",
       "    </tr>\n",
       "  </tbody>\n",
       "</table>\n",
       "<p>1259 rows × 8 columns</p>\n",
       "</div>"
      ],
      "text/plain": [
       "                    BTC         NYSE        NASDAQ     LSE    BTC_Volume  \\\n",
       "Date                                                                       \n",
       "2018-01-02  14982.09961  12902.71973   7006.899902  3742.0  1.684660e+10   \n",
       "2018-01-03  15201.00000  12957.28027   7065.529785  3749.0  1.687190e+10   \n",
       "2018-01-04  15599.20020  13028.45996   7077.910156  3749.0  2.178320e+10   \n",
       "2018-01-05  17429.50000  13103.23047   7136.560059  3758.0  2.384090e+10   \n",
       "2018-01-08  15170.09961  13114.34961   7157.390137  3744.0  1.841390e+10   \n",
       "...                 ...          ...           ...     ...           ...   \n",
       "2022-12-23  16796.95313  15188.45020  10497.860350  7130.0  1.532927e+10   \n",
       "2022-12-27  16717.17383  15218.25977  10353.230470  7130.0  1.574858e+10   \n",
       "2022-12-28  16552.57227  15037.32031  10213.290040  7128.0  1.700571e+10   \n",
       "2022-12-29  16642.34180  15241.20996  10478.089840  7212.0  1.447224e+10   \n",
       "2022-12-30  16602.58594  15184.30957  10466.480470  7136.0  1.592916e+10   \n",
       "\n",
       "            NYSE_Volume  NASDAQ_Volume  LSE_Volume  \n",
       "Date                                                \n",
       "2018-01-02   3397430000     1929700000      497857  \n",
       "2018-01-03   3544030000     2173130000     1009997  \n",
       "2018-01-04   3697340000     2103220000      669448  \n",
       "2018-01-05   3239280000     2024000000     2225274  \n",
       "2018-01-08   3246160000     2055010000      930995  \n",
       "...                 ...            ...         ...  \n",
       "2022-12-23   2819280000     3544680000      141614  \n",
       "2022-12-27   3030300000     3827290000      141614  \n",
       "2022-12-28   3083520000     3842970000      490323  \n",
       "2022-12-29   3003680000     4154100000      457006  \n",
       "2022-12-30   2979870000     3959030000      226505  \n",
       "\n",
       "[1259 rows x 8 columns]"
      ]
     },
     "execution_count": 27,
     "metadata": {},
     "output_type": "execute_result"
    }
   ],
   "source": [
    "# 데이터셋을 불러오겠습니다\n",
    "df = pd.read_csv(\"Data/coin_prediction.csv\", index_col=0,\n",
    "                  parse_dates=True)\n",
    "df\n",
    "\n",
    "# 고려할 점은 많지만, 단순화를 위해 복잡한 상황은 고려하지 않겠습니다(시계열이지만, 시계열로 보지 않겠습니다)\n",
    "## 여러 변수로 다음날 BTC 가격을 예측하는 머신러닝 모델을 짜보겠습니다"
   ]
  },
  {
   "cell_type": "code",
   "execution_count": 31,
   "metadata": {},
   "outputs": [
    {
     "data": {
      "text/plain": [
       "Date\n",
       "2018-01-02    0.014611\n",
       "2018-01-03    0.026196\n",
       "2018-01-04    0.117333\n",
       "2018-01-05   -0.129631\n",
       "2018-01-08   -0.037884\n",
       "                ...   \n",
       "2022-12-23   -0.004750\n",
       "2022-12-27   -0.009846\n",
       "2022-12-28    0.005423\n",
       "2022-12-29   -0.002389\n",
       "2022-12-30         NaN\n",
       "Name: BTC, Length: 1259, dtype: float64"
      ]
     },
     "execution_count": 31,
     "metadata": {},
     "output_type": "execute_result"
    }
   ],
   "source": [
    "df.BTC.pct_change().shift(-1)"
   ]
  },
  {
   "cell_type": "code",
   "execution_count": 32,
   "metadata": {},
   "outputs": [
    {
     "data": {
      "text/plain": [
       "array([1, 1, 1, ..., 1, 0, 0])"
      ]
     },
     "execution_count": 32,
     "metadata": {},
     "output_type": "execute_result"
    }
   ],
   "source": [
    "# 우선 정답지를 만들어 주겠습니다\n",
    "## BTC가 \"내일\" 오르면 1, 내리면 0으로 정답을 설정하겠습니다\n",
    "### shift(-1)로 다음날 수익을 정답으로 만들어야겠죠?\n",
    "pct = df.BTC.pct_change().shift(-1)\n",
    "\n",
    "# np.where로 조건을 줌 : 오르면 1, 내리면 0\n",
    "y = np.where(pct > 0, 1, 0)\n",
    "y"
   ]
  },
  {
   "cell_type": "code",
   "execution_count": 34,
   "metadata": {},
   "outputs": [
    {
     "data": {
      "text/plain": [
       "(0.5107227958697379, 0.4892772041302621)"
      ]
     },
     "execution_count": 34,
     "metadata": {},
     "output_type": "execute_result"
    }
   ],
   "source": [
    "# 정답의 비율을 확인해봅시다\n",
    "## DataFrame이면 value_counts를 쓸 수 있지만, numpy array는 안됩니다 다른 방식으로 해볼까요?\n",
    "\n",
    "## True, False를 Mean 해주면 True의 비율을 출력하겠죠?\n",
    "(y == 1).mean(), (y==0).mean()"
   ]
  },
  {
   "cell_type": "code",
   "execution_count": 37,
   "metadata": {},
   "outputs": [
    {
     "data": {
      "text/html": [
       "<div>\n",
       "<style scoped>\n",
       "    .dataframe tbody tr th:only-of-type {\n",
       "        vertical-align: middle;\n",
       "    }\n",
       "\n",
       "    .dataframe tbody tr th {\n",
       "        vertical-align: top;\n",
       "    }\n",
       "\n",
       "    .dataframe thead th {\n",
       "        text-align: right;\n",
       "    }\n",
       "</style>\n",
       "<table border=\"1\" class=\"dataframe\">\n",
       "  <thead>\n",
       "    <tr style=\"text-align: right;\">\n",
       "      <th></th>\n",
       "      <th>NYSE</th>\n",
       "      <th>NASDAQ</th>\n",
       "      <th>LSE</th>\n",
       "      <th>BTC_Volume</th>\n",
       "      <th>NYSE_Volume</th>\n",
       "      <th>NASDAQ_Volume</th>\n",
       "      <th>LSE_Volume</th>\n",
       "    </tr>\n",
       "    <tr>\n",
       "      <th>Date</th>\n",
       "      <th></th>\n",
       "      <th></th>\n",
       "      <th></th>\n",
       "      <th></th>\n",
       "      <th></th>\n",
       "      <th></th>\n",
       "      <th></th>\n",
       "    </tr>\n",
       "  </thead>\n",
       "  <tbody>\n",
       "    <tr>\n",
       "      <th>2018-01-02</th>\n",
       "      <td>12902.71973</td>\n",
       "      <td>7006.899902</td>\n",
       "      <td>3742.0</td>\n",
       "      <td>1.684660e+10</td>\n",
       "      <td>3397430000</td>\n",
       "      <td>1929700000</td>\n",
       "      <td>497857</td>\n",
       "    </tr>\n",
       "    <tr>\n",
       "      <th>2018-01-03</th>\n",
       "      <td>12957.28027</td>\n",
       "      <td>7065.529785</td>\n",
       "      <td>3749.0</td>\n",
       "      <td>1.687190e+10</td>\n",
       "      <td>3544030000</td>\n",
       "      <td>2173130000</td>\n",
       "      <td>1009997</td>\n",
       "    </tr>\n",
       "    <tr>\n",
       "      <th>2018-01-04</th>\n",
       "      <td>13028.45996</td>\n",
       "      <td>7077.910156</td>\n",
       "      <td>3749.0</td>\n",
       "      <td>2.178320e+10</td>\n",
       "      <td>3697340000</td>\n",
       "      <td>2103220000</td>\n",
       "      <td>669448</td>\n",
       "    </tr>\n",
       "    <tr>\n",
       "      <th>2018-01-05</th>\n",
       "      <td>13103.23047</td>\n",
       "      <td>7136.560059</td>\n",
       "      <td>3758.0</td>\n",
       "      <td>2.384090e+10</td>\n",
       "      <td>3239280000</td>\n",
       "      <td>2024000000</td>\n",
       "      <td>2225274</td>\n",
       "    </tr>\n",
       "    <tr>\n",
       "      <th>2018-01-08</th>\n",
       "      <td>13114.34961</td>\n",
       "      <td>7157.390137</td>\n",
       "      <td>3744.0</td>\n",
       "      <td>1.841390e+10</td>\n",
       "      <td>3246160000</td>\n",
       "      <td>2055010000</td>\n",
       "      <td>930995</td>\n",
       "    </tr>\n",
       "    <tr>\n",
       "      <th>...</th>\n",
       "      <td>...</td>\n",
       "      <td>...</td>\n",
       "      <td>...</td>\n",
       "      <td>...</td>\n",
       "      <td>...</td>\n",
       "      <td>...</td>\n",
       "      <td>...</td>\n",
       "    </tr>\n",
       "    <tr>\n",
       "      <th>2022-12-23</th>\n",
       "      <td>15188.45020</td>\n",
       "      <td>10497.860350</td>\n",
       "      <td>7130.0</td>\n",
       "      <td>1.532927e+10</td>\n",
       "      <td>2819280000</td>\n",
       "      <td>3544680000</td>\n",
       "      <td>141614</td>\n",
       "    </tr>\n",
       "    <tr>\n",
       "      <th>2022-12-27</th>\n",
       "      <td>15218.25977</td>\n",
       "      <td>10353.230470</td>\n",
       "      <td>7130.0</td>\n",
       "      <td>1.574858e+10</td>\n",
       "      <td>3030300000</td>\n",
       "      <td>3827290000</td>\n",
       "      <td>141614</td>\n",
       "    </tr>\n",
       "    <tr>\n",
       "      <th>2022-12-28</th>\n",
       "      <td>15037.32031</td>\n",
       "      <td>10213.290040</td>\n",
       "      <td>7128.0</td>\n",
       "      <td>1.700571e+10</td>\n",
       "      <td>3083520000</td>\n",
       "      <td>3842970000</td>\n",
       "      <td>490323</td>\n",
       "    </tr>\n",
       "    <tr>\n",
       "      <th>2022-12-29</th>\n",
       "      <td>15241.20996</td>\n",
       "      <td>10478.089840</td>\n",
       "      <td>7212.0</td>\n",
       "      <td>1.447224e+10</td>\n",
       "      <td>3003680000</td>\n",
       "      <td>4154100000</td>\n",
       "      <td>457006</td>\n",
       "    </tr>\n",
       "    <tr>\n",
       "      <th>2022-12-30</th>\n",
       "      <td>15184.30957</td>\n",
       "      <td>10466.480470</td>\n",
       "      <td>7136.0</td>\n",
       "      <td>1.592916e+10</td>\n",
       "      <td>2979870000</td>\n",
       "      <td>3959030000</td>\n",
       "      <td>226505</td>\n",
       "    </tr>\n",
       "  </tbody>\n",
       "</table>\n",
       "<p>1259 rows × 7 columns</p>\n",
       "</div>"
      ],
      "text/plain": [
       "                   NYSE        NASDAQ     LSE    BTC_Volume  NYSE_Volume  \\\n",
       "Date                                                                       \n",
       "2018-01-02  12902.71973   7006.899902  3742.0  1.684660e+10   3397430000   \n",
       "2018-01-03  12957.28027   7065.529785  3749.0  1.687190e+10   3544030000   \n",
       "2018-01-04  13028.45996   7077.910156  3749.0  2.178320e+10   3697340000   \n",
       "2018-01-05  13103.23047   7136.560059  3758.0  2.384090e+10   3239280000   \n",
       "2018-01-08  13114.34961   7157.390137  3744.0  1.841390e+10   3246160000   \n",
       "...                 ...           ...     ...           ...          ...   \n",
       "2022-12-23  15188.45020  10497.860350  7130.0  1.532927e+10   2819280000   \n",
       "2022-12-27  15218.25977  10353.230470  7130.0  1.574858e+10   3030300000   \n",
       "2022-12-28  15037.32031  10213.290040  7128.0  1.700571e+10   3083520000   \n",
       "2022-12-29  15241.20996  10478.089840  7212.0  1.447224e+10   3003680000   \n",
       "2022-12-30  15184.30957  10466.480470  7136.0  1.592916e+10   2979870000   \n",
       "\n",
       "            NASDAQ_Volume  LSE_Volume  \n",
       "Date                                   \n",
       "2018-01-02     1929700000      497857  \n",
       "2018-01-03     2173130000     1009997  \n",
       "2018-01-04     2103220000      669448  \n",
       "2018-01-05     2024000000     2225274  \n",
       "2018-01-08     2055010000      930995  \n",
       "...                   ...         ...  \n",
       "2022-12-23     3544680000      141614  \n",
       "2022-12-27     3827290000      141614  \n",
       "2022-12-28     3842970000      490323  \n",
       "2022-12-29     4154100000      457006  \n",
       "2022-12-30     3959030000      226505  \n",
       "\n",
       "[1259 rows x 7 columns]"
      ]
     },
     "execution_count": 37,
     "metadata": {},
     "output_type": "execute_result"
    }
   ],
   "source": [
    "df.iloc[:,1:]"
   ]
  },
  {
   "cell_type": "code",
   "execution_count": 14,
   "metadata": {},
   "outputs": [],
   "source": [
    "# 피쳐(Feature)도 분리하겠*습니다 (정답지랑 유사한 BTC 가격만 제거하겠습니다)\n",
    "X = df.iloc[:, 1:]"
   ]
  },
  {
   "cell_type": "code",
   "execution_count": 38,
   "metadata": {},
   "outputs": [
    {
     "data": {
      "text/plain": [
       "((1259, 7), (1259,))"
      ]
     },
     "execution_count": 38,
     "metadata": {},
     "output_type": "execute_result"
    }
   ],
   "source": [
    "X.shape, y.shape"
   ]
  },
  {
   "cell_type": "code",
   "execution_count": 39,
   "metadata": {},
   "outputs": [
    {
     "data": {
      "text/plain": [
       "((944, 7), (315, 7))"
      ]
     },
     "execution_count": 39,
     "metadata": {},
     "output_type": "execute_result"
    }
   ],
   "source": [
    "# 훈련셋과 테스트 셋 분리해주기\n",
    "from sklearn.model_selection import train_test_split\n",
    "\n",
    "## 시계열이라 Shuffle하면 안되겠죠? Shuffle=False로 지정해줍니다\n",
    "X_train, X_test, y_train, y_test = train_test_split(X,y, shuffle=False) # default 0.75\n",
    "X_train.shape, X_test.shape"
   ]
  },
  {
   "cell_type": "code",
   "execution_count": 41,
   "metadata": {},
   "outputs": [
    {
     "data": {
      "text/html": [
       "<div>\n",
       "<style scoped>\n",
       "    .dataframe tbody tr th:only-of-type {\n",
       "        vertical-align: middle;\n",
       "    }\n",
       "\n",
       "    .dataframe tbody tr th {\n",
       "        vertical-align: top;\n",
       "    }\n",
       "\n",
       "    .dataframe thead th {\n",
       "        text-align: right;\n",
       "    }\n",
       "</style>\n",
       "<table border=\"1\" class=\"dataframe\">\n",
       "  <thead>\n",
       "    <tr style=\"text-align: right;\">\n",
       "      <th></th>\n",
       "      <th>NYSE</th>\n",
       "      <th>NASDAQ</th>\n",
       "      <th>LSE</th>\n",
       "      <th>BTC_Volume</th>\n",
       "      <th>NYSE_Volume</th>\n",
       "      <th>NASDAQ_Volume</th>\n",
       "      <th>LSE_Volume</th>\n",
       "    </tr>\n",
       "    <tr>\n",
       "      <th>Date</th>\n",
       "      <th></th>\n",
       "      <th></th>\n",
       "      <th></th>\n",
       "      <th></th>\n",
       "      <th></th>\n",
       "      <th></th>\n",
       "      <th></th>\n",
       "    </tr>\n",
       "  </thead>\n",
       "  <tbody>\n",
       "    <tr>\n",
       "      <th>2021-10-01</th>\n",
       "      <td>16323.74023</td>\n",
       "      <td>14566.70020</td>\n",
       "      <td>7448.0</td>\n",
       "      <td>4.285064e+10</td>\n",
       "      <td>4010370000</td>\n",
       "      <td>4710720000</td>\n",
       "      <td>648683</td>\n",
       "    </tr>\n",
       "    <tr>\n",
       "      <th>2021-10-04</th>\n",
       "      <td>16198.55957</td>\n",
       "      <td>14255.48047</td>\n",
       "      <td>7412.0</td>\n",
       "      <td>3.338317e+10</td>\n",
       "      <td>4307870000</td>\n",
       "      <td>4557110000</td>\n",
       "      <td>743863</td>\n",
       "    </tr>\n",
       "    <tr>\n",
       "      <th>2021-10-05</th>\n",
       "      <td>16327.08984</td>\n",
       "      <td>14433.83008</td>\n",
       "      <td>7468.0</td>\n",
       "      <td>3.587390e+10</td>\n",
       "      <td>3902890000</td>\n",
       "      <td>4176390000</td>\n",
       "      <td>534997</td>\n",
       "    </tr>\n",
       "    <tr>\n",
       "      <th>2021-10-06</th>\n",
       "      <td>16338.45996</td>\n",
       "      <td>14501.91016</td>\n",
       "      <td>7446.0</td>\n",
       "      <td>4.903473e+10</td>\n",
       "      <td>4009630000</td>\n",
       "      <td>4465910000</td>\n",
       "      <td>704478</td>\n",
       "    </tr>\n",
       "    <tr>\n",
       "      <th>2021-10-07</th>\n",
       "      <td>16511.81055</td>\n",
       "      <td>14654.01953</td>\n",
       "      <td>7602.0</td>\n",
       "      <td>3.680786e+10</td>\n",
       "      <td>3843740000</td>\n",
       "      <td>3984180000</td>\n",
       "      <td>603144</td>\n",
       "    </tr>\n",
       "    <tr>\n",
       "      <th>...</th>\n",
       "      <td>...</td>\n",
       "      <td>...</td>\n",
       "      <td>...</td>\n",
       "      <td>...</td>\n",
       "      <td>...</td>\n",
       "      <td>...</td>\n",
       "      <td>...</td>\n",
       "    </tr>\n",
       "    <tr>\n",
       "      <th>2022-12-23</th>\n",
       "      <td>15188.45020</td>\n",
       "      <td>10497.86035</td>\n",
       "      <td>7130.0</td>\n",
       "      <td>1.532927e+10</td>\n",
       "      <td>2819280000</td>\n",
       "      <td>3544680000</td>\n",
       "      <td>141614</td>\n",
       "    </tr>\n",
       "    <tr>\n",
       "      <th>2022-12-27</th>\n",
       "      <td>15218.25977</td>\n",
       "      <td>10353.23047</td>\n",
       "      <td>7130.0</td>\n",
       "      <td>1.574858e+10</td>\n",
       "      <td>3030300000</td>\n",
       "      <td>3827290000</td>\n",
       "      <td>141614</td>\n",
       "    </tr>\n",
       "    <tr>\n",
       "      <th>2022-12-28</th>\n",
       "      <td>15037.32031</td>\n",
       "      <td>10213.29004</td>\n",
       "      <td>7128.0</td>\n",
       "      <td>1.700571e+10</td>\n",
       "      <td>3083520000</td>\n",
       "      <td>3842970000</td>\n",
       "      <td>490323</td>\n",
       "    </tr>\n",
       "    <tr>\n",
       "      <th>2022-12-29</th>\n",
       "      <td>15241.20996</td>\n",
       "      <td>10478.08984</td>\n",
       "      <td>7212.0</td>\n",
       "      <td>1.447224e+10</td>\n",
       "      <td>3003680000</td>\n",
       "      <td>4154100000</td>\n",
       "      <td>457006</td>\n",
       "    </tr>\n",
       "    <tr>\n",
       "      <th>2022-12-30</th>\n",
       "      <td>15184.30957</td>\n",
       "      <td>10466.48047</td>\n",
       "      <td>7136.0</td>\n",
       "      <td>1.592916e+10</td>\n",
       "      <td>2979870000</td>\n",
       "      <td>3959030000</td>\n",
       "      <td>226505</td>\n",
       "    </tr>\n",
       "  </tbody>\n",
       "</table>\n",
       "<p>315 rows × 7 columns</p>\n",
       "</div>"
      ],
      "text/plain": [
       "                   NYSE       NASDAQ     LSE    BTC_Volume  NYSE_Volume  \\\n",
       "Date                                                                      \n",
       "2021-10-01  16323.74023  14566.70020  7448.0  4.285064e+10   4010370000   \n",
       "2021-10-04  16198.55957  14255.48047  7412.0  3.338317e+10   4307870000   \n",
       "2021-10-05  16327.08984  14433.83008  7468.0  3.587390e+10   3902890000   \n",
       "2021-10-06  16338.45996  14501.91016  7446.0  4.903473e+10   4009630000   \n",
       "2021-10-07  16511.81055  14654.01953  7602.0  3.680786e+10   3843740000   \n",
       "...                 ...          ...     ...           ...          ...   \n",
       "2022-12-23  15188.45020  10497.86035  7130.0  1.532927e+10   2819280000   \n",
       "2022-12-27  15218.25977  10353.23047  7130.0  1.574858e+10   3030300000   \n",
       "2022-12-28  15037.32031  10213.29004  7128.0  1.700571e+10   3083520000   \n",
       "2022-12-29  15241.20996  10478.08984  7212.0  1.447224e+10   3003680000   \n",
       "2022-12-30  15184.30957  10466.48047  7136.0  1.592916e+10   2979870000   \n",
       "\n",
       "            NASDAQ_Volume  LSE_Volume  \n",
       "Date                                   \n",
       "2021-10-01     4710720000      648683  \n",
       "2021-10-04     4557110000      743863  \n",
       "2021-10-05     4176390000      534997  \n",
       "2021-10-06     4465910000      704478  \n",
       "2021-10-07     3984180000      603144  \n",
       "...                   ...         ...  \n",
       "2022-12-23     3544680000      141614  \n",
       "2022-12-27     3827290000      141614  \n",
       "2022-12-28     3842970000      490323  \n",
       "2022-12-29     4154100000      457006  \n",
       "2022-12-30     3959030000      226505  \n",
       "\n",
       "[315 rows x 7 columns]"
      ]
     },
     "execution_count": 41,
     "metadata": {},
     "output_type": "execute_result"
    }
   ],
   "source": [
    "# 2018년 1월 ~ 2021년 9월 / 2021년 10월 ~ 2022년 12월까지 잘 분리한 것을 볼 수 있습니다\n",
    "#X_train\n",
    "X_test"
   ]
  },
  {
   "cell_type": "code",
   "execution_count": 42,
   "metadata": {},
   "outputs": [],
   "source": [
    "# Feature Scaling \n",
    "## Standard Scaler로 정규화 해주겠습니다\n",
    "from sklearn.preprocessing import StandardScaler\n",
    "\n",
    "# 모델 만들고\n",
    "scaler = StandardScaler()\n",
    "X_train_scaled = scaler.fit_transform(X_train)\n",
    "X_test_scaled = scaler.transform(X_test) # fit 해주면 안됨!"
   ]
  },
  {
   "cell_type": "code",
   "execution_count": 47,
   "metadata": {},
   "outputs": [
    {
     "data": {
      "text/html": [
       "<style>#sk-container-id-4 {color: black;background-color: white;}#sk-container-id-4 pre{padding: 0;}#sk-container-id-4 div.sk-toggleable {background-color: white;}#sk-container-id-4 label.sk-toggleable__label {cursor: pointer;display: block;width: 100%;margin-bottom: 0;padding: 0.3em;box-sizing: border-box;text-align: center;}#sk-container-id-4 label.sk-toggleable__label-arrow:before {content: \"▸\";float: left;margin-right: 0.25em;color: #696969;}#sk-container-id-4 label.sk-toggleable__label-arrow:hover:before {color: black;}#sk-container-id-4 div.sk-estimator:hover label.sk-toggleable__label-arrow:before {color: black;}#sk-container-id-4 div.sk-toggleable__content {max-height: 0;max-width: 0;overflow: hidden;text-align: left;background-color: #f0f8ff;}#sk-container-id-4 div.sk-toggleable__content pre {margin: 0.2em;color: black;border-radius: 0.25em;background-color: #f0f8ff;}#sk-container-id-4 input.sk-toggleable__control:checked~div.sk-toggleable__content {max-height: 200px;max-width: 100%;overflow: auto;}#sk-container-id-4 input.sk-toggleable__control:checked~label.sk-toggleable__label-arrow:before {content: \"▾\";}#sk-container-id-4 div.sk-estimator input.sk-toggleable__control:checked~label.sk-toggleable__label {background-color: #d4ebff;}#sk-container-id-4 div.sk-label input.sk-toggleable__control:checked~label.sk-toggleable__label {background-color: #d4ebff;}#sk-container-id-4 input.sk-hidden--visually {border: 0;clip: rect(1px 1px 1px 1px);clip: rect(1px, 1px, 1px, 1px);height: 1px;margin: -1px;overflow: hidden;padding: 0;position: absolute;width: 1px;}#sk-container-id-4 div.sk-estimator {font-family: monospace;background-color: #f0f8ff;border: 1px dotted black;border-radius: 0.25em;box-sizing: border-box;margin-bottom: 0.5em;}#sk-container-id-4 div.sk-estimator:hover {background-color: #d4ebff;}#sk-container-id-4 div.sk-parallel-item::after {content: \"\";width: 100%;border-bottom: 1px solid gray;flex-grow: 1;}#sk-container-id-4 div.sk-label:hover label.sk-toggleable__label {background-color: #d4ebff;}#sk-container-id-4 div.sk-serial::before {content: \"\";position: absolute;border-left: 1px solid gray;box-sizing: border-box;top: 0;bottom: 0;left: 50%;z-index: 0;}#sk-container-id-4 div.sk-serial {display: flex;flex-direction: column;align-items: center;background-color: white;padding-right: 0.2em;padding-left: 0.2em;position: relative;}#sk-container-id-4 div.sk-item {position: relative;z-index: 1;}#sk-container-id-4 div.sk-parallel {display: flex;align-items: stretch;justify-content: center;background-color: white;position: relative;}#sk-container-id-4 div.sk-item::before, #sk-container-id-4 div.sk-parallel-item::before {content: \"\";position: absolute;border-left: 1px solid gray;box-sizing: border-box;top: 0;bottom: 0;left: 50%;z-index: -1;}#sk-container-id-4 div.sk-parallel-item {display: flex;flex-direction: column;z-index: 1;position: relative;background-color: white;}#sk-container-id-4 div.sk-parallel-item:first-child::after {align-self: flex-end;width: 50%;}#sk-container-id-4 div.sk-parallel-item:last-child::after {align-self: flex-start;width: 50%;}#sk-container-id-4 div.sk-parallel-item:only-child::after {width: 0;}#sk-container-id-4 div.sk-dashed-wrapped {border: 1px dashed gray;margin: 0 0.4em 0.5em 0.4em;box-sizing: border-box;padding-bottom: 0.4em;background-color: white;}#sk-container-id-4 div.sk-label label {font-family: monospace;font-weight: bold;display: inline-block;line-height: 1.2em;}#sk-container-id-4 div.sk-label-container {text-align: center;}#sk-container-id-4 div.sk-container {/* jupyter's `normalize.less` sets `[hidden] { display: none; }` but bootstrap.min.css set `[hidden] { display: none !important; }` so we also need the `!important` here to be able to override the default hidden behavior on the sphinx rendered scikit-learn.org. See: https://github.com/scikit-learn/scikit-learn/issues/21755 */display: inline-block !important;position: relative;}#sk-container-id-4 div.sk-text-repr-fallback {display: none;}</style><div id=\"sk-container-id-4\" class=\"sk-top-container\"><div class=\"sk-text-repr-fallback\"><pre>RandomForestClassifier(n_estimators=1000, n_jobs=-1)</pre><b>In a Jupyter environment, please rerun this cell to show the HTML representation or trust the notebook. <br />On GitHub, the HTML representation is unable to render, please try loading this page with nbviewer.org.</b></div><div class=\"sk-container\" hidden><div class=\"sk-item\"><div class=\"sk-estimator sk-toggleable\"><input class=\"sk-toggleable__control sk-hidden--visually\" id=\"sk-estimator-id-4\" type=\"checkbox\" checked><label for=\"sk-estimator-id-4\" class=\"sk-toggleable__label sk-toggleable__label-arrow\">RandomForestClassifier</label><div class=\"sk-toggleable__content\"><pre>RandomForestClassifier(n_estimators=1000, n_jobs=-1)</pre></div></div></div></div></div>"
      ],
      "text/plain": [
       "RandomForestClassifier(n_estimators=1000, n_jobs=-1)"
      ]
     },
     "execution_count": 47,
     "metadata": {},
     "output_type": "execute_result"
    }
   ],
   "source": [
    "# 머신러닝 모델을 만들고 예측해봅시다\n",
    "## RandomForest 알고리즘을 사용하겠습니다\n",
    "from sklearn.ensemble import RandomForestClassifier\n",
    "\n",
    "# 모델 만들고, 학습해줌\n",
    "## n_estimators: Tree 개수 , n_jobs : 사용할 프로세서의 수 (-1은 최대)\n",
    "forest = RandomForestClassifier(n_estimators=1000, n_jobs=-1)\n",
    "forest.fit(X_train_scaled, y_train)"
   ]
  },
  {
   "attachments": {},
   "cell_type": "markdown",
   "metadata": {},
   "source": [
    "### 분류기 평가 Metric \n",
    "\n",
    "\n",
    "* 정확도 / 정밀도 / 재현율"
   ]
  },
  {
   "cell_type": "code",
   "execution_count": 48,
   "metadata": {},
   "outputs": [
    {
     "data": {
      "text/plain": [
       "1.0"
      ]
     },
     "execution_count": 48,
     "metadata": {},
     "output_type": "execute_result"
    }
   ],
   "source": [
    "# 분류기의 경우에 score는 단순한 정확도를 리턴 (accuracy score)\n",
    "## 회귀의 경우에 score는 R^2를 리턴 했던거 기억나시죠?\n",
    "forest.score(X_train_scaled, y_train)"
   ]
  },
  {
   "cell_type": "code",
   "execution_count": 50,
   "metadata": {},
   "outputs": [
    {
     "data": {
      "text/plain": [
       "0.4507936507936508"
      ]
     },
     "execution_count": 50,
     "metadata": {},
     "output_type": "execute_result"
    }
   ],
   "source": [
    "# test 데이터에 대한 점수 출력 -> 확실히 overfit 되었군요\n",
    "forest.score(X_test_scaled, y_test)\n",
    "\n",
    "## 원래 이렇게 머신러닝 모델을 만드는 중간에 test-score를 구하면 안되지만, 수업 진행을 위해 구해봤습니다"
   ]
  },
  {
   "attachments": {},
   "cell_type": "markdown",
   "metadata": {},
   "source": [
    "목표로 하는 task에 따라서 중요하게 생각해야하는 Metric이 달라진다 (통계학의 1종오류, 2종오류 개념과 유사)\n",
    "\n",
    "여러 복잡한 Metric이 많지만 (F1-score, ROC-AUC 등등...) 단순한 3가지만 배워보겠습니다.\n",
    "\n",
    "* 정확도(Accuracy)  : 전체 데이터 수 중 예측 결과와 실제 값이 동일한 건수(TN + TP)가 차지하는 비율, 가장 포괄적인 값이라 생각하면 됨\n",
    "\n",
    "* 정밀도(Precision) : 예측을 Positive로 한 대상(FP + TP) 중 예측과 실제 값이 Positive로 일치한 데이터(TP)의 비율\n",
    "\n",
    "* 재현율(Recall) : 실제가 Positive인 대상(FN + TP) 중 예측과 실제 값이 Positive로 일치한 데이터(TP)의 비율\n",
    "\n"
   ]
  },
  {
   "cell_type": "code",
   "execution_count": 51,
   "metadata": {},
   "outputs": [
    {
     "data": {
      "text/plain": [
       "array([1, 1, 1, 1, 1, 1, 1, 1, 1, 1, 1, 1, 1, 1, 1, 1, 1, 1, 1, 1, 1, 1,\n",
       "       1, 1, 1, 1, 1, 1, 1, 1, 1, 1, 1, 1, 1, 1, 1, 1, 1, 0, 1, 0, 1, 1,\n",
       "       1, 0, 1, 1, 1, 1, 1, 1, 1, 1, 1, 1, 1, 1, 0, 1, 1, 0, 0, 1, 1, 1,\n",
       "       1, 1, 1, 1, 1, 1, 1, 1, 1, 1, 1, 0, 0, 1, 1, 1, 1, 1, 1, 1, 1, 1,\n",
       "       1, 1, 1, 0, 1, 0, 1, 1, 1, 1, 0, 1, 0, 1, 0, 1, 1, 1, 1, 1, 1, 1,\n",
       "       1, 1, 1, 0, 0, 0, 0, 0, 1, 0, 1, 1, 1, 1, 1, 1, 1, 1, 1, 0, 0, 1,\n",
       "       0, 1, 0, 0, 1, 0, 1, 1, 1, 1, 1, 1, 1, 1, 1, 0, 1, 1, 1, 1, 1, 1,\n",
       "       0, 0, 1, 1, 1, 1, 1, 1, 1, 1, 1, 0, 0, 1, 1, 1, 1, 1, 1, 1, 1, 1,\n",
       "       1, 1, 1, 1, 0, 1, 1, 1, 1, 1, 0, 1, 1, 1, 1, 1, 0, 1, 1, 0, 1, 1,\n",
       "       0, 1, 0, 1, 1, 1, 1, 0, 0, 1, 1, 0, 1, 1, 1, 1, 1, 1, 1, 1, 1, 0,\n",
       "       1, 1, 1, 1, 1, 1, 1, 1, 1, 1, 1, 1, 1, 1, 1, 1, 1, 1, 1, 1, 1, 1,\n",
       "       1, 0, 0, 1, 1, 1, 0, 0, 0, 0, 1, 1, 1, 1, 1, 1, 1, 1, 1, 1, 1, 1,\n",
       "       1, 1, 1, 1, 1, 1, 1, 0, 0, 0, 1, 0, 0, 0, 1, 1, 1, 1, 1, 0, 1, 1,\n",
       "       1, 1, 1, 1, 1, 1, 1, 0, 1, 1, 1, 1, 1, 0, 0, 1, 1, 1, 1, 1, 1, 1,\n",
       "       1, 1, 1, 1, 1, 1, 1])"
      ]
     },
     "execution_count": 51,
     "metadata": {},
     "output_type": "execute_result"
    }
   ],
   "source": [
    "# 우선 아래 평가를 위해 모델의 예측값을 저장하겠습니다\n",
    "y_predict = forest.predict(X_test_scaled)\n",
    "y_predict"
   ]
  },
  {
   "cell_type": "code",
   "execution_count": 52,
   "metadata": {},
   "outputs": [
    {
     "name": "stdout",
     "output_type": "stream",
     "text": [
      "모델의 정확도:  0.4507936507936508\n",
      "모델의 정밀도:  0.444015444015444\n",
      "모델의 재현율:  0.7986111111111112\n"
     ]
    }
   ],
   "source": [
    "# 정밀도와 재현율을 구해보겠습니다\n",
    "\n",
    "from sklearn.metrics import precision_score, recall_score\n",
    "\n",
    "print(\"모델의 정확도: \", forest.score(X_test_scaled, y_test))\n",
    "print(\"모델의 정밀도: \", precision_score(y_test, y_predict))\n",
    "print(\"모델의 재현율: \", recall_score(y_test, y_predict))"
   ]
  },
  {
   "attachments": {},
   "cell_type": "markdown",
   "metadata": {},
   "source": [
    "### Cross-Validation\n",
    "\n",
    "* Test-set을 미리 들여다 보는 우를 범하지 않기 위해 사용함"
   ]
  },
  {
   "attachments": {},
   "cell_type": "markdown",
   "metadata": {},
   "source": [
    "<img src=\"https://scikit-learn.org/stable/_images/grid_search_cross_validation.png\" width=\"700\" height=\"300\"/>"
   ]
  },
  {
   "cell_type": "code",
   "execution_count": 53,
   "metadata": {},
   "outputs": [],
   "source": [
    "from sklearn.model_selection import cross_val_score\n",
    "\n",
    "# cv=5이면 데이터를 5번 쪼갠다. 데이터는 반드시 Random해야 한다!\n",
    "## cross_val_score(훈련할 모델, X, y)\n",
    "## verb\n",
    "forest = RandomForestClassifier()\n",
    "cv_score = cross_val_score(forest, X_train_scaled, y_train, \n",
    "                           cv=5, n_jobs=-1)"
   ]
  },
  {
   "cell_type": "code",
   "execution_count": 55,
   "metadata": {},
   "outputs": [
    {
     "name": "stdout",
     "output_type": "stream",
     "text": [
      "[0.51322751 0.44973545 0.38095238 0.47619048 0.52659574]\n"
     ]
    },
    {
     "data": {
      "text/plain": [
       "0.46934031295733425"
      ]
     },
     "execution_count": 55,
     "metadata": {},
     "output_type": "execute_result"
    }
   ],
   "source": [
    "# 각각의 값이 CV의 score(정확도)입니다.\n",
    "print(cv_score)\n",
    "\n",
    "# cv_score의 평균\n",
    "cv_score.mean()\n",
    "\n",
    "## 아까 우리가 구했던 test 데이터에 대한 정확도와 cv의 평균 정확도가 유사한게 신기하지 않으신가요?"
   ]
  },
  {
   "attachments": {},
   "cell_type": "markdown",
   "metadata": {},
   "source": [
    "### Grid-Search \n",
    "\n",
    "격자 탐색 : 가장 성능이 좋은 하이퍼파라미터를 찾는다\n",
    "\n",
    "Overfitting 방지를 위해 그리드 서치 중에 Cross-Validation 방식으로 평가해야 한다"
   ]
  },
  {
   "cell_type": "code",
   "execution_count": 56,
   "metadata": {},
   "outputs": [
    {
     "name": "stdout",
     "output_type": "stream",
     "text": [
      "Fitting 5 folds for each of 12 candidates, totalling 60 fits\n"
     ]
    },
    {
     "data": {
      "text/plain": [
       "{'C': 0.01, 'kernel': 'rbf'}"
      ]
     },
     "execution_count": 56,
     "metadata": {},
     "output_type": "execute_result"
    }
   ],
   "source": [
    "# 그리드 서치를 import 한다\n",
    "from sklearn.model_selection import GridSearchCV\n",
    "\n",
    "# 사용할 모델인 Support Vector Machine을 임포트하고, 모델을 만들겠습니다\n",
    "from sklearn.svm import SVC\n",
    "svc = SVC() # 아직 fit해주진 않음!\n",
    "\n",
    "# 그리드 서치를 진행할 딕셔너리를 정의해줍시다 \n",
    "param_grid = {\"C\" : [0.01, 1, 10, 100],  \n",
    "              'kernel': [\"linear\",\"poly\", \"rbf\"]} \n",
    "\n",
    "# 그리드 서치를 수행합니다. (verbose=True면 중간중간 진행 상황을 출력합니다)\n",
    "grid_model = GridSearchCV(svc, param_grid, \n",
    "                         cv=5, verbose=True, n_jobs=-1)\n",
    "\n",
    "grid_model.fit(X_train_scaled, y_train)\n",
    "\n",
    "# 최고의 cv 점수를 기록한 파라미터 조합을 출력합니다\n",
    "grid_model.best_params_"
   ]
  },
  {
   "cell_type": "code",
   "execution_count": 57,
   "metadata": {},
   "outputs": [
    {
     "data": {
      "text/plain": [
       "0.5286016949152542"
      ]
     },
     "execution_count": 57,
     "metadata": {},
     "output_type": "execute_result"
    }
   ],
   "source": [
    "# train set에 대한 점수를 구해봅시다\n",
    "grid_model.score(X_train_scaled, y_train)"
   ]
  },
  {
   "cell_type": "code",
   "execution_count": null,
   "metadata": {},
   "outputs": [],
   "source": []
  }
 ],
 "metadata": {
  "kernelspec": {
   "display_name": "base",
   "language": "python",
   "name": "python3"
  },
  "language_info": {
   "codemirror_mode": {
    "name": "ipython",
    "version": 3
   },
   "file_extension": ".py",
   "mimetype": "text/x-python",
   "name": "python",
   "nbconvert_exporter": "python",
   "pygments_lexer": "ipython3",
   "version": "3.9.16"
  },
  "orig_nbformat": 4,
  "vscode": {
   "interpreter": {
    "hash": "a077222d77dfe082b8f1dd562ad70e458ac2ab76993a0b248ab0476e32e9e8dd"
   }
  }
 },
 "nbformat": 4,
 "nbformat_minor": 2
}
