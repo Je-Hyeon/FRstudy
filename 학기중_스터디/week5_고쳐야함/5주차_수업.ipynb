{
 "cells": [
  {
   "attachments": {},
   "cell_type": "markdown",
   "metadata": {},
   "source": [
    "# 5주차 스터디\n",
    "\n",
    "Made by 35기 코딩부장 류제현"
   ]
  },
  {
   "cell_type": "code",
   "execution_count": 4,
   "metadata": {},
   "outputs": [],
   "source": [
    "import numpy as np\n",
    "import pandas as pd\n",
    "import matplotlib.pyplot as plt"
   ]
  },
  {
   "attachments": {},
   "cell_type": "markdown",
   "metadata": {},
   "source": [
    "## 1. Pandas Apply 사용과 정규표현식(Regular Expression)\n",
    "\n",
    "Spam 메일 데이터 셋을 사용하겠습니다"
   ]
  },
  {
   "cell_type": "code",
   "execution_count": 11,
   "metadata": {},
   "outputs": [
    {
     "data": {
      "text/html": [
       "<div>\n",
       "<style scoped>\n",
       "    .dataframe tbody tr th:only-of-type {\n",
       "        vertical-align: middle;\n",
       "    }\n",
       "\n",
       "    .dataframe tbody tr th {\n",
       "        vertical-align: top;\n",
       "    }\n",
       "\n",
       "    .dataframe thead th {\n",
       "        text-align: right;\n",
       "    }\n",
       "</style>\n",
       "<table border=\"1\" class=\"dataframe\">\n",
       "  <thead>\n",
       "    <tr style=\"text-align: right;\">\n",
       "      <th></th>\n",
       "      <th>text</th>\n",
       "      <th>target</th>\n",
       "    </tr>\n",
       "  </thead>\n",
       "  <tbody>\n",
       "    <tr>\n",
       "      <th>0</th>\n",
       "      <td>Go until jurong point, crazy.. Available only ...</td>\n",
       "      <td>ham</td>\n",
       "    </tr>\n",
       "    <tr>\n",
       "      <th>1</th>\n",
       "      <td>Ok lar... Joking wif u oni...</td>\n",
       "      <td>ham</td>\n",
       "    </tr>\n",
       "    <tr>\n",
       "      <th>2</th>\n",
       "      <td>Free entry in 2 a wkly comp to win FA Cup fina...</td>\n",
       "      <td>spam</td>\n",
       "    </tr>\n",
       "    <tr>\n",
       "      <th>3</th>\n",
       "      <td>U dun say so early hor... U c already then say...</td>\n",
       "      <td>ham</td>\n",
       "    </tr>\n",
       "    <tr>\n",
       "      <th>4</th>\n",
       "      <td>Nah I don't think he goes to usf, he lives aro...</td>\n",
       "      <td>ham</td>\n",
       "    </tr>\n",
       "    <tr>\n",
       "      <th>...</th>\n",
       "      <td>...</td>\n",
       "      <td>...</td>\n",
       "    </tr>\n",
       "    <tr>\n",
       "      <th>5567</th>\n",
       "      <td>This is the 2nd time we have tried 2 contact u...</td>\n",
       "      <td>spam</td>\n",
       "    </tr>\n",
       "    <tr>\n",
       "      <th>5568</th>\n",
       "      <td>Will Ì_ b going to esplanade fr home?</td>\n",
       "      <td>ham</td>\n",
       "    </tr>\n",
       "    <tr>\n",
       "      <th>5569</th>\n",
       "      <td>Pity, * was in mood for that. So...any other s...</td>\n",
       "      <td>ham</td>\n",
       "    </tr>\n",
       "    <tr>\n",
       "      <th>5570</th>\n",
       "      <td>The guy did some bitching but I acted like i'd...</td>\n",
       "      <td>ham</td>\n",
       "    </tr>\n",
       "    <tr>\n",
       "      <th>5571</th>\n",
       "      <td>Rofl. Its true to its name</td>\n",
       "      <td>ham</td>\n",
       "    </tr>\n",
       "  </tbody>\n",
       "</table>\n",
       "<p>5572 rows × 2 columns</p>\n",
       "</div>"
      ],
      "text/plain": [
       "                                                   text target\n",
       "0     Go until jurong point, crazy.. Available only ...    ham\n",
       "1                         Ok lar... Joking wif u oni...    ham\n",
       "2     Free entry in 2 a wkly comp to win FA Cup fina...   spam\n",
       "3     U dun say so early hor... U c already then say...    ham\n",
       "4     Nah I don't think he goes to usf, he lives aro...    ham\n",
       "...                                                 ...    ...\n",
       "5567  This is the 2nd time we have tried 2 contact u...   spam\n",
       "5568              Will Ì_ b going to esplanade fr home?    ham\n",
       "5569  Pity, * was in mood for that. So...any other s...    ham\n",
       "5570  The guy did some bitching but I acted like i'd...    ham\n",
       "5571                         Rofl. Its true to its name    ham\n",
       "\n",
       "[5572 rows x 2 columns]"
      ]
     },
     "execution_count": 11,
     "metadata": {},
     "output_type": "execute_result"
    }
   ],
   "source": [
    "# 데이터를 불러옵니다\n",
    "spam = pd.read_csv(\"Data/spam.csv\")\n",
    "\n",
    "spam"
   ]
  },
  {
   "cell_type": "code",
   "execution_count": 12,
   "metadata": {},
   "outputs": [
    {
     "data": {
      "text/html": [
       "<div>\n",
       "<style scoped>\n",
       "    .dataframe tbody tr th:only-of-type {\n",
       "        vertical-align: middle;\n",
       "    }\n",
       "\n",
       "    .dataframe tbody tr th {\n",
       "        vertical-align: top;\n",
       "    }\n",
       "\n",
       "    .dataframe thead th {\n",
       "        text-align: right;\n",
       "    }\n",
       "</style>\n",
       "<table border=\"1\" class=\"dataframe\">\n",
       "  <thead>\n",
       "    <tr style=\"text-align: right;\">\n",
       "      <th></th>\n",
       "      <th>text</th>\n",
       "      <th>target</th>\n",
       "    </tr>\n",
       "  </thead>\n",
       "  <tbody>\n",
       "    <tr>\n",
       "      <th>0</th>\n",
       "      <td>Go until jurong point, crazy.. Available only ...</td>\n",
       "      <td>0</td>\n",
       "    </tr>\n",
       "    <tr>\n",
       "      <th>1</th>\n",
       "      <td>Ok lar... Joking wif u oni...</td>\n",
       "      <td>0</td>\n",
       "    </tr>\n",
       "    <tr>\n",
       "      <th>2</th>\n",
       "      <td>Free entry in 2 a wkly comp to win FA Cup fina...</td>\n",
       "      <td>1</td>\n",
       "    </tr>\n",
       "    <tr>\n",
       "      <th>3</th>\n",
       "      <td>U dun say so early hor... U c already then say...</td>\n",
       "      <td>0</td>\n",
       "    </tr>\n",
       "    <tr>\n",
       "      <th>4</th>\n",
       "      <td>Nah I don't think he goes to usf, he lives aro...</td>\n",
       "      <td>0</td>\n",
       "    </tr>\n",
       "    <tr>\n",
       "      <th>...</th>\n",
       "      <td>...</td>\n",
       "      <td>...</td>\n",
       "    </tr>\n",
       "    <tr>\n",
       "      <th>5567</th>\n",
       "      <td>This is the 2nd time we have tried 2 contact u...</td>\n",
       "      <td>1</td>\n",
       "    </tr>\n",
       "    <tr>\n",
       "      <th>5568</th>\n",
       "      <td>Will Ì_ b going to esplanade fr home?</td>\n",
       "      <td>0</td>\n",
       "    </tr>\n",
       "    <tr>\n",
       "      <th>5569</th>\n",
       "      <td>Pity, * was in mood for that. So...any other s...</td>\n",
       "      <td>0</td>\n",
       "    </tr>\n",
       "    <tr>\n",
       "      <th>5570</th>\n",
       "      <td>The guy did some bitching but I acted like i'd...</td>\n",
       "      <td>0</td>\n",
       "    </tr>\n",
       "    <tr>\n",
       "      <th>5571</th>\n",
       "      <td>Rofl. Its true to its name</td>\n",
       "      <td>0</td>\n",
       "    </tr>\n",
       "  </tbody>\n",
       "</table>\n",
       "<p>5572 rows × 2 columns</p>\n",
       "</div>"
      ],
      "text/plain": [
       "                                                   text  target\n",
       "0     Go until jurong point, crazy.. Available only ...       0\n",
       "1                         Ok lar... Joking wif u oni...       0\n",
       "2     Free entry in 2 a wkly comp to win FA Cup fina...       1\n",
       "3     U dun say so early hor... U c already then say...       0\n",
       "4     Nah I don't think he goes to usf, he lives aro...       0\n",
       "...                                                 ...     ...\n",
       "5567  This is the 2nd time we have tried 2 contact u...       1\n",
       "5568              Will Ì_ b going to esplanade fr home?       0\n",
       "5569  Pity, * was in mood for that. So...any other s...       0\n",
       "5570  The guy did some bitching but I acted like i'd...       0\n",
       "5571                         Rofl. Its true to its name       0\n",
       "\n",
       "[5572 rows x 2 columns]"
      ]
     },
     "execution_count": 12,
     "metadata": {},
     "output_type": "execute_result"
    }
   ],
   "source": [
    "# np.where(조건, 참일 경우, 거짓일 경우)\n",
    "# 정답지(target)을 1과 0으로 변경 (머신러닝 모델을 짜고 싶다면 이렇게 변경해야 한다)\n",
    "spam['target'] = np.where(spam['target']=='spam',1,0)\n",
    "\n",
    "# 이 셀을 두 번 실행시키면 값이 달라지는데 그 이유는 아시겠죠?\n",
    "spam"
   ]
  },
  {
   "attachments": {},
   "cell_type": "markdown",
   "metadata": {},
   "source": [
    "spam의 문자열 수와, non_spam의 문자열 개수의 평균을 구해봅시다"
   ]
  },
  {
   "cell_type": "code",
   "execution_count": 30,
   "metadata": {},
   "outputs": [],
   "source": [
    "# apply에 함수를 넣어주는데 지금까지 우리는 우리가 만들어준 함수인 lambda를 넣어줬습니다\n",
    "## 하지만, len과 같은 파이썬 내장 함수도 적용할 수 있습니다\n",
    "avg_0 = spam.loc[spam.target == 0][\"text\"].apply(len).mean()\n",
    "avg_1 = spam.loc[spam.target == 1][\"text\"].apply(len).mean()"
   ]
  },
  {
   "cell_type": "code",
   "execution_count": 33,
   "metadata": {},
   "outputs": [
    {
     "data": {
      "text/plain": [
       "(71.02362694300518, 138.8661311914324)"
      ]
     },
     "execution_count": 33,
     "metadata": {},
     "output_type": "execute_result"
    }
   ],
   "source": [
    "# 결과를 확인해봅시다\n",
    "avg_0, avg_1"
   ]
  },
  {
   "attachments": {},
   "cell_type": "markdown",
   "metadata": {},
   "source": [
    "    Spam과 Non Spam 메일에 숫자가 평균적으로 몇 번 들어가 있을까요\n",
    "\n",
    "정규표현식 소개 (Regular Expression)\n",
    "\n",
    "* import re\n",
    "\n",
    "* 자연어처리(NLP)를 할 때 매우 유용하게 사용함\n",
    "\n",
    "* 단어의 규칙, 뭉치 등을 찾아올 때 편하다\n",
    "\n",
    "* 정규표현식 하나만으로도 책 한권이 나오는 분량입니다. 이런게 있다고만 알고 계시고, 나중에 필요할 때 공부하시면 될 것 같습니다"
   ]
  },
  {
   "cell_type": "code",
   "execution_count": 39,
   "metadata": {},
   "outputs": [],
   "source": [
    "# 이 문자열에서 가격만 추출해볼까요?\n",
    "string = \"한 주당 1,000원, 시가총액은 300,000,000원입니다\""
   ]
  },
  {
   "cell_type": "code",
   "execution_count": 38,
   "metadata": {},
   "outputs": [
    {
     "data": {
      "text/plain": [
       "['1,000원', '300,000,000원']"
      ]
     },
     "execution_count": 38,
     "metadata": {},
     "output_type": "execute_result"
    }
   ],
   "source": [
    "# Regular Expression 모듈은 import re로 불러올 수 있습니다\n",
    "import re\n",
    "\n",
    "# re에는 여러 함수가 있는데, 그 중에서도 규칙에 맞는 모든 단어를 찾아오는 findall 함수를 사용해 보겠습니다\n",
    "re.findall(\"[0-9,]+원\", string)\n",
    "\n",
    "## [0-9,] -> 0과 9사이의 모든 숫자 그리고 쉼표(,)를 찾아오라는 의미 \n",
    "## +      -> More than One\n",
    "## 원     -> \"원\""
   ]
  },
  {
   "cell_type": "code",
   "execution_count": 41,
   "metadata": {},
   "outputs": [
    {
     "data": {
      "text/plain": [
       "0       Go until jurong point, crazy.. Available only ...\n",
       "1                           Ok lar... Joking wif u oni...\n",
       "2       Free entry in 2 a wkly comp to win FA Cup fina...\n",
       "3       U dun say so early hor... U c already then say...\n",
       "4       Nah I don't think he goes to usf, he lives aro...\n",
       "                              ...                        \n",
       "5567    This is the 2nd time we have tried 2 contact u...\n",
       "5568                Will Ì_ b going to esplanade fr home?\n",
       "5569    Pity, * was in mood for that. So...any other s...\n",
       "5570    The guy did some bitching but I acted like i'd...\n",
       "5571                           Rofl. Its true to its name\n",
       "Name: text, Length: 5572, dtype: object"
      ]
     },
     "execution_count": 41,
     "metadata": {},
     "output_type": "execute_result"
    }
   ],
   "source": [
    "# Spam 매일과 Non-spam 매일에 들어있는 숫자의 개수를 구해봅시다\n",
    "\n",
    "spam[\"text\"]\n",
    "## 여기에 정규표현식을 이용한 함수를 만들어서 apply에 넣어주면 되겠죠?"
   ]
  },
  {
   "cell_type": "code",
   "execution_count": 44,
   "metadata": {},
   "outputs": [],
   "source": [
    "# 함수를 짜줍시다\n",
    "def count_digit(x): # x가 하나의 메일 text가 된다 (lambda x: 의 x와 동일하다고 생각하면 된다)\n",
    "    pure_digit = re.findall('[0-9]',x) \n",
    "    len_digit = len(pure_digit)\n",
    "    return len_digit"
   ]
  },
  {
   "cell_type": "code",
   "execution_count": 49,
   "metadata": {},
   "outputs": [
    {
     "data": {
      "text/plain": [
       "(0.2992746113989637, 15.759036144578314)"
      ]
     },
     "execution_count": 49,
     "metadata": {},
     "output_type": "execute_result"
    }
   ],
   "source": [
    "# apply에 넣어줍시다\n",
    "digit_0 = spam.loc[spam.target == 0][\"text\"].apply(count_digit)\n",
    "digit_1 = spam.loc[spam.target == 1][\"text\"].apply(count_digit)\n",
    "\n",
    "# 개수의 평균을 구해봅시다 -> spam 메일이 숫자가 많이 들어가 있군요\n",
    "digit_0.mean(), digit_1.mean()"
   ]
  },
  {
   "attachments": {},
   "cell_type": "markdown",
   "metadata": {},
   "source": [
    "정리) 새로 배운거\n",
    "\n",
    "1. np.where -> 퀀트에서도 많이 씀\n",
    "\n",
    "2. Regular Expression\n",
    "\n",
    "3. apply에 직접 짠 함수 넣기"
   ]
  },
  {
   "attachments": {},
   "cell_type": "markdown",
   "metadata": {},
   "source": [
    "## Machine Learning Basic 2\n",
    "\n",
    "지난주 수업에 이어서 scikit-learn을 사용한 머신러닝을 배워보겠습니다\n",
    "\n",
    "주가를 예측하는 간단한 머신러닝 모델을 만들어 보겠습니다"
   ]
  },
  {
   "cell_type": "code",
   "execution_count": 57,
   "metadata": {},
   "outputs": [
    {
     "data": {
      "text/html": [
       "<div>\n",
       "<style scoped>\n",
       "    .dataframe tbody tr th:only-of-type {\n",
       "        vertical-align: middle;\n",
       "    }\n",
       "\n",
       "    .dataframe tbody tr th {\n",
       "        vertical-align: top;\n",
       "    }\n",
       "\n",
       "    .dataframe thead th {\n",
       "        text-align: right;\n",
       "    }\n",
       "</style>\n",
       "<table border=\"1\" class=\"dataframe\">\n",
       "  <thead>\n",
       "    <tr style=\"text-align: right;\">\n",
       "      <th></th>\n",
       "      <th>BTC</th>\n",
       "      <th>NYSE</th>\n",
       "      <th>NASDAQ</th>\n",
       "      <th>LSE</th>\n",
       "      <th>BTC_Volume</th>\n",
       "      <th>NYSE_Volume</th>\n",
       "      <th>NASDAQ_Volume</th>\n",
       "      <th>LSE_Volume</th>\n",
       "    </tr>\n",
       "    <tr>\n",
       "      <th>Date</th>\n",
       "      <th></th>\n",
       "      <th></th>\n",
       "      <th></th>\n",
       "      <th></th>\n",
       "      <th></th>\n",
       "      <th></th>\n",
       "      <th></th>\n",
       "      <th></th>\n",
       "    </tr>\n",
       "  </thead>\n",
       "  <tbody>\n",
       "    <tr>\n",
       "      <th>2018-01-02</th>\n",
       "      <td>14982.09961</td>\n",
       "      <td>12902.71973</td>\n",
       "      <td>7006.899902</td>\n",
       "      <td>3742.0</td>\n",
       "      <td>1.684660e+10</td>\n",
       "      <td>3397430000</td>\n",
       "      <td>1929700000</td>\n",
       "      <td>497857</td>\n",
       "    </tr>\n",
       "    <tr>\n",
       "      <th>2018-01-03</th>\n",
       "      <td>15201.00000</td>\n",
       "      <td>12957.28027</td>\n",
       "      <td>7065.529785</td>\n",
       "      <td>3749.0</td>\n",
       "      <td>1.687190e+10</td>\n",
       "      <td>3544030000</td>\n",
       "      <td>2173130000</td>\n",
       "      <td>1009997</td>\n",
       "    </tr>\n",
       "    <tr>\n",
       "      <th>2018-01-04</th>\n",
       "      <td>15599.20020</td>\n",
       "      <td>13028.45996</td>\n",
       "      <td>7077.910156</td>\n",
       "      <td>3749.0</td>\n",
       "      <td>2.178320e+10</td>\n",
       "      <td>3697340000</td>\n",
       "      <td>2103220000</td>\n",
       "      <td>669448</td>\n",
       "    </tr>\n",
       "    <tr>\n",
       "      <th>2018-01-05</th>\n",
       "      <td>17429.50000</td>\n",
       "      <td>13103.23047</td>\n",
       "      <td>7136.560059</td>\n",
       "      <td>3758.0</td>\n",
       "      <td>2.384090e+10</td>\n",
       "      <td>3239280000</td>\n",
       "      <td>2024000000</td>\n",
       "      <td>2225274</td>\n",
       "    </tr>\n",
       "    <tr>\n",
       "      <th>2018-01-08</th>\n",
       "      <td>15170.09961</td>\n",
       "      <td>13114.34961</td>\n",
       "      <td>7157.390137</td>\n",
       "      <td>3744.0</td>\n",
       "      <td>1.841390e+10</td>\n",
       "      <td>3246160000</td>\n",
       "      <td>2055010000</td>\n",
       "      <td>930995</td>\n",
       "    </tr>\n",
       "    <tr>\n",
       "      <th>...</th>\n",
       "      <td>...</td>\n",
       "      <td>...</td>\n",
       "      <td>...</td>\n",
       "      <td>...</td>\n",
       "      <td>...</td>\n",
       "      <td>...</td>\n",
       "      <td>...</td>\n",
       "      <td>...</td>\n",
       "    </tr>\n",
       "    <tr>\n",
       "      <th>2022-12-23</th>\n",
       "      <td>16796.95313</td>\n",
       "      <td>15188.45020</td>\n",
       "      <td>10497.860350</td>\n",
       "      <td>7130.0</td>\n",
       "      <td>1.532927e+10</td>\n",
       "      <td>2819280000</td>\n",
       "      <td>3544680000</td>\n",
       "      <td>141614</td>\n",
       "    </tr>\n",
       "    <tr>\n",
       "      <th>2022-12-27</th>\n",
       "      <td>16717.17383</td>\n",
       "      <td>15218.25977</td>\n",
       "      <td>10353.230470</td>\n",
       "      <td>7130.0</td>\n",
       "      <td>1.574858e+10</td>\n",
       "      <td>3030300000</td>\n",
       "      <td>3827290000</td>\n",
       "      <td>141614</td>\n",
       "    </tr>\n",
       "    <tr>\n",
       "      <th>2022-12-28</th>\n",
       "      <td>16552.57227</td>\n",
       "      <td>15037.32031</td>\n",
       "      <td>10213.290040</td>\n",
       "      <td>7128.0</td>\n",
       "      <td>1.700571e+10</td>\n",
       "      <td>3083520000</td>\n",
       "      <td>3842970000</td>\n",
       "      <td>490323</td>\n",
       "    </tr>\n",
       "    <tr>\n",
       "      <th>2022-12-29</th>\n",
       "      <td>16642.34180</td>\n",
       "      <td>15241.20996</td>\n",
       "      <td>10478.089840</td>\n",
       "      <td>7212.0</td>\n",
       "      <td>1.447224e+10</td>\n",
       "      <td>3003680000</td>\n",
       "      <td>4154100000</td>\n",
       "      <td>457006</td>\n",
       "    </tr>\n",
       "    <tr>\n",
       "      <th>2022-12-30</th>\n",
       "      <td>16602.58594</td>\n",
       "      <td>15184.30957</td>\n",
       "      <td>10466.480470</td>\n",
       "      <td>7136.0</td>\n",
       "      <td>1.592916e+10</td>\n",
       "      <td>2979870000</td>\n",
       "      <td>3959030000</td>\n",
       "      <td>226505</td>\n",
       "    </tr>\n",
       "  </tbody>\n",
       "</table>\n",
       "<p>1259 rows × 8 columns</p>\n",
       "</div>"
      ],
      "text/plain": [
       "                    BTC         NYSE        NASDAQ     LSE    BTC_Volume  \\\n",
       "Date                                                                       \n",
       "2018-01-02  14982.09961  12902.71973   7006.899902  3742.0  1.684660e+10   \n",
       "2018-01-03  15201.00000  12957.28027   7065.529785  3749.0  1.687190e+10   \n",
       "2018-01-04  15599.20020  13028.45996   7077.910156  3749.0  2.178320e+10   \n",
       "2018-01-05  17429.50000  13103.23047   7136.560059  3758.0  2.384090e+10   \n",
       "2018-01-08  15170.09961  13114.34961   7157.390137  3744.0  1.841390e+10   \n",
       "...                 ...          ...           ...     ...           ...   \n",
       "2022-12-23  16796.95313  15188.45020  10497.860350  7130.0  1.532927e+10   \n",
       "2022-12-27  16717.17383  15218.25977  10353.230470  7130.0  1.574858e+10   \n",
       "2022-12-28  16552.57227  15037.32031  10213.290040  7128.0  1.700571e+10   \n",
       "2022-12-29  16642.34180  15241.20996  10478.089840  7212.0  1.447224e+10   \n",
       "2022-12-30  16602.58594  15184.30957  10466.480470  7136.0  1.592916e+10   \n",
       "\n",
       "            NYSE_Volume  NASDAQ_Volume  LSE_Volume  \n",
       "Date                                                \n",
       "2018-01-02   3397430000     1929700000      497857  \n",
       "2018-01-03   3544030000     2173130000     1009997  \n",
       "2018-01-04   3697340000     2103220000      669448  \n",
       "2018-01-05   3239280000     2024000000     2225274  \n",
       "2018-01-08   3246160000     2055010000      930995  \n",
       "...                 ...            ...         ...  \n",
       "2022-12-23   2819280000     3544680000      141614  \n",
       "2022-12-27   3030300000     3827290000      141614  \n",
       "2022-12-28   3083520000     3842970000      490323  \n",
       "2022-12-29   3003680000     4154100000      457006  \n",
       "2022-12-30   2979870000     3959030000      226505  \n",
       "\n",
       "[1259 rows x 8 columns]"
      ]
     },
     "execution_count": 57,
     "metadata": {},
     "output_type": "execute_result"
    }
   ],
   "source": [
    "# 데이터셋을 불러오겠습니다\n",
    "df = pd.read_csv(\"Data/coin_prediction.csv\", index_col=0,\n",
    "                  parse_dates=True)\n",
    "df\n",
    "\n",
    "# 고려할 점은 많지만, 단순화를 위해 복잡한 상황은 고려하지 않겠습니다\n",
    "## 여러 변수로 다음날 BTC 가격을 예측하는 머신러닝 모델을 짜보겠습니다"
   ]
  },
  {
   "cell_type": "code",
   "execution_count": 59,
   "metadata": {},
   "outputs": [
    {
     "data": {
      "text/plain": [
       "Date\n",
       "2018-01-02         NaN\n",
       "2018-01-03    0.014611\n",
       "2018-01-04    0.026196\n",
       "2018-01-05    0.117333\n",
       "2018-01-08   -0.129631\n",
       "                ...   \n",
       "2022-12-23   -0.001984\n",
       "2022-12-27   -0.004750\n",
       "2022-12-28   -0.009846\n",
       "2022-12-29    0.005423\n",
       "2022-12-30   -0.002389\n",
       "Name: BTC, Length: 1259, dtype: float64"
      ]
     },
     "execution_count": 59,
     "metadata": {},
     "output_type": "execute_result"
    }
   ],
   "source": [
    "# 우선 정답지를 만들어 주겠습니다\n",
    "## BTC가 \"다음 날\" 오르면 1, 내리면 0으로 정답을 설정하겠습니다\n",
    "df.BTC.pct_change()"
   ]
  },
  {
   "cell_type": "code",
   "execution_count": 11,
   "metadata": {},
   "outputs": [
    {
     "data": {
      "text/plain": [
       "(0, 0)"
      ]
     },
     "execution_count": 11,
     "metadata": {},
     "output_type": "execute_result"
    }
   ],
   "source": [
    "# 결측치 있는 지 확인\n",
    "X.isnull().sum().sum() , y.isna().sum().sum()   # na와 null은 동일하다, 둘 중 하나가 더 익숙한 사람을 위해 만들어 둔 것"
   ]
  },
  {
   "cell_type": "code",
   "execution_count": 12,
   "metadata": {},
   "outputs": [
    {
     "data": {
      "text/plain": [
       "((142, 13), (36, 13))"
      ]
     },
     "execution_count": 12,
     "metadata": {},
     "output_type": "execute_result"
    }
   ],
   "source": [
    "# 훈련셋과 테스트 셋 분리해주기\n",
    "from sklearn.model_selection import train_test_split\n",
    "\n",
    "X_train, X_test, y_train, y_test = train_test_split(X,y_binary, train_size=0.8) # default 0.75\n",
    "X_train.shape, X_test.shape"
   ]
  },
  {
   "attachments": {},
   "cell_type": "markdown",
   "metadata": {},
   "source": [
    "### 분류기 평가 Metric \n",
    "\n",
    "\n",
    "* 정확도 / 정밀도 / 재현율"
   ]
  },
  {
   "cell_type": "code",
   "execution_count": 13,
   "metadata": {},
   "outputs": [
    {
     "data": {
      "text/plain": [
       "DecisionTreeClassifier()"
      ]
     },
     "execution_count": 13,
     "metadata": {},
     "output_type": "execute_result"
    }
   ],
   "source": [
    "# 간단하게 모형 만들어보기\n",
    "from sklearn.tree import DecisionTreeClassifier\n",
    "\n",
    "tree_model = DecisionTreeClassifier()\n",
    "tree_model.fit(X_train, y_train) "
   ]
  },
  {
   "cell_type": "code",
   "execution_count": 14,
   "metadata": {},
   "outputs": [
    {
     "data": {
      "text/plain": [
       "array([0.12854147, 0.        , 0.02865278, 0.        , 0.01884874,\n",
       "       0.        , 0.        , 0.        , 0.        , 0.70258949,\n",
       "       0.04045584, 0.08091168, 0.        ])"
      ]
     },
     "execution_count": 14,
     "metadata": {},
     "output_type": "execute_result"
    }
   ],
   "source": [
    "# Tree기반 모델은 변수 중요도(feature_importance)를 확인할 수 있습니다\n",
    "tree_model.feature_importances_"
   ]
  },
  {
   "cell_type": "code",
   "execution_count": 15,
   "metadata": {},
   "outputs": [
    {
     "data": {
      "text/plain": [
       "array(['alcohol', 'malic_acid', 'ash', 'alcalinity_of_ash', 'magnesium',\n",
       "       'total_phenols', 'flavanoids', 'nonflavanoid_phenols',\n",
       "       'proanthocyanins', 'color_intensity', 'hue',\n",
       "       'od280/od315_of_diluted_wines', 'proline'], dtype=object)"
      ]
     },
     "execution_count": 15,
     "metadata": {},
     "output_type": "execute_result"
    }
   ],
   "source": [
    "tree_model.feature_names_in_ # petal은 꽃잎"
   ]
  },
  {
   "cell_type": "code",
   "execution_count": 16,
   "metadata": {},
   "outputs": [
    {
     "data": {
      "text/plain": [
       "1.0"
      ]
     },
     "execution_count": 16,
     "metadata": {},
     "output_type": "execute_result"
    }
   ],
   "source": [
    "# 분류기의 경우에 score는 단순한 정확도를 리턴 (accuracy score)\n",
    "tree_model.score(X_train, y_train)\n",
    "\n",
    "# 단일 Tree는 무조건 오버피팅 하기 때문에, 정확도가 1.0이 나오는 것을 확인할 수 있다."
   ]
  },
  {
   "cell_type": "code",
   "execution_count": 17,
   "metadata": {},
   "outputs": [
    {
     "data": {
      "text/plain": [
       "1.0"
      ]
     },
     "execution_count": 17,
     "metadata": {},
     "output_type": "execute_result"
    }
   ],
   "source": [
    "# test-set에 대한 점수를 확인해 봅시다\n",
    "tree_model.score(X_test,y_test)"
   ]
  },
  {
   "attachments": {},
   "cell_type": "markdown",
   "metadata": {},
   "source": [
    "목표로 하는 task에 따라서 중요하게 생각해야하는 Metric이 달라진다 (통계학의 1종오류, 2종오류 개념과 유사)\n",
    "\n",
    "* 정확도(Accuracy)  : 전체 데이터 수 중 예측 결과와 실제 값이 동일한 건수(TN + TP)가 차지하는 비율\n",
    "\n",
    "* 정밀도(Precision) : 예측을 Positive로 한 대상(FP + TP) 중 예측과 실제 값이 Positive로 일치한 데이터(TP)의 비율\n",
    "\n",
    "* 재현율(Recall) : 실제가 Positive인 대상(FN + TP) 중 예측과 실제 값이 Positive로 일치한 데이터(TP)의 비율\n",
    "\n"
   ]
  },
  {
   "cell_type": "code",
   "execution_count": 18,
   "metadata": {},
   "outputs": [
    {
     "data": {
      "text/plain": [
       "array([[17,  0],\n",
       "       [ 0, 19]], dtype=int64)"
      ]
     },
     "execution_count": 18,
     "metadata": {},
     "output_type": "execute_result"
    }
   ],
   "source": [
    "from sklearn.metrics import confusion_matrix\n",
    "\n",
    "confusion_matrix(y_test,\n",
    "                 tree_model.predict(X_test)) # 실제는 positive인데, 예측을 negative로 한 값이 하나 존재한다"
   ]
  },
  {
   "cell_type": "code",
   "execution_count": 19,
   "metadata": {},
   "outputs": [
    {
     "name": "stdout",
     "output_type": "stream",
     "text": [
      "모델의 정확도:  1.0\n",
      "모델의 정밀도:  1.0\n",
      "모델의 재현율:  1.0\n"
     ]
    }
   ],
   "source": [
    "# 분류의 경우 정확도 말고도 사용할 수 있는 다양한 성능평가 지표들이 있습니다. \n",
    "## 그 중에서 정밀도와 재현율을 배워보겠습니다\n",
    "\n",
    "from sklearn.metrics import precision_score, recall_score\n",
    "\n",
    "print(\"모델의 정확도: \", tree_model.score(X_test,y_test))\n",
    "print(\"모델의 정밀도: \", precision_score(y_test, tree_model.predict(X_test)))\n",
    "print(\"모델의 재현율: \", recall_score(y_test, tree_model.predict(X_test)))"
   ]
  },
  {
   "attachments": {},
   "cell_type": "markdown",
   "metadata": {},
   "source": [
    "### Cross-Validation\n",
    "\n",
    "* Test-set을 미리 들여다 보는 우를 범하지 않기 위해 사용함"
   ]
  },
  {
   "cell_type": "code",
   "execution_count": 20,
   "metadata": {},
   "outputs": [
    {
     "name": "stderr",
     "output_type": "stream",
     "text": [
      "[Parallel(n_jobs=-1)]: Using backend LokyBackend with 16 concurrent workers.\n",
      "[Parallel(n_jobs=-1)]: Done   5 out of   5 | elapsed:    3.5s finished\n"
     ]
    }
   ],
   "source": [
    "# 훈련하고 성과 측정하기 \n",
    "from sklearn.model_selection import cross_val_score\n",
    "\n",
    "tree_model = DecisionTreeClassifier()\n",
    "\n",
    "# cv=5이면 데이터를 5번 쪼갠다. 데이터는 반드시 Random해야 한다!\n",
    "cv_score = cross_val_score(tree_model, X_train, y_train, \n",
    "                           cv=5, n_jobs=-1, verbose=True)"
   ]
  },
  {
   "cell_type": "code",
   "execution_count": 21,
   "metadata": {},
   "outputs": [
    {
     "name": "stdout",
     "output_type": "stream",
     "text": [
      "[0.93103448 0.82758621 0.89285714 0.96428571 0.96428571]\n"
     ]
    },
    {
     "data": {
      "text/plain": [
       "0.9160098522167488"
      ]
     },
     "execution_count": 21,
     "metadata": {},
     "output_type": "execute_result"
    }
   ],
   "source": [
    "print(cv_score)\n",
    "\n",
    "# cv_score의 평균\n",
    "cv_score.mean()"
   ]
  },
  {
   "attachments": {},
   "cell_type": "markdown",
   "metadata": {},
   "source": [
    "### Grid-Search \n",
    "\n",
    "* Grid-Search\n",
    "* Random-search"
   ]
  },
  {
   "cell_type": "code",
   "execution_count": 22,
   "metadata": {},
   "outputs": [
    {
     "name": "stdout",
     "output_type": "stream",
     "text": [
      "Fitting 10 folds for each of 10 candidates, totalling 100 fits\n"
     ]
    },
    {
     "data": {
      "text/plain": [
       "{'criterion': 'gini', 'max_depth': 40}"
      ]
     },
     "execution_count": 22,
     "metadata": {},
     "output_type": "execute_result"
    }
   ],
   "source": [
    "from sklearn.model_selection import GridSearchCV\n",
    "\n",
    "tree_model = DecisionTreeClassifier()\n",
    "\n",
    "param_grid = {\"criterion\" : [\"gini\",\"entropy\"],  \n",
    "              'max_depth': [10,20,30,40,50]} \n",
    "\n",
    "model_reg = GridSearchCV(tree_model, param_grid, \n",
    "                         cv=10, verbose=True, n_jobs=-1)\n",
    "model_reg.fit(X_train,y_train)\n",
    "\n",
    "model_reg.best_params_"
   ]
  },
  {
   "cell_type": "code",
   "execution_count": 23,
   "metadata": {},
   "outputs": [
    {
     "data": {
      "text/plain": [
       "1.0"
      ]
     },
     "execution_count": 23,
     "metadata": {},
     "output_type": "execute_result"
    }
   ],
   "source": [
    "model_reg.score(X_train, y_train)"
   ]
  },
  {
   "cell_type": "code",
   "execution_count": 24,
   "metadata": {},
   "outputs": [
    {
     "name": "stdout",
     "output_type": "stream",
     "text": [
      "Fitting 5 folds for each of 10 candidates, totalling 50 fits\n"
     ]
    },
    {
     "data": {
      "text/plain": [
       "RandomizedSearchCV(cv=5, estimator=DecisionTreeClassifier(), n_jobs=-1,\n",
       "                   param_distributions={'max_depth': range(10, 40)},\n",
       "                   verbose=True)"
      ]
     },
     "execution_count": 24,
     "metadata": {},
     "output_type": "execute_result"
    }
   ],
   "source": [
    "# Random Search\n",
    "from sklearn.model_selection import RandomizedSearchCV\n",
    "\n",
    "random_forest = DecisionTreeClassifier()\n",
    "param_grid = {'max_depth':range(10,40)}\n",
    "\n",
    "random_reg = RandomizedSearchCV(random_forest, param_grid, n_iter=10, \n",
    "                                cv=5, n_jobs=-1, verbose=True)\n",
    "random_reg.fit(X_train, y_train)"
   ]
  },
  {
   "cell_type": "code",
   "execution_count": 25,
   "metadata": {},
   "outputs": [
    {
     "data": {
      "text/plain": [
       "DecisionTreeClassifier(max_depth=35)"
      ]
     },
     "execution_count": 25,
     "metadata": {},
     "output_type": "execute_result"
    }
   ],
   "source": [
    "random_reg.best_estimator_"
   ]
  }
 ],
 "metadata": {
  "kernelspec": {
   "display_name": "base",
   "language": "python",
   "name": "python3"
  },
  "language_info": {
   "codemirror_mode": {
    "name": "ipython",
    "version": 3
   },
   "file_extension": ".py",
   "mimetype": "text/x-python",
   "name": "python",
   "nbconvert_exporter": "python",
   "pygments_lexer": "ipython3",
   "version": "3.9.13"
  },
  "orig_nbformat": 4,
  "vscode": {
   "interpreter": {
    "hash": "a077222d77dfe082b8f1dd562ad70e458ac2ab76993a0b248ab0476e32e9e8dd"
   }
  }
 },
 "nbformat": 4,
 "nbformat_minor": 2
}
