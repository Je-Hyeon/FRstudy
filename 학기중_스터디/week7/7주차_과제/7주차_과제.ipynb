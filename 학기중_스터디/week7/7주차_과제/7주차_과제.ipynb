{
 "cells": [
  {
   "attachments": {},
   "cell_type": "markdown",
   "metadata": {},
   "source": [
    "# 7주차 과제\n",
    "\n",
    "Made by 35기 코딩부장 류제현"
   ]
  },
  {
   "cell_type": "code",
   "execution_count": null,
   "metadata": {},
   "outputs": [],
   "source": [
    "import numpy as np\n",
    "import pandas as pd\n",
    "import matplotlib.pyplot as plt"
   ]
  },
  {
   "attachments": {},
   "cell_type": "markdown",
   "metadata": {},
   "source": [
    "## 1. 시계열데이터(주가) 분석"
   ]
  },
  {
   "attachments": {},
   "cell_type": "markdown",
   "metadata": {},
   "source": [
    "    1-1) 우선 삼성전자주가, 카카오주가 csv파일을 불러옵시다 \n",
    "\n",
    "            Date를 인덱스로 설정하고, datetime으로 변환해줍니다"
   ]
  },
  {
   "cell_type": "code",
   "execution_count": null,
   "metadata": {},
   "outputs": [],
   "source": []
  },
  {
   "attachments": {},
   "cell_type": "markdown",
   "metadata": {},
   "source": [
    "    1-2) 종가(Close)를 사용하여, 종가와 함께 **삼성전자**의 120일 이동평균선과 20일 이동평균선을 그려봅시다"
   ]
  },
  {
   "cell_type": "code",
   "execution_count": null,
   "metadata": {},
   "outputs": [],
   "source": []
  },
  {
   "attachments": {},
   "cell_type": "markdown",
   "metadata": {},
   "source": [
    "    1-3) 카카오 주가(종가)그래프에, 볼린저 밴드를 추가해봅시다 볼린저 밴드의 공식은 아래와 같습니다 (n=20, m=2를 사용합니다)\n",
    "\n",
    "* 볼린저 밴드는 Matplotlib의 fill_between 함수를 사용해 그릴 수 있습니다 (그림의 투명도는 alpha 매개변수로 조절합니다)\n",
    "\n",
    "---\n",
    "    볼린저 밴드 공식\n",
    "\n",
    "$BOLU = MA(TP, n) + m * \\sigma[TP, n] $\n",
    "\n",
    "$BOLD = MA(TP, n) - m * \\sigma[TP, n] $\n",
    "\n",
    "\n",
    "$Where: $\n",
    "\n",
    "$BOLU = $ Upper Bollinger Band\n",
    "\n",
    "$BOLD = $ Lower Bollinger Band\n",
    "\n",
    "$MA = $ Moving Average\n",
    "\n",
    "$TP = $ (High $+$ Low $+$ Close) $ \\div 3 $ \n",
    "\n",
    "$n = $ Number of days in smoothing period (typically 20)\n",
    "\n",
    "$m = $ Number of standard deviations (typically 2)\n",
    "\n",
    "$\\sigma[TP, n] = $ Standard Deviation over last $n$ periods of $TP$"
   ]
  },
  {
   "cell_type": "code",
   "execution_count": null,
   "metadata": {},
   "outputs": [],
   "source": []
  },
  {
   "attachments": {},
   "cell_type": "markdown",
   "metadata": {},
   "source": [
    "    1-4) 카카오와 삼성전자의 CAGR을 구해봅시다(종가(Close) 기준). 단, 연도별로 계산합니다 (Ex. 2020년:10%, 2021년:12% ...)\n",
    "\n",
    "결과는 데이터프레임으로 출력해주세요 / 마지막 열은 5년간 CAGR을 기록해주세요\n",
    "\n",
    "---\n",
    "\n",
    "$CAGR(t_0, t_n) = ({V(t_n) \\over V(t_0)})^{1 \\over {t_n - t_0}} - 1$\n",
    "\n",
    "$Where \\ V(t_0)$는 시작값, $V(t_n)$는 끝값, $t_n - t_0$는 년(year)의 수이다."
   ]
  },
  {
   "cell_type": "code",
   "execution_count": null,
   "metadata": {},
   "outputs": [],
   "source": []
  },
  {
   "cell_type": "code",
   "execution_count": null,
   "metadata": {},
   "outputs": [],
   "source": []
  },
  {
   "attachments": {},
   "cell_type": "markdown",
   "metadata": {},
   "source": [
    "## 2. 주성분 분석(PCA)과 머신러닝\n",
    "\n",
    "    음원 스트리밍 기업 Spotify에서 받아온 실제 데이터셋을 사용해 봅시다"
   ]
  },
  {
   "cell_type": "code",
   "execution_count": null,
   "metadata": {},
   "outputs": [],
   "source": [
    "spotify = pd.read_csv(\"spotify.csv\")\n",
    "print(spotify.shape) #32833개의 Data\n",
    "\n",
    "# 컬럼의 일부만 사용하겠습니다\n",
    "spotify = spotify.loc[:,['playlist_genre', 'danceability',\n",
    "                         'energy','loudness','speechiness', 'acousticness', \n",
    "                         'instrumentalness','liveness', 'valence', 'tempo']]\n",
    "spotify.head()"
   ]
  },
  {
   "attachments": {},
   "cell_type": "markdown",
   "metadata": {},
   "source": [
    "    2-1) playlist_genre를 기준으로, 각각 특성의 평균값을 구해 봅시다. (pandas의 groupby를 사용합니다)\n",
    "\n",
    "        * 가장 energy의 평균이 높은 음악 장르는 무엇이고 그럴듯한가요?\n",
    "        * 가장 acousticness가 높은 장르는 무엇이고 그럴듯한가요? "
   ]
  },
  {
   "cell_type": "code",
   "execution_count": null,
   "metadata": {},
   "outputs": [],
   "source": []
  },
  {
   "attachments": {},
   "cell_type": "markdown",
   "metadata": {},
   "source": [
    "    2-2)  주성분 분석으로 데이터셋을 3차원으로 줄여봅시다\n",
    "\n",
    "    * 3개의 주성분은 데이터셋의 분산을 몇 퍼센트 설명하나요? \n",
    "\n",
    "* 주의: 장르는 pca 모형에 넣으면 안됩니다**"
   ]
  },
  {
   "cell_type": "code",
   "execution_count": null,
   "metadata": {},
   "outputs": [],
   "source": [
    "from sklearn.decomposition import PCA\n",
    "\n"
   ]
  },
  {
   "attachments": {},
   "cell_type": "markdown",
   "metadata": {},
   "source": [
    "    2-3) 3개의 차원으로 줄인 데이터셋을 3차원으로 시각화해봅시다\n",
    "\n",
    "    * scatter plot으로 그리는데, 각 point의 색상이 genre가 되도록 그리겠습니다. 아래 예시 코드가 이어집니다"
   ]
  },
  {
   "cell_type": "code",
   "execution_count": null,
   "metadata": {},
   "outputs": [],
   "source": [
    "# 예시코드\n",
    "\n",
    "# 데이터 생성\n",
    "x = [1,2,3,4,5,6]\n",
    "y = [1,2,3,4,5,6]\n",
    "c = [0,0,1,1,2,2]\n",
    "\n",
    "# 색상(c)을 하나의 색이 아닌, array로 주고, colormap을 의미하는 cmap을 지정해주변 됩니다\n",
    "# 컬러맵은 다양한 것이 있는데, 여기서 확인할 수 있습니다 -> https://matplotlib.org/stable/tutorials/colors/colormaps.html#sphx-glr-tutorials-colors-colormaps-py \n",
    "plt.scatter(x,y,c=c, cmap=\"cool\"); # binary, cool, hot 등.."
   ]
  },
  {
   "cell_type": "code",
   "execution_count": null,
   "metadata": {},
   "outputs": [],
   "source": [
    "# PCA로 차원을 3개로 줄인 spotify 데이터셋을 시각화해봅시다\n",
    "\n",
    "# 이 코드는 문자열로 된 장르를 숫자로 변환해줍니다(c=genre 를 해주면 되겠죠?)\n",
    "genre = spotify.playlist_genre.astype('category').cat.codes"
   ]
  },
  {
   "attachments": {},
   "cell_type": "markdown",
   "metadata": {},
   "source": [
    "    2-4) 기존 데이터셋으로, 음악 장르를 분류하는 머신러닝 모델을 만들어 봅시다 (PCA를 사용하지 않은 데이터셋으로)\n",
    "\n",
    "**아무 알고리즘이나 사용하셔도 좋습니다!**\n",
    "    \n",
    "    * Train-set과 Test-set으로 데이터셋을 분리해주세요 (sklearn의 train_test_split(X_data, y_data, stratify=y_data) 꼴로 분리해주세요)\n",
    "    * 1. 학습시간이 얼마나 걸렸나요?\n",
    "    * 2. Test-set에 대한 정확도는 얼마인가요?"
   ]
  },
  {
   "cell_type": "code",
   "execution_count": null,
   "metadata": {},
   "outputs": [],
   "source": []
  },
  {
   "cell_type": "code",
   "execution_count": null,
   "metadata": {},
   "outputs": [],
   "source": []
  },
  {
   "attachments": {},
   "cell_type": "markdown",
   "metadata": {},
   "source": [
    "    2-4) PCA로 차원을 3개로 줄인 데이터셋을 사용하여, 음악 장르를 분류하는 머신러닝 모델을 만들어 봅시다\n",
    "\n",
    "**앞에서 사용한 알고리즘과 동일한 알고리즘을 사용해주세요!**\n",
    "    \n",
    "    # PCA를 사용해, 앞에서 train-test-split으로 분리한 데이터를 3개의 차원으로 축소해주세요\n",
    "    * 1. 학습시간이 얼마나 걸렸나요?\n",
    "    * 2. Test-set에 대한 정확도는 얼마인가요?"
   ]
  },
  {
   "cell_type": "code",
   "execution_count": null,
   "metadata": {},
   "outputs": [],
   "source": []
  },
  {
   "cell_type": "code",
   "execution_count": null,
   "metadata": {},
   "outputs": [],
   "source": []
  }
 ],
 "metadata": {
  "kernelspec": {
   "display_name": "base",
   "language": "python",
   "name": "python3"
  },
  "language_info": {
   "codemirror_mode": {
    "name": "ipython",
    "version": 3
   },
   "file_extension": ".py",
   "mimetype": "text/x-python",
   "name": "python",
   "nbconvert_exporter": "python",
   "pygments_lexer": "ipython3",
   "version": "3.9.13"
  },
  "orig_nbformat": 4,
  "vscode": {
   "interpreter": {
    "hash": "a077222d77dfe082b8f1dd562ad70e458ac2ab76993a0b248ab0476e32e9e8dd"
   }
  }
 },
 "nbformat": 4,
 "nbformat_minor": 2
}
