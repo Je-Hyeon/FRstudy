{
 "cells": [
  {
   "attachments": {},
   "cell_type": "markdown",
   "metadata": {},
   "source": [
    "# 1주차 스터디 과제\n",
    "\n",
    "Made by 35기 코딩부장 류제현"
   ]
  },
  {
   "cell_type": "code",
   "execution_count": null,
   "metadata": {},
   "outputs": [],
   "source": [
    "import numpy as np\n",
    "import pandas as pd\n",
    "import matplotlib.pyplot as plt"
   ]
  },
  {
   "attachments": {},
   "cell_type": "markdown",
   "metadata": {},
   "source": [
    "## 1. 데이터 생성과 회귀분석\n",
    "\n",
    "* 데이터 생성을 이해해보고 직접 만들어보자\n",
    "* 생성한 데이터의 회귀식을 구해보자\n"
   ]
  },
  {
   "attachments": {},
   "cell_type": "markdown",
   "metadata": {},
   "source": [
    "예시: \n",
    "$\n",
    "Y = 2X + 2 \\quad (where -3<X<3$)"
   ]
  },
  {
   "cell_type": "code",
   "execution_count": null,
   "metadata": {},
   "outputs": [],
   "source": [
    "# 몇 개의 데이터를 생성할지 n으로 정한다 (ex. n=100이면 100개의 데이터 생성)\n",
    "n = 200\n",
    "\n",
    "# X축의 데이터를 생성한다. np.random.rand은 0과1사이의 랜덤한 값을 리턴한다. \n",
    "# -> 여기에 6를 곱하면 0과 6사이의 값으로 변한다(생각해보면 당연함) -> 이 값에다 3를 빼주면 -3와 3사이의 값으로 변한다!\n",
    "X = 6 * np.random.rand(n,1) - 3\n",
    "\n",
    "# 각 x값에 해당하는 y값 생성 + 랜덤한 잡음 추가(잡음앞에 양수를 곱하면 무작위 성을 키울 수 있습니다)\n",
    "y = 2*X + 2 + (2*np.random.randn(n,1))\n",
    "\n",
    "# 그림으로 그려보자\n",
    "plt.scatter(X,y);"
   ]
  },
  {
   "attachments": {},
   "cell_type": "markdown",
   "metadata": {},
   "source": [
    "**연습문제 1**\n",
    "\n",
    "$\n",
    "Y = 0.5X^2 + X + 2 \n",
    "$\n",
    "\n",
    "위 식을 따르면서, 랜덤한 잡음을 추가한 $-10<X<10$ 데이터를 생성 \n",
    "\n",
    "잡음에 3을 곱해서 무작위성을 키워주세요!"
   ]
  },
  {
   "cell_type": "code",
   "execution_count": null,
   "metadata": {},
   "outputs": [],
   "source": [
    "# 연습문제 1 풀이\n",
    "n = 200\n"
   ]
  },
  {
   "attachments": {},
   "cell_type": "markdown",
   "metadata": {},
   "source": [
    "**연습문제 2**\n",
    "\n",
    "연습문제 1에서 생성한 데이터(X,y)를 사용해서 회귀(Regression)를 해보자! \n",
    "\n",
    "정규방정식을 풀면 됩니다\n",
    "\n",
    "* 2차식을 사용한 회귀를 해야함! (힌트: np.c_[np.ones((n,1)), X, X**2])\n",
    "\n",
    "* $\\theta$ 값이 앞서 생성한 데이터와 비슷한 값이 나왔나요?\n",
    "\n",
    "* 2차 회귀선을 시각화 해봅시다 (어려울 수 있음)"
   ]
  },
  {
   "cell_type": "code",
   "execution_count": null,
   "metadata": {},
   "outputs": [],
   "source": [
    "#  연습문제 2 풀이\n"
   ]
  },
  {
   "cell_type": "code",
   "execution_count": null,
   "metadata": {},
   "outputs": [],
   "source": [
    "# 연습문제 2 시각화\n"
   ]
  },
  {
   "attachments": {},
   "cell_type": "markdown",
   "metadata": {},
   "source": [
    "**연습문제 3**\n",
    "\n",
    "싸이킷런을 사용해 연습문제 1에서 생성한 데이터(X,y)를 회귀 해보자\n",
    "\n",
    "힌트) 싸이킷런은 절편을 자동으로 추가 해주기 때문에, np.c_[X,X**2] 를 사용합니다!"
   ]
  },
  {
   "cell_type": "code",
   "execution_count": null,
   "metadata": {},
   "outputs": [],
   "source": [
    "# 연습문제 3 풀이\n",
    "\n"
   ]
  }
 ],
 "metadata": {
  "kernelspec": {
   "display_name": "base",
   "language": "python",
   "name": "python3"
  },
  "language_info": {
   "codemirror_mode": {
    "name": "ipython",
    "version": 3
   },
   "file_extension": ".py",
   "mimetype": "text/x-python",
   "name": "python",
   "nbconvert_exporter": "python",
   "pygments_lexer": "ipython3",
   "version": "3.9.13"
  },
  "orig_nbformat": 4,
  "vscode": {
   "interpreter": {
    "hash": "a077222d77dfe082b8f1dd562ad70e458ac2ab76993a0b248ab0476e32e9e8dd"
   }
  }
 },
 "nbformat": 4,
 "nbformat_minor": 2
}
